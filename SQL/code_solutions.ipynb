{
 "cells": [
  {
   "cell_type": "markdown",
   "metadata": {},
   "source": [
    "# 175. Combine Two Tables\n",
    "\n",
    "- Level: Easy\n",
    "- Double click this markdown to see the main information or see ReadMe.md\n",
    "\n",
    "\n",
    "Table: Person\n",
    "\n",
    "+-------------+---------+\n",
    "| Column Name | Type    |\n",
    "+-------------+---------+\n",
    "| personId    | int     |\n",
    "| lastName    | varchar |\n",
    "| firstName   | varchar |\n",
    "+-------------+---------+\n",
    "personId is the primary key (column with unique values) for this table.\n",
    "This table contains information about the ID of some persons and their first and last names.\n",
    " \n",
    "\n",
    "Table: Address\n",
    "\n",
    "+-------------+---------+\n",
    "| Column Name | Type    |\n",
    "+-------------+---------+\n",
    "| addressId   | int     |\n",
    "| personId    | int     |\n",
    "| city        | varchar |\n",
    "| state       | varchar |\n",
    "+-------------+---------+\n",
    "addressId is the primary key (column with unique values) for this table.\n",
    "Each row of this table contains information about the city and state of one person with ID = PersonId.\n",
    " \n",
    "\n",
    "Write a solution to report the first name, last name, city, and state of each person in the Person table. If the address of a personId is not present in the Address table, report null instead.\n",
    "\n",
    "Return the result table in any order.\n",
    "\n",
    "The result format is in the following example.\n",
    "\n",
    " \n",
    "\n",
    "Example 1:\n",
    "\n",
    "Input: \n",
    "Person table:\n",
    "+----------+----------+-----------+\n",
    "| personId | lastName | firstName |\n",
    "+----------+----------+-----------+\n",
    "| 1        | Wang     | Allen     |\n",
    "| 2        | Alice    | Bob       |\n",
    "+----------+----------+-----------+\n",
    "Address table:\n",
    "+-----------+----------+---------------+------------+\n",
    "| addressId | personId | city          | state      |\n",
    "+-----------+----------+---------------+------------+\n",
    "| 1         | 2        | New York City | New York   |\n",
    "| 2         | 3        | Leetcode      | California |\n",
    "+-----------+----------+---------------+------------+\n",
    "Output: \n",
    "+-----------+----------+---------------+----------+\n",
    "| firstName | lastName | city          | state    |\n",
    "+-----------+----------+---------------+----------+\n",
    "| Allen     | Wang     | Null          | Null     |\n",
    "| Bob       | Alice    | New York City | New York |\n",
    "+-----------+----------+---------------+----------+\n",
    "Explanation: \n",
    "There is no address in the address table for the personId = 1 so we return null in their city and state.\n",
    "addressId = 1 contains information about the address of personId = 2."
   ]
  },
  {
   "cell_type": "code",
   "execution_count": null,
   "metadata": {
    "vscode": {
     "languageId": "sql"
    }
   },
   "outputs": [],
   "source": [
    "Create table If Not Exists Person (personId int, firstName varchar(255), lastName varchar(255));\n",
    "Create table If Not Exists Address (addressId int, personId int, city varchar(255), state varchar(255));\n",
    "Truncate table Person;\n",
    "insert into Person (personId, lastName, firstName) values ('1', 'Wang', 'Allen');\n",
    "insert into Person (personId, lastName, firstName) values ('2', 'Alice', 'Bob');\n",
    "Truncate table Address;\n",
    "insert into Address (addressId, personId, city, state) values ('1', '2', 'New York City', 'New York');\n",
    "insert into Address (addressId, personId, city, state) values ('2', '3', 'Leetcode', 'California');"
   ]
  },
  {
   "cell_type": "code",
   "execution_count": null,
   "metadata": {
    "vscode": {
     "languageId": "sql"
    }
   },
   "outputs": [],
   "source": [
    "-- Solution\n",
    "\n",
    "SELECT p.firstName, p.lastName, a.city, a.state\n",
    "    FROM Person p\n",
    "LEFT JOIN Address a \n",
    "    ON p.personId = a.personId;\n"
   ]
  },
  {
   "cell_type": "markdown",
   "metadata": {},
   "source": [
    "# 181. Employees earning more than their managers\n",
    "\n",
    "- Level: Easy\n",
    "- Double click this markdown to see the main information or see ReadMe.md\n",
    "\n",
    "Table: Employee\n",
    "\n",
    "+-------------+---------+\n",
    "| Column Name | Type    |\n",
    "+-------------+---------+\n",
    "| id          | int     |\n",
    "| name        | varchar |\n",
    "| salary      | int     |\n",
    "| managerId   | int     |\n",
    "+-------------+---------+\n",
    "id is the primary key (column with unique values) for this table.\n",
    "Each row of this table indicates the ID of an employee, their name, salary, and the ID of their manager.\n",
    " \n",
    "\n",
    "Write a solution to find the employees who earn more than their managers.\n",
    "\n",
    "Return the result table in any order.\n",
    "\n",
    "The result format is in the following example.\n",
    "\n",
    " \n",
    "\n",
    "Example 1:\n",
    "\n",
    "Input: \n",
    "Employee table:\n",
    "+----+-------+--------+-----------+\n",
    "| id | name  | salary | managerId |\n",
    "+----+-------+--------+-----------+\n",
    "| 1  | Joe   | 70000  | 3         |\n",
    "| 2  | Henry | 80000  | 4         |\n",
    "| 3  | Sam   | 60000  | Null      |\n",
    "| 4  | Max   | 90000  | Null      |\n",
    "+----+-------+--------+-----------+\n",
    "Output: \n",
    "+----------+\n",
    "| Employee |\n",
    "+----------+\n",
    "| Joe      |\n",
    "+----------+\n",
    "Explanation: Joe is the only employee who earns more than his manager."
   ]
  },
  {
   "cell_type": "code",
   "execution_count": null,
   "metadata": {
    "vscode": {
     "languageId": "sql"
    }
   },
   "outputs": [],
   "source": [
    "Create table If Not Exists Employee (id int, name varchar(255), salary int, managerId int);\n",
    "Truncate table Employee;\n",
    "insert into Employee (id, name, salary, managerId) values ('1', 'Joe', '70000', '3');\n",
    "insert into Employee (id, name, salary, managerId) values ('2', 'Henry', '80000', '4');\n",
    "insert into Employee (id, name, salary, managerId) values ('3', 'Sam', '60000', Null);\n",
    "insert into Employee (id, name, salary, managerId) values ('4', 'Max', '90000', Null);"
   ]
  },
  {
   "cell_type": "code",
   "execution_count": null,
   "metadata": {
    "vscode": {
     "languageId": "sql"
    }
   },
   "outputs": [],
   "source": [
    "-- Solution\n",
    "\n",
    "SELECT e1.name AS Employee\n",
    "    FROM Employee e1\n",
    "    JOIN Employee e2 ON e1.managerId = e2.id\n",
    "    WHERE e1.salary > e2.salary;"
   ]
  },
  {
   "cell_type": "markdown",
   "metadata": {},
   "source": [
    "# 182. Duplicate email\n",
    "\n",
    "- Level: Easy\n",
    "- Double click this markdown to see the main information or see ReadMe.md\n",
    "\n",
    "Table: Person\n",
    "\n",
    "+-------------+---------+\n",
    "| Column Name | Type    |\n",
    "+-------------+---------+\n",
    "| id          | int     |\n",
    "| email       | varchar |\n",
    "+-------------+---------+\n",
    "id is the primary key (column with unique values) for this table.\n",
    "Each row of this table contains an email. The emails will not contain uppercase letters.\n",
    " \n",
    "\n",
    "Write a solution to report all the duplicate emails. Note that it's guaranteed that the email field is not NULL.\n",
    "\n",
    "Return the result table in any order.\n",
    "\n",
    "The result format is in the following example.\n",
    "\n",
    " \n",
    "\n",
    "Example 1:\n",
    "\n",
    "Input: \n",
    "Person table:\n",
    "+----+---------+\n",
    "| id | email   |\n",
    "+----+---------+\n",
    "| 1  | a@b.com |\n",
    "| 2  | c@d.com |\n",
    "| 3  | a@b.com |\n",
    "+----+---------+\n",
    "Output: \n",
    "+---------+\n",
    "| Email   |\n",
    "+---------+\n",
    "| a@b.com |\n",
    "+---------+\n",
    "Explanation: a@b.com is repeated two times."
   ]
  },
  {
   "cell_type": "code",
   "execution_count": null,
   "metadata": {
    "vscode": {
     "languageId": "sql"
    }
   },
   "outputs": [],
   "source": [
    "drop table Person;\n",
    "Create table If Not Exists Person (id int, email varchar(255));\n",
    "truncate table Person;\n",
    "insert into Person (id, email) values ('1', 'a@b.com');\n",
    "insert into Person (id, email) values ('2', 'c@d.com');\n",
    "insert into Person (id, email) values ('3', 'a@b.com');"
   ]
  },
  {
   "cell_type": "code",
   "execution_count": null,
   "metadata": {
    "vscode": {
     "languageId": "sql"
    }
   },
   "outputs": [],
   "source": [
    "SELECT email AS Email\n",
    "    FROM Person\n",
    "    GROUP BY email\n",
    "    HAVING COUNT(email) > 1"
   ]
  },
  {
   "cell_type": "markdown",
   "metadata": {},
   "source": [
    "# 183. Customers Who Never Order\n",
    "\n",
    "- Level: Easy\n",
    "- Double click this markdown to see the main information or see ReadMe.md\n",
    "\n",
    "Table: Customers\n",
    "\n",
    "+-------------+---------+\n",
    "| Column Name | Type    |\n",
    "+-------------+---------+\n",
    "| id          | int     |\n",
    "| name        | varchar |\n",
    "+-------------+---------+\n",
    "id is the primary key (column with unique values) for this table.\n",
    "Each row of this table indicates the ID and name of a customer.\n",
    " \n",
    "\n",
    "Table: Orders\n",
    "\n",
    "+-------------+------+\n",
    "| Column Name | Type |\n",
    "+-------------+------+\n",
    "| id          | int  |\n",
    "| customerId  | int  |\n",
    "+-------------+------+\n",
    "id is the primary key (column with unique values) for this table.\n",
    "customerId is a foreign key (reference columns) of the ID from the Customers table.\n",
    "Each row of this table indicates the ID of an order and the ID of the customer who ordered it.\n",
    " \n",
    "\n",
    "Write a solution to find all customers who never order anything.\n",
    "\n",
    "Return the result table in any order.\n",
    "\n",
    "The result format is in the following example.\n",
    "\n",
    " \n",
    "\n",
    "Example 1:\n",
    "\n",
    "Input: \n",
    "Customers table:\n",
    "+----+-------+\n",
    "| id | name  |\n",
    "+----+-------+\n",
    "| 1  | Joe   |\n",
    "| 2  | Henry |\n",
    "| 3  | Sam   |\n",
    "| 4  | Max   |\n",
    "+----+-------+\n",
    "Orders table:\n",
    "+----+------------+\n",
    "| id | customerId |\n",
    "+----+------------+\n",
    "| 1  | 3          |\n",
    "| 2  | 1          |\n",
    "+----+------------+\n",
    "Output: \n",
    "+-----------+\n",
    "| Customers |\n",
    "+-----------+\n",
    "| Henry     |\n",
    "| Max       |\n",
    "+-----------+"
   ]
  },
  {
   "cell_type": "code",
   "execution_count": null,
   "metadata": {
    "vscode": {
     "languageId": "sql"
    }
   },
   "outputs": [],
   "source": [
    "Create table If Not Exists Customers (id int, name varchar(255));\n",
    "Create table If Not Exists Orders (id int, customerId int);\n",
    "Truncate table Customers;\n",
    "insert into Customers (id, name) values ('1', 'Joe');\n",
    "insert into Customers (id, name) values ('2', 'Henry');\n",
    "insert into Customers (id, name) values ('3', 'Sam');\n",
    "insert into Customers (id, name) values ('4', 'Max');\n",
    "Truncate table Orders;\n",
    "insert into Orders (id, customerId) values ('1', '3');\n",
    "insert into Orders (id, customerId) values ('2', '1');"
   ]
  },
  {
   "cell_type": "code",
   "execution_count": null,
   "metadata": {
    "vscode": {
     "languageId": "sql"
    }
   },
   "outputs": [],
   "source": [
    "SELECT *\n",
    "    FROM Customers c \n",
    "    LEFT JOIN Orders o ON c.id = o.customerId"
   ]
  },
  {
   "cell_type": "code",
   "execution_count": null,
   "metadata": {
    "vscode": {
     "languageId": "sql"
    }
   },
   "outputs": [],
   "source": [
    "-- Solution\n",
    "\n",
    "SELECT c.name AS Customers\n",
    "    FROM Customers c \n",
    "    LEFT JOIN Orders o ON c.id = o.customerId\n",
    "    WHERE o.id IS NULL;"
   ]
  },
  {
   "cell_type": "markdown",
   "metadata": {},
   "source": [
    "# 196. Delete Duplicate Emails\n",
    "\n",
    "- Level: Easy\n",
    "- Double click this markdown to see the main information or see ReadMe.md\n",
    "\n",
    "Table: Person\n",
    "\n",
    "+-------------+---------+\n",
    "| Column Name | Type    |\n",
    "+-------------+---------+\n",
    "| id          | int     |\n",
    "| email       | varchar |\n",
    "+-------------+---------+\n",
    "id is the primary key (column with unique values) for this table.\n",
    "Each row of this table contains an email. The emails will not contain uppercase letters.\n",
    " \n",
    "\n",
    "Write a solution to delete all duplicate emails, keeping only one unique email with the smallest id.\n",
    "\n",
    "For SQL users, please note that you are supposed to write a DELETE statement and not a SELECT one.\n",
    "\n",
    "For Pandas users, please note that you are supposed to modify Person in place.\n",
    "\n",
    "After running your script, the answer shown is the Person table. The driver will first compile and run your piece of code and then show the Person table. The final order of the Person table does not matter.\n",
    "\n",
    "The result format is in the following example.\n",
    "\n",
    " \n",
    "\n",
    "Example 1:\n",
    "\n",
    "Input: \n",
    "Person table:\n",
    "+----+------------------+\n",
    "| id | email            |\n",
    "+----+------------------+\n",
    "| 1  | john@example.com |\n",
    "| 2  | bob@example.com  |\n",
    "| 3  | john@example.com |\n",
    "+----+------------------+\n",
    "Output: \n",
    "+----+------------------+\n",
    "| id | email            |\n",
    "+----+------------------+\n",
    "| 1  | john@example.com |\n",
    "| 2  | bob@example.com  |\n",
    "+----+------------------+\n",
    "Explanation: john@example.com is repeated two times. We keep the row with the smallest Id = 1."
   ]
  },
  {
   "cell_type": "code",
   "execution_count": null,
   "metadata": {
    "vscode": {
     "languageId": "sql"
    }
   },
   "outputs": [],
   "source": [
    "drop table Person;\n",
    "Create table If Not Exists Person (Id int, Email varchar(255));\n",
    "Truncate table Person;\n",
    "insert into Person (id, email) values ('1', 'john@example.com');\n",
    "insert into Person (id, email) values ('2', 'bob@example.com');\n",
    "insert into Person (id, email) values ('3', 'john@example.com');"
   ]
  },
  {
   "cell_type": "code",
   "execution_count": null,
   "metadata": {
    "vscode": {
     "languageId": "sql"
    }
   },
   "outputs": [],
   "source": [
    "SELECT email, MIN(id) AS min_id\n",
    "        FROM Person\n",
    "        GROUP BY email\n",
    "        HAVING COUNT(email) > 1"
   ]
  },
  {
   "cell_type": "code",
   "execution_count": null,
   "metadata": {
    "vscode": {
     "languageId": "sql"
    }
   },
   "outputs": [],
   "source": [
    "-- Solution\n",
    "\n",
    "DELETE p1\n",
    "    FROM Person p1\n",
    "    JOIN (\n",
    "        SELECT email, MIN(id) AS min_id\n",
    "            FROM Person\n",
    "            GROUP BY email\n",
    "            HAVING COUNT(email) > 1\n",
    "    ) AS dup_email ON (p1.email = dup_email.email AND p1.id > dup_email.min_id);"
   ]
  },
  {
   "cell_type": "markdown",
   "metadata": {},
   "source": [
    "# 197. Rising Temperature\n",
    "\n",
    "- Level: Easy\n",
    "- Double click this markdown to see the main information or see ReadMe.md\n",
    "\n",
    "Table: Weather\n",
    "\n",
    "+---------------+---------+\n",
    "| Column Name   | Type    |\n",
    "+---------------+---------+\n",
    "| id            | int     |\n",
    "| recordDate    | date    |\n",
    "| temperature   | int     |\n",
    "+---------------+---------+\n",
    "id is the column with unique values for this table.\n",
    "There are no different rows with the same recordDate.\n",
    "This table contains information about the temperature on a certain day.\n",
    " \n",
    "\n",
    "Write a solution to find all dates' Id with higher temperatures compared to its previous dates (yesterday).\n",
    "\n",
    "Return the result table in any order.\n",
    "\n",
    "The result format is in the following example.\n",
    "\n",
    " \n",
    "\n",
    "Example 1:\n",
    "\n",
    "Input: \n",
    "Weather table:\n",
    "+----+------------+-------------+\n",
    "| id | recordDate | temperature |\n",
    "+----+------------+-------------+\n",
    "| 1  | 2015-01-01 | 10          |\n",
    "| 2  | 2015-01-02 | 25          |\n",
    "| 3  | 2015-01-03 | 20          |\n",
    "| 4  | 2015-01-04 | 30          |\n",
    "+----+------------+-------------+\n",
    "Output: \n",
    "+----+\n",
    "| id |\n",
    "+----+\n",
    "| 2  |\n",
    "| 4  |\n",
    "+----+\n",
    "Explanation: \n",
    "In 2015-01-02, the temperature was higher than the previous day (10 -> 25).\n",
    "In 2015-01-04, the temperature was higher than the previous day (20 -> 30)."
   ]
  },
  {
   "cell_type": "code",
   "execution_count": null,
   "metadata": {
    "vscode": {
     "languageId": "sql"
    }
   },
   "outputs": [],
   "source": [
    "Create table If Not Exists Weather (id int, recordDate date, temperature int);\n",
    "Truncate table Weather;\n",
    "insert into Weather (id, recordDate, temperature) values ('1', '2015-01-01', '10');\n",
    "insert into Weather (id, recordDate, temperature) values ('2', '2015-01-02', '25');\n",
    "insert into Weather (id, recordDate, temperature) values ('3', '2015-01-03', '20');\n",
    "insert into Weather (id, recordDate, temperature) values ('4', '2015-01-04', '30');"
   ]
  },
  {
   "cell_type": "code",
   "execution_count": null,
   "metadata": {
    "vscode": {
     "languageId": "sql"
    }
   },
   "outputs": [],
   "source": [
    "SELECT *\n",
    "    FROM Weather w1\n",
    "    JOIN Weather w2 \n",
    "        ON DATE(w1.recordDate) = DATE(w2.recordDate) + INTERVAL 1 DAY"
   ]
  },
  {
   "cell_type": "code",
   "execution_count": null,
   "metadata": {
    "vscode": {
     "languageId": "sql"
    }
   },
   "outputs": [],
   "source": [
    "-- Solution\n",
    "SELECT w1.id\n",
    "    FROM Weather w1\n",
    "    JOIN Weather w2 \n",
    "        ON DATE(w1.recordDate) = DATE(w2.recordDate) + INTERVAL 1 DAY\n",
    "    WHERE w1.temperature > w2.temperature"
   ]
  },
  {
   "cell_type": "markdown",
   "metadata": {},
   "source": [
    "# 511. Game Play Analysis I\n",
    "\n",
    "- Level: Easy\n",
    "- Double click this markdown to see the main information or see ReadMe.md\n",
    "\n",
    "+--------------+---------+\n",
    "| Column Name  | Type    |\n",
    "+--------------+---------+\n",
    "| player_id    | int     |\n",
    "| device_id    | int     |\n",
    "| event_date   | date    |\n",
    "| games_played | int     |\n",
    "+--------------+---------+\n",
    "(player_id, event_date) is the primary key (combination of columns with unique values) of this table.\n",
    "This table shows the activity of players of some games.\n",
    "Each row is a record of a player who logged in and played a number of games (possibly 0) before logging out on someday using some device.\n",
    " \n",
    "\n",
    "Write a solution to find the first login date for each player.\n",
    "\n",
    "Return the result table in any order.\n",
    "\n",
    "The result format is in the following example.\n",
    "\n",
    " \n",
    "\n",
    "Example 1:\n",
    "\n",
    "Input: \n",
    "Activity table:\n",
    "+-----------+-----------+------------+--------------+\n",
    "| player_id | device_id | event_date | games_played |\n",
    "+-----------+-----------+------------+--------------+\n",
    "| 1         | 2         | 2016-03-01 | 5            |\n",
    "| 1         | 2         | 2016-05-02 | 6            |\n",
    "| 2         | 3         | 2017-06-25 | 1            |\n",
    "| 3         | 1         | 2016-03-02 | 0            |\n",
    "| 3         | 4         | 2018-07-03 | 5            |\n",
    "+-----------+-----------+------------+--------------+\n",
    "Output: \n",
    "+-----------+-------------+\n",
    "| player_id | first_login |\n",
    "+-----------+-------------+\n",
    "| 1         | 2016-03-01  |\n",
    "| 2         | 2017-06-25  |\n",
    "| 3         | 2016-03-02  |\n",
    "+-----------+-------------+"
   ]
  },
  {
   "cell_type": "code",
   "execution_count": null,
   "metadata": {
    "vscode": {
     "languageId": "sql"
    }
   },
   "outputs": [],
   "source": [
    "-- Active: 1715936727060@@127.0.0.1@3306@Leetcode\n",
    "Create table If Not Exists Activity (player_id int, device_id int, event_date date, games_played int)"
   ]
  },
  {
   "cell_type": "code",
   "execution_count": null,
   "metadata": {
    "vscode": {
     "languageId": "sql"
    }
   },
   "outputs": [],
   "source": [
    "Truncate table Activity"
   ]
  },
  {
   "cell_type": "code",
   "execution_count": null,
   "metadata": {
    "vscode": {
     "languageId": "sql"
    }
   },
   "outputs": [],
   "source": [
    "insert into Activity (player_id, device_id, event_date, games_played) values ('1', '2', '2016-03-01', '5');\n",
    "insert into Activity (player_id, device_id, event_date, games_played) values ('1', '2', '2016-05-02', '6');\n",
    "insert into Activity (player_id, device_id, event_date, games_played) values ('2', '3', '2017-06-25', '1');\n",
    "insert into Activity (player_id, device_id, event_date, games_played) values ('3', '1', '2016-03-02', '0');\n",
    "insert into Activity (player_id, device_id, event_date, games_played) values ('3', '4', '2018-07-03', '5');"
   ]
  },
  {
   "cell_type": "code",
   "execution_count": null,
   "metadata": {
    "vscode": {
     "languageId": "sql"
    }
   },
   "outputs": [],
   "source": [
    "SELECT *\n",
    "FROM `Activity`;"
   ]
  },
  {
   "cell_type": "code",
   "execution_count": null,
   "metadata": {
    "vscode": {
     "languageId": "sql"
    }
   },
   "outputs": [],
   "source": [
    "-- Solution\n",
    "\n",
    "SELECT player_id, MIN(event_date) AS first_login\n",
    "    FROM `Activity`\n",
    "GROUP BY player_id;"
   ]
  },
  {
   "cell_type": "markdown",
   "metadata": {},
   "source": [
    "# 577. Employee Bonus\n",
    "\n",
    "- Level: Easy\n",
    "- Double click this markdown to see the main information or see ReadMe.md\n",
    "\n",
    "Table: Employee\n",
    "\n",
    "+-------------+---------+\n",
    "| Column Name | Type    |\n",
    "+-------------+---------+\n",
    "| empId       | int     |\n",
    "| name        | varchar |\n",
    "| supervisor  | int     |\n",
    "| salary      | int     |\n",
    "+-------------+---------+\n",
    "empId is the column with unique values for this table.\n",
    "Each row of this table indicates the name and the ID of an employee in addition to their salary and the id of their manager.\n",
    " \n",
    "\n",
    "Table: Bonus\n",
    "\n",
    "+-------------+------+\n",
    "| Column Name | Type |\n",
    "+-------------+------+\n",
    "| empId       | int  |\n",
    "| bonus       | int  |\n",
    "+-------------+------+\n",
    "empId is the column of unique values for this table.\n",
    "empId is a foreign key (reference column) to empId from the Employee table.\n",
    "Each row of this table contains the id of an employee and their respective bonus.\n",
    " \n",
    "\n",
    "Write a solution to report the name and bonus amount of each employee with a bonus less than 1000.\n",
    "\n",
    "Return the result table in any order.\n",
    "\n",
    "The result format is in the following example.\n",
    "\n",
    " \n",
    "\n",
    "Example 1:\n",
    "\n",
    "Input: \n",
    "Employee table:\n",
    "+-------+--------+------------+--------+\n",
    "| empId | name   | supervisor | salary |\n",
    "+-------+--------+------------+--------+\n",
    "| 3     | Brad   | null       | 4000   |\n",
    "| 1     | John   | 3          | 1000   |\n",
    "| 2     | Dan    | 3          | 2000   |\n",
    "| 4     | Thomas | 3          | 4000   |\n",
    "+-------+--------+------------+--------+\n",
    "Bonus table:\n",
    "+-------+-------+\n",
    "| empId | bonus |\n",
    "+-------+-------+\n",
    "| 2     | 500   |\n",
    "| 4     | 2000  |\n",
    "+-------+-------+\n",
    "Output: \n",
    "+------+-------+\n",
    "| name | bonus |\n",
    "+------+-------+\n",
    "| Brad | null  |\n",
    "| John | null  |\n",
    "| Dan  | 500   |\n",
    "+------+-------+"
   ]
  },
  {
   "cell_type": "code",
   "execution_count": null,
   "metadata": {
    "vscode": {
     "languageId": "sql"
    }
   },
   "outputs": [],
   "source": [
    "drop table Employee;\n",
    "\n",
    "Create table If Not Exists Employee (empId int, name varchar(255), supervisor int, salary int);\n",
    "Create table If Not Exists Bonus (empId int, bonus int);\n",
    "Truncate table Employee;\n",
    "insert into Employee (empId, name, supervisor, salary) values ('3', 'Brad', Null, '4000');\n",
    "insert into Employee (empId, name, supervisor, salary) values ('1', 'John', '3', '1000');\n",
    "insert into Employee (empId, name, supervisor, salary) values ('2', 'Dan', '3', '2000');\n",
    "insert into Employee (empId, name, supervisor, salary) values ('4', 'Thomas', '3', '4000');\n",
    "Truncate table Bonus;\n",
    "insert into Bonus (empId, bonus) values ('2', '500');\n",
    "insert into Bonus (empId, bonus) values ('4', '2000');"
   ]
  },
  {
   "cell_type": "code",
   "execution_count": null,
   "metadata": {
    "vscode": {
     "languageId": "sql"
    }
   },
   "outputs": [],
   "source": [
    "SELECT e.name, b.bonus\n",
    "    FROM `Employee` e\n",
    "    LEFT JOIN `Bonus` b ON e.`empId` = b.`empId`\n",
    "    WHERE b.bonus < 1000 OR b.bonus IS NULL;"
   ]
  },
  {
   "cell_type": "markdown",
   "metadata": {},
   "source": [
    "# 584. Find Customer Referee\n",
    "\n",
    "- Level: Easy\n",
    "- Double click this markdown to see the main information or see ReadMe.md\n",
    "\n",
    "Table: Customer\n",
    "\n",
    "+-------------+---------+\n",
    "| Column Name | Type    |\n",
    "+-------------+---------+\n",
    "| id          | int     |\n",
    "| name        | varchar |\n",
    "| referee_id  | int     |\n",
    "+-------------+---------+\n",
    "In SQL, id is the primary key column for this table.\n",
    "Each row of this table indicates the id of a customer, their name, and the id of the customer who referred them.\n",
    " \n",
    "\n",
    "Find the names of the customer that are not referred by the customer with id = 2.\n",
    "\n",
    "Return the result table in any order.\n",
    "\n",
    "The result format is in the following example.\n",
    "\n",
    " \n",
    "\n",
    "Example 1:\n",
    "\n",
    "Input: \n",
    "Customer table:\n",
    "+----+------+------------+\n",
    "| id | name | referee_id |\n",
    "+----+------+------------+\n",
    "| 1  | Will | null       |\n",
    "| 2  | Jane | null       |\n",
    "| 3  | Alex | 2          |\n",
    "| 4  | Bill | null       |\n",
    "| 5  | Zack | 1          |\n",
    "| 6  | Mark | 2          |\n",
    "+----+------+------------+\n",
    "Output: \n",
    "+------+\n",
    "| name |\n",
    "+------+\n",
    "| Will |\n",
    "| Jane |\n",
    "| Bill |\n",
    "| Zack |\n",
    "+------+"
   ]
  },
  {
   "cell_type": "code",
   "execution_count": null,
   "metadata": {
    "vscode": {
     "languageId": "sql"
    }
   },
   "outputs": [],
   "source": [
    "Create table If Not Exists Customer (id int, name varchar(25), referee_id int);\n",
    "Truncate table Customer;\n",
    "insert into Customer (id, name, referee_id) values ('1', 'Will', NULL);\n",
    "insert into Customer (id, name, referee_id) values ('2', 'Jane', NULL);\n",
    "insert into Customer (id, name, referee_id) values ('3', 'Alex', '2');\n",
    "insert into Customer (id, name, referee_id) values ('4', 'Bill', NULL);\n",
    "insert into Customer (id, name, referee_id) values ('5', 'Zack', '1');\n",
    "insert into Customer (id, name, referee_id) values ('6', 'Mark', '2');"
   ]
  },
  {
   "cell_type": "code",
   "execution_count": null,
   "metadata": {
    "vscode": {
     "languageId": "sql"
    }
   },
   "outputs": [],
   "source": [
    "SELECT c.name\n",
    "    FROM `Customer` c\n",
    "    WHERE c.referee_id != 2 OR c.referee_id IS NULL;"
   ]
  },
  {
   "cell_type": "markdown",
   "metadata": {},
   "source": [
    "# 586. Customer Placing the Largest Number of Orders\n",
    "\n",
    "- Level: Easy\n",
    "- Double click this markdown to see the main information or see ReadMe.md\n",
    "\n",
    "Table: Orders\n",
    "\n",
    "+-----------------+----------+\n",
    "| Column Name     | Type     |\n",
    "+-----------------+----------+\n",
    "| order_number    | int      |\n",
    "| customer_number | int      |\n",
    "+-----------------+----------+\n",
    "order_number is the primary key (column with unique values) for this table.\n",
    "This table contains information about the order ID and the customer ID.\n",
    " \n",
    "\n",
    "Write a solution to find the customer_number for the customer who has placed the largest number of orders.\n",
    "\n",
    "The test cases are generated so that exactly one customer will have placed more orders than any other customer.\n",
    "\n",
    "The result format is in the following example.\n",
    "\n",
    " \n",
    "\n",
    "Example 1:\n",
    "\n",
    "Input: \n",
    "Orders table:\n",
    "+--------------+-----------------+\n",
    "| order_number | customer_number |\n",
    "+--------------+-----------------+\n",
    "| 1            | 1               |\n",
    "| 2            | 2               |\n",
    "| 3            | 3               |\n",
    "| 4            | 3               |\n",
    "+--------------+-----------------+\n",
    "Output: \n",
    "+-----------------+\n",
    "| customer_number |\n",
    "+-----------------+\n",
    "| 3               |\n",
    "+-----------------+\n",
    "Explanation: \n",
    "The customer with number 3 has two orders, which is greater than either customer 1 or 2 because each of them only has one order. \n",
    "So the result is customer_number 3."
   ]
  },
  {
   "cell_type": "code",
   "execution_count": null,
   "metadata": {
    "vscode": {
     "languageId": "sql"
    }
   },
   "outputs": [],
   "source": [
    "DROP TABLE `Orders`;\n",
    "Create table If Not Exists orders (order_number int, customer_number int);\n",
    "Truncate table orders;\n",
    "insert into orders (order_number, customer_number) values ('1', '1');\n",
    "insert into orders (order_number, customer_number) values ('2', '2');\n",
    "insert into orders (order_number, customer_number) values ('3', '3');\n",
    "insert into orders (order_number, customer_number) values ('4', '3');"
   ]
  },
  {
   "cell_type": "code",
   "execution_count": null,
   "metadata": {
    "vscode": {
     "languageId": "sql"
    }
   },
   "outputs": [],
   "source": [
    "SELECT o.customer_number\n",
    "    FROM orders o\n",
    "    GROUP BY o.customer_number\n",
    "    ORDER BY COUNT(o.customer_number) DESC\n",
    "    LIMIT 1;"
   ]
  },
  {
   "cell_type": "markdown",
   "metadata": {},
   "source": [
    "# 595. Big Countries\n",
    "\n",
    "- Level: Easy\n",
    "- Double click this markdown to see the main information or see ReadMe.md\n",
    "\n",
    "Table: World\n",
    "\n",
    "+-------------+---------+\n",
    "| Column Name | Type    |\n",
    "+-------------+---------+\n",
    "| name        | varchar |\n",
    "| continent   | varchar |\n",
    "| area        | int     |\n",
    "| population  | int     |\n",
    "| gdp         | bigint  |\n",
    "+-------------+---------+\n",
    "name is the primary key (column with unique values) for this table.\n",
    "Each row of this table gives information about the name of a country, the continent to which it belongs, its area, the population, and its GDP value.\n",
    " \n",
    "\n",
    "A country is big if:\n",
    "\n",
    "it has an area of at least three million (i.e., 3000000 km2), or\n",
    "it has a population of at least twenty-five million (i.e., 25000000).\n",
    "Write a solution to find the name, population, and area of the big countries.\n",
    "\n",
    "Return the result table in any order.\n",
    "\n",
    "The result format is in the following example.\n",
    "\n",
    " \n",
    "\n",
    "Example 1:\n",
    "\n",
    "Input: \n",
    "World table:\n",
    "+-------------+-----------+---------+------------+--------------+\n",
    "| name        | continent | area    | population | gdp          |\n",
    "+-------------+-----------+---------+------------+--------------+\n",
    "| Afghanistan | Asia      | 652230  | 25500100   | 20343000000  |\n",
    "| Albania     | Europe    | 28748   | 2831741    | 12960000000  |\n",
    "| Algeria     | Africa    | 2381741 | 37100000   | 188681000000 |\n",
    "| Andorra     | Europe    | 468     | 78115      | 3712000000   |\n",
    "| Angola      | Africa    | 1246700 | 20609294   | 100990000000 |\n",
    "+-------------+-----------+---------+------------+--------------+\n",
    "Output: \n",
    "+-------------+------------+---------+\n",
    "| name        | population | area    |\n",
    "+-------------+------------+---------+\n",
    "| Afghanistan | 25500100   | 652230  |\n",
    "| Algeria     | 37100000   | 2381741 |\n",
    "+-------------+------------+---------+"
   ]
  },
  {
   "cell_type": "code",
   "execution_count": null,
   "metadata": {
    "vscode": {
     "languageId": "sql"
    }
   },
   "outputs": [],
   "source": [
    "Create table If Not Exists World (name varchar(255), continent varchar(255), area int, population int, gdp bigint);\n",
    "Truncate table World;\n",
    "insert into World (name, continent, area, population, gdp) values ('Afghanistan', 'Asia', '652230', '25500100', '20343000000'); \n",
    "insert into World (name, continent, area, population, gdp) values ('Albania', 'Europe', '28748', '2831741', '12960000000');\n",
    "insert into World (name, continent, area, population, gdp) values ('Algeria', 'Africa', '2381741', '37100000', '188681000000');\n",
    "insert into World (name, continent, area, population, gdp) values ('Andorra', 'Europe', '468', '78115', '3712000000');\n",
    "insert into World (name, continent, area, population, gdp) values ('Angola', 'Africa', '1246700', '20609294', '100990000000');"
   ]
  },
  {
   "cell_type": "code",
   "execution_count": null,
   "metadata": {
    "vscode": {
     "languageId": "sql"
    }
   },
   "outputs": [],
   "source": [
    "SELECT w.name, w.population, w.area\n",
    "    FROM `World` w\n",
    "    WHERE w.area >= 3000000 OR w.population >= 25000000; "
   ]
  },
  {
   "cell_type": "markdown",
   "metadata": {},
   "source": [
    "# 596. Classes More Than 5 Students\n",
    "\n",
    "- Level: Easy\n",
    "- Double click this markdown to see the main information or see ReadMe.md\n",
    "\n",
    "Table: Courses\n",
    "\n",
    "+-------------+---------+\n",
    "| Column Name | Type    |\n",
    "+-------------+---------+\n",
    "| student     | varchar |\n",
    "| class       | varchar |\n",
    "+-------------+---------+\n",
    "(student, class) is the primary key (combination of columns with unique values) for this table.\n",
    "Each row of this table indicates the name of a student and the class in which they are enrolled.\n",
    " \n",
    "\n",
    "Write a solution to find all the classes that have at least five students.\n",
    "\n",
    "Return the result table in any order.\n",
    "\n",
    "The result format is in the following example.\n",
    "\n",
    " \n",
    "\n",
    "Example 1:\n",
    "\n",
    "Input: \n",
    "Courses table:\n",
    "+---------+----------+\n",
    "| student | class    |\n",
    "+---------+----------+\n",
    "| A       | Math     |\n",
    "| B       | English  |\n",
    "| C       | Math     |\n",
    "| D       | Biology  |\n",
    "| E       | Math     |\n",
    "| F       | Computer |\n",
    "| G       | Math     |\n",
    "| H       | Math     |\n",
    "| I       | Math     |\n",
    "+---------+----------+\n",
    "Output: \n",
    "+---------+\n",
    "| class   |\n",
    "+---------+\n",
    "| Math    |\n",
    "+---------+\n",
    "Explanation: \n",
    "- Math has 6 students, so we include it.\n",
    "- English has 1 student, so we do not include it.\n",
    "- Biology has 1 student, so we do not include it.\n",
    "- Computer has 1 student, so we do not include it."
   ]
  },
  {
   "cell_type": "code",
   "execution_count": null,
   "metadata": {
    "vscode": {
     "languageId": "sql"
    }
   },
   "outputs": [],
   "source": [
    "Create table If Not Exists Courses (student varchar(255), class varchar(255));\n",
    "Truncate table Courses;\n",
    "insert into Courses (student, class) values ('A', 'Math');\n",
    "insert into Courses (student, class) values ('B', 'English');\n",
    "insert into Courses (student, class) values ('C', 'Math');\n",
    "insert into Courses (student, class) values ('D', 'Biology');\n",
    "insert into Courses (student, class) values ('E', 'Math');\n",
    "insert into Courses (student, class) values ('F', 'Computer');\n",
    "insert into Courses (student, class) values ('G', 'Math');\n",
    "insert into Courses (student, class) values ('H', 'Math');\n",
    "insert into Courses (student, class) values ('I', 'Math');"
   ]
  },
  {
   "cell_type": "code",
   "execution_count": null,
   "metadata": {
    "vscode": {
     "languageId": "sql"
    }
   },
   "outputs": [],
   "source": [
    "-- Solution\n",
    "\n",
    "SELECT c.class\n",
    "    FROM `Courses` c\n",
    "    GROUP BY c.class\n",
    "    HAVING COUNT(c.class) >= 5;"
   ]
  },
  {
   "cell_type": "markdown",
   "metadata": {},
   "source": [
    "# 607. Sales Person\n",
    "\n",
    "- Level: Easy\n",
    "- Double click this markdown to see the main information or see ReadMe.md\n",
    "\n",
    "Table: SalesPerson\n",
    "\n",
    "+-----------------+---------+\n",
    "| Column Name     | Type    |\n",
    "+-----------------+---------+\n",
    "| sales_id        | int     |\n",
    "| name            | varchar |\n",
    "| salary          | int     |\n",
    "| commission_rate | int     |\n",
    "| hire_date       | date    |\n",
    "+-----------------+---------+\n",
    "sales_id is the primary key (column with unique values) for this table.\n",
    "Each row of this table indicates the name and the ID of a salesperson alongside their salary, commission rate, and hire date.\n",
    " \n",
    "\n",
    "Table: Company\n",
    "\n",
    "+-------------+---------+\n",
    "| Column Name | Type    |\n",
    "+-------------+---------+\n",
    "| com_id      | int     |\n",
    "| name        | varchar |\n",
    "| city        | varchar |\n",
    "+-------------+---------+\n",
    "com_id is the primary key (column with unique values) for this table.\n",
    "Each row of this table indicates the name and the ID of a company and the city in which the company is located.\n",
    " \n",
    "\n",
    "Table: Orders\n",
    "\n",
    "+-------------+------+\n",
    "| Column Name | Type |\n",
    "+-------------+------+\n",
    "| order_id    | int  |\n",
    "| order_date  | date |\n",
    "| com_id      | int  |\n",
    "| sales_id    | int  |\n",
    "| amount      | int  |\n",
    "+-------------+------+\n",
    "order_id is the primary key (column with unique values) for this table.\n",
    "com_id is a foreign key (reference column) to com_id from the Company table.\n",
    "sales_id is a foreign key (reference column) to sales_id from the SalesPerson table.\n",
    "Each row of this table contains information about one order. This includes the ID of the company, the ID of the salesperson, the date of the order, and the amount paid."
   ]
  },
  {
   "cell_type": "code",
   "execution_count": null,
   "metadata": {
    "vscode": {
     "languageId": "sql"
    }
   },
   "outputs": [],
   "source": [
    "Create table If Not Exists SalesPerson (sales_id int, name varchar(255), salary int, commission_rate int, hire_date date);\n",
    "Create table If Not Exists Company (com_id int, name varchar(255), city varchar(255));\n",
    "DROP TABLE orders;\n",
    "Create table If Not Exists Orders (order_id int, order_date date, com_id int, sales_id int, amount int);\n",
    "Truncate table SalesPerson;\n",
    "insert into SalesPerson (sales_id, name, salary, commission_rate, hire_date) values ('1', 'John', '100000', '6', STR_TO_DATE('4/1/2006','%m/%d/%Y'));\n",
    "insert into SalesPerson (sales_id, name, salary, commission_rate, hire_date) values ('2', 'Amy', '12000', '5', STR_TO_DATE('5/1/2010','%m/%d/%Y'));\n",
    "insert into SalesPerson (sales_id, name, salary, commission_rate, hire_date) values ('3', 'Mark', '65000', '12', STR_TO_DATE('12/25/2008','%m/%d/%Y'));\n",
    "insert into SalesPerson (sales_id, name, salary, commission_rate, hire_date) values ('4', 'Pam', '25000', '25', STR_TO_DATE('1/1/2005','%m/%d/%Y'));\n",
    "insert into SalesPerson (sales_id, name, salary, commission_rate, hire_date) values ('5', 'Alex', '5000', '10', STR_TO_DATE('2/3/2007','%m/%d/%Y'));\n",
    "Truncate table Company;\n",
    "insert into Company (com_id, name, city) values ('1', 'RED', 'Boston');\n",
    "insert into Company (com_id, name, city) values ('2', 'ORANGE', 'New York');\n",
    "insert into Company (com_id, name, city) values ('3', 'YELLOW', 'Boston');\n",
    "insert into Company (com_id, name, city) values ('4', 'GREEN', 'Austin');\n",
    "Truncate table Orders;\n",
    "insert into Orders (order_id, order_date, com_id, sales_id, amount) values ('1', STR_TO_DATE('1/1/2014','%m/%d/%Y'), '3', '4', '10000');\n",
    "insert into Orders (order_id, order_date, com_id, sales_id, amount) values ('2', STR_TO_DATE('2/1/2014','%m/%d/%Y'), '4', '5', '5000');\n",
    "insert into Orders (order_id, order_date, com_id, sales_id, amount) values ('3', STR_TO_DATE('3/1/2014','%m/%d/%Y'), '1', '1', '50000');\n",
    "insert into Orders (order_id, order_date, com_id, sales_id, amount) values ('4', STR_TO_DATE('4/1/2014','%m/%d/%Y'), '1', '4', '25000');"
   ]
  },
  {
   "cell_type": "code",
   "execution_count": null,
   "metadata": {
    "vscode": {
     "languageId": "sql"
    }
   },
   "outputs": [],
   "source": [
    "SELECT *\n",
    "    FROM `Company`;"
   ]
  },
  {
   "cell_type": "code",
   "execution_count": null,
   "metadata": {
    "vscode": {
     "languageId": "sql"
    }
   },
   "outputs": [],
   "source": [
    "SELECT *\n",
    "    FROM `Orders`;"
   ]
  },
  {
   "cell_type": "code",
   "execution_count": null,
   "metadata": {
    "vscode": {
     "languageId": "sql"
    }
   },
   "outputs": [],
   "source": [
    "SELECT *\n",
    "    FROM `SalesPerson`;"
   ]
  },
  {
   "cell_type": "code",
   "execution_count": null,
   "metadata": {
    "vscode": {
     "languageId": "sql"
    }
   },
   "outputs": [],
   "source": [
    "SELECT c.com_id\n",
    "    FROM Company c\n",
    "    WHERE c.name = 'RED'"
   ]
  },
  {
   "cell_type": "code",
   "execution_count": null,
   "metadata": {
    "vscode": {
     "languageId": "sql"
    }
   },
   "outputs": [],
   "source": [
    "SELECT DISTINCT o.sales_id\n",
    "    FROM Orders o\n",
    "    WHERE o.com_id = (\n",
    "        SELECT c.com_id\n",
    "        FROM Company c\n",
    "        WHERE c.name = 'RED'\n",
    "    )"
   ]
  },
  {
   "cell_type": "code",
   "execution_count": null,
   "metadata": {
    "vscode": {
     "languageId": "sql"
    }
   },
   "outputs": [],
   "source": [
    "SELECT s.name\n",
    "    FROM SalesPerson s\n",
    "    WHERE s.sales_id NOT IN (\n",
    "                        SELECT DISTINCT o.sales_id\n",
    "                        FROM Orders o\n",
    "                        WHERE o.com_id = (\n",
    "                            SELECT c.com_id\n",
    "                            FROM Company c\n",
    "                            WHERE c.name = 'RED'\n",
    "                        )\n",
    ");"
   ]
  }
 ],
 "metadata": {
  "language_info": {
   "name": "python"
  }
 },
 "nbformat": 4,
 "nbformat_minor": 2
}
