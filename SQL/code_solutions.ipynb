{
 "cells": [
  {
   "cell_type": "markdown",
   "metadata": {},
   "source": [
    "# 175. Combine Two Tables\n",
    "\n",
    "- Level: Easy\n",
    "- Double click this markdown to see the main information or see ReadMe.md\n",
    "\n",
    "\n",
    "Table: Person\n",
    "\n",
    "+-------------+---------+\n",
    "| Column Name | Type    |\n",
    "+-------------+---------+\n",
    "| personId    | int     |\n",
    "| lastName    | varchar |\n",
    "| firstName   | varchar |\n",
    "+-------------+---------+\n",
    "personId is the primary key (column with unique values) for this table.\n",
    "This table contains information about the ID of some persons and their first and last names.\n",
    " \n",
    "\n",
    "Table: Address\n",
    "\n",
    "+-------------+---------+\n",
    "| Column Name | Type    |\n",
    "+-------------+---------+\n",
    "| addressId   | int     |\n",
    "| personId    | int     |\n",
    "| city        | varchar |\n",
    "| state       | varchar |\n",
    "+-------------+---------+\n",
    "addressId is the primary key (column with unique values) for this table.\n",
    "Each row of this table contains information about the city and state of one person with ID = PersonId.\n",
    " \n",
    "\n",
    "Write a solution to report the first name, last name, city, and state of each person in the Person table. If the address of a personId is not present in the Address table, report null instead.\n",
    "\n",
    "Return the result table in any order.\n",
    "\n",
    "The result format is in the following example.\n",
    "\n",
    " \n",
    "\n",
    "Example 1:\n",
    "\n",
    "Input: \n",
    "Person table:\n",
    "+----------+----------+-----------+\n",
    "| personId | lastName | firstName |\n",
    "+----------+----------+-----------+\n",
    "| 1        | Wang     | Allen     |\n",
    "| 2        | Alice    | Bob       |\n",
    "+----------+----------+-----------+\n",
    "Address table:\n",
    "+-----------+----------+---------------+------------+\n",
    "| addressId | personId | city          | state      |\n",
    "+-----------+----------+---------------+------------+\n",
    "| 1         | 2        | New York City | New York   |\n",
    "| 2         | 3        | Leetcode      | California |\n",
    "+-----------+----------+---------------+------------+\n",
    "Output: \n",
    "+-----------+----------+---------------+----------+\n",
    "| firstName | lastName | city          | state    |\n",
    "+-----------+----------+---------------+----------+\n",
    "| Allen     | Wang     | Null          | Null     |\n",
    "| Bob       | Alice    | New York City | New York |\n",
    "+-----------+----------+---------------+----------+\n",
    "Explanation: \n",
    "There is no address in the address table for the personId = 1 so we return null in their city and state.\n",
    "addressId = 1 contains information about the address of personId = 2."
   ]
  },
  {
   "cell_type": "code",
   "execution_count": null,
   "metadata": {
    "vscode": {
     "languageId": "sql"
    }
   },
   "outputs": [],
   "source": [
    "Create table If Not Exists Person (personId int, firstName varchar(255), lastName varchar(255));\n",
    "Create table If Not Exists Address (addressId int, personId int, city varchar(255), state varchar(255));\n",
    "Truncate table Person;\n",
    "insert into Person (personId, lastName, firstName) values ('1', 'Wang', 'Allen');\n",
    "insert into Person (personId, lastName, firstName) values ('2', 'Alice', 'Bob');\n",
    "Truncate table Address;\n",
    "insert into Address (addressId, personId, city, state) values ('1', '2', 'New York City', 'New York');\n",
    "insert into Address (addressId, personId, city, state) values ('2', '3', 'Leetcode', 'California');"
   ]
  },
  {
   "cell_type": "code",
   "execution_count": null,
   "metadata": {
    "vscode": {
     "languageId": "sql"
    }
   },
   "outputs": [],
   "source": [
    "-- Solution\n",
    "\n",
    "SELECT p.firstName, p.lastName, a.city, a.state\n",
    "    FROM Person p\n",
    "LEFT JOIN Address a \n",
    "    ON p.personId = a.personId;\n"
   ]
  },
  {
   "cell_type": "markdown",
   "metadata": {},
   "source": [
    "# 181. Employees earning more than their managers\n",
    "\n",
    "- Level: Easy\n",
    "- Double click this markdown to see the main information or see ReadMe.md\n",
    "\n",
    "Table: Employee\n",
    "\n",
    "+-------------+---------+\n",
    "| Column Name | Type    |\n",
    "+-------------+---------+\n",
    "| id          | int     |\n",
    "| name        | varchar |\n",
    "| salary      | int     |\n",
    "| managerId   | int     |\n",
    "+-------------+---------+\n",
    "id is the primary key (column with unique values) for this table.\n",
    "Each row of this table indicates the ID of an employee, their name, salary, and the ID of their manager.\n",
    " \n",
    "\n",
    "Write a solution to find the employees who earn more than their managers.\n",
    "\n",
    "Return the result table in any order.\n",
    "\n",
    "The result format is in the following example.\n",
    "\n",
    " \n",
    "\n",
    "Example 1:\n",
    "\n",
    "Input: \n",
    "Employee table:\n",
    "+----+-------+--------+-----------+\n",
    "| id | name  | salary | managerId |\n",
    "+----+-------+--------+-----------+\n",
    "| 1  | Joe   | 70000  | 3         |\n",
    "| 2  | Henry | 80000  | 4         |\n",
    "| 3  | Sam   | 60000  | Null      |\n",
    "| 4  | Max   | 90000  | Null      |\n",
    "+----+-------+--------+-----------+\n",
    "Output: \n",
    "+----------+\n",
    "| Employee |\n",
    "+----------+\n",
    "| Joe      |\n",
    "+----------+\n",
    "Explanation: Joe is the only employee who earns more than his manager."
   ]
  },
  {
   "cell_type": "code",
   "execution_count": null,
   "metadata": {
    "vscode": {
     "languageId": "sql"
    }
   },
   "outputs": [],
   "source": [
    "Create table If Not Exists Employee (id int, name varchar(255), salary int, managerId int);\n",
    "Truncate table Employee;\n",
    "insert into Employee (id, name, salary, managerId) values ('1', 'Joe', '70000', '3');\n",
    "insert into Employee (id, name, salary, managerId) values ('2', 'Henry', '80000', '4');\n",
    "insert into Employee (id, name, salary, managerId) values ('3', 'Sam', '60000', Null);\n",
    "insert into Employee (id, name, salary, managerId) values ('4', 'Max', '90000', Null);"
   ]
  },
  {
   "cell_type": "code",
   "execution_count": null,
   "metadata": {
    "vscode": {
     "languageId": "sql"
    }
   },
   "outputs": [],
   "source": [
    "-- Solution\n",
    "\n",
    "SELECT e1.name AS Employee\n",
    "    FROM Employee e1\n",
    "    JOIN Employee e2 ON e1.managerId = e2.id\n",
    "    WHERE e1.salary > e2.salary;"
   ]
  },
  {
   "cell_type": "markdown",
   "metadata": {},
   "source": [
    "# Duplicate email\n",
    "\n",
    "- Level: Easy\n",
    "- Double click this markdown to see the main information or see ReadMe.md\n",
    "\n",
    "Table: Person\n",
    "\n",
    "+-------------+---------+\n",
    "| Column Name | Type    |\n",
    "+-------------+---------+\n",
    "| id          | int     |\n",
    "| email       | varchar |\n",
    "+-------------+---------+\n",
    "id is the primary key (column with unique values) for this table.\n",
    "Each row of this table contains an email. The emails will not contain uppercase letters.\n",
    " \n",
    "\n",
    "Write a solution to report all the duplicate emails. Note that it's guaranteed that the email field is not NULL.\n",
    "\n",
    "Return the result table in any order.\n",
    "\n",
    "The result format is in the following example.\n",
    "\n",
    " \n",
    "\n",
    "Example 1:\n",
    "\n",
    "Input: \n",
    "Person table:\n",
    "+----+---------+\n",
    "| id | email   |\n",
    "+----+---------+\n",
    "| 1  | a@b.com |\n",
    "| 2  | c@d.com |\n",
    "| 3  | a@b.com |\n",
    "+----+---------+\n",
    "Output: \n",
    "+---------+\n",
    "| Email   |\n",
    "+---------+\n",
    "| a@b.com |\n",
    "+---------+\n",
    "Explanation: a@b.com is repeated two times."
   ]
  },
  {
   "cell_type": "code",
   "execution_count": null,
   "metadata": {
    "vscode": {
     "languageId": "sql"
    }
   },
   "outputs": [],
   "source": [
    "drop table Person;\n",
    "Create table If Not Exists Person (id int, email varchar(255));\n",
    "truncate table Person;\n",
    "insert into Person (id, email) values ('1', 'a@b.com');\n",
    "insert into Person (id, email) values ('2', 'c@d.com');\n",
    "insert into Person (id, email) values ('3', 'a@b.com');"
   ]
  },
  {
   "cell_type": "code",
   "execution_count": null,
   "metadata": {
    "vscode": {
     "languageId": "sql"
    }
   },
   "outputs": [],
   "source": [
    "SELECT email AS Email\n",
    "    FROM Person\n",
    "    GROUP BY email\n",
    "    HAVING COUNT(email) > 1"
   ]
  },
  {
   "cell_type": "markdown",
   "metadata": {},
   "source": [
    "# 511. Game Play Analysis I\n",
    "\n",
    "- Level: Easy\n",
    "- Double click this markdown to see the main information or see ReadMe.md\n",
    "\n",
    "+--------------+---------+\n",
    "| Column Name  | Type    |\n",
    "+--------------+---------+\n",
    "| player_id    | int     |\n",
    "| device_id    | int     |\n",
    "| event_date   | date    |\n",
    "| games_played | int     |\n",
    "+--------------+---------+\n",
    "(player_id, event_date) is the primary key (combination of columns with unique values) of this table.\n",
    "This table shows the activity of players of some games.\n",
    "Each row is a record of a player who logged in and played a number of games (possibly 0) before logging out on someday using some device.\n",
    " \n",
    "\n",
    "Write a solution to find the first login date for each player.\n",
    "\n",
    "Return the result table in any order.\n",
    "\n",
    "The result format is in the following example.\n",
    "\n",
    " \n",
    "\n",
    "Example 1:\n",
    "\n",
    "Input: \n",
    "Activity table:\n",
    "+-----------+-----------+------------+--------------+\n",
    "| player_id | device_id | event_date | games_played |\n",
    "+-----------+-----------+------------+--------------+\n",
    "| 1         | 2         | 2016-03-01 | 5            |\n",
    "| 1         | 2         | 2016-05-02 | 6            |\n",
    "| 2         | 3         | 2017-06-25 | 1            |\n",
    "| 3         | 1         | 2016-03-02 | 0            |\n",
    "| 3         | 4         | 2018-07-03 | 5            |\n",
    "+-----------+-----------+------------+--------------+\n",
    "Output: \n",
    "+-----------+-------------+\n",
    "| player_id | first_login |\n",
    "+-----------+-------------+\n",
    "| 1         | 2016-03-01  |\n",
    "| 2         | 2017-06-25  |\n",
    "| 3         | 2016-03-02  |\n",
    "+-----------+-------------+"
   ]
  },
  {
   "cell_type": "code",
   "execution_count": null,
   "metadata": {
    "vscode": {
     "languageId": "sql"
    }
   },
   "outputs": [],
   "source": [
    "-- Active: 1715936727060@@127.0.0.1@3306@Leetcode\n",
    "Create table If Not Exists Activity (player_id int, device_id int, event_date date, games_played int)"
   ]
  },
  {
   "cell_type": "code",
   "execution_count": null,
   "metadata": {
    "vscode": {
     "languageId": "sql"
    }
   },
   "outputs": [],
   "source": [
    "Truncate table Activity"
   ]
  },
  {
   "cell_type": "code",
   "execution_count": null,
   "metadata": {
    "vscode": {
     "languageId": "sql"
    }
   },
   "outputs": [],
   "source": [
    "insert into Activity (player_id, device_id, event_date, games_played) values ('1', '2', '2016-03-01', '5');\n",
    "insert into Activity (player_id, device_id, event_date, games_played) values ('1', '2', '2016-05-02', '6');\n",
    "insert into Activity (player_id, device_id, event_date, games_played) values ('2', '3', '2017-06-25', '1');\n",
    "insert into Activity (player_id, device_id, event_date, games_played) values ('3', '1', '2016-03-02', '0');\n",
    "insert into Activity (player_id, device_id, event_date, games_played) values ('3', '4', '2018-07-03', '5');"
   ]
  },
  {
   "cell_type": "code",
   "execution_count": null,
   "metadata": {
    "vscode": {
     "languageId": "sql"
    }
   },
   "outputs": [],
   "source": [
    "SELECT *\n",
    "FROM `Activity`;"
   ]
  },
  {
   "cell_type": "code",
   "execution_count": null,
   "metadata": {
    "vscode": {
     "languageId": "sql"
    }
   },
   "outputs": [],
   "source": [
    "-- Solution\n",
    "\n",
    "SELECT player_id, MIN(event_date) AS first_login\n",
    "    FROM `Activity`\n",
    "GROUP BY player_id;"
   ]
  }
 ],
 "metadata": {
  "language_info": {
   "name": "python"
  }
 },
 "nbformat": 4,
 "nbformat_minor": 2
}
