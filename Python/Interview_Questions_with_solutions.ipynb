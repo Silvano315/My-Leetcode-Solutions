{
 "cells": [
  {
   "cell_type": "markdown",
   "metadata": {},
   "source": [
    "# Questions & Answers from Tech Interviews: from beginners to advance\n",
    "\n",
    "This would be a collection of interviews requests about Python questions. This reference will be always mentioned for each question and the solution is given by myself (I always recommend to check your own solution and to give a look at the amazing references I used to take questions)\n",
    "\n",
    "References:\n",
    "- [1] 140+ Basic Python Programs from Piush Kumar Sharma\n",
    "- [2] [Youtube playlist](https://www.youtube.com/watch?v=KDoC6oHaTek&list=PL_46-JrHsoaa8hpVKwMv6UGqRBh939Dgx)"
   ]
  },
  {
   "cell_type": "markdown",
   "metadata": {},
   "source": [
    "## Easy"
   ]
  },
  {
   "cell_type": "markdown",
   "metadata": {},
   "source": [
    "### Write a Python program to swap two variables [1]"
   ]
  },
  {
   "cell_type": "code",
   "execution_count": null,
   "metadata": {},
   "outputs": [
    {
     "name": "stdout",
     "output_type": "stream",
     "text": [
      "- Original variable a: 5 \n",
      "- Original variable b: 4\n",
      "==============================\n",
      "- Swapped variable a: 4 \n",
      "- Swapped variable b: 5\n"
     ]
    }
   ],
   "source": [
    "# Solution 1\n",
    "\n",
    "class Solution(object):\n",
    "    def swap_variables(self, var_a, var_b):\n",
    "        \"\"\"\n",
    "        :var_a: int\n",
    "        :var_b: int\n",
    "        \"\"\"\n",
    "        \n",
    "\n",
    "        print(f\"- Original variable a: {var_a} \\n- Original variable b: {var_b}\")\n",
    "\n",
    "        temporary_variable = var_a\n",
    "        var_a = var_b\n",
    "        var_b = temporary_variable\n",
    "\n",
    "        print(\"=\"*30)\n",
    "        print(f\"- Swapped variable a: {var_a} \\n- Swapped variable b: {var_b}\")\n",
    "\n",
    "\n",
    "variable_a = int(input(\"Enter first variable: \"))\n",
    "variable_b = int(input(\"Enter first variable: \"))\n",
    "my_solution = Solution()\n",
    "my_solution.swap_variables(variable_a, variable_b)"
   ]
  },
  {
   "cell_type": "code",
   "execution_count": null,
   "metadata": {},
   "outputs": [
    {
     "name": "stdout",
     "output_type": "stream",
     "text": [
      "- Original variable a: 10 \n",
      "- Original variable b: 0\n",
      "==============================\n",
      "- Swapped variable a: 0 \n",
      "- Swapped variable b: 10\n"
     ]
    }
   ],
   "source": [
    "# Solution 2\n",
    "\n",
    "class Solution(object):\n",
    "    def swap_variables(self, var_a, var_b):\n",
    "        \"\"\"\n",
    "        :var_a: int\n",
    "        :var_b: int\n",
    "        \"\"\"\n",
    "        \n",
    "\n",
    "        print(f\"- Original variable a: {var_a} \\n- Original variable b: {var_b}\")\n",
    "\n",
    "        var_a, var_b = var_b, var_a\n",
    "\n",
    "        print(\"=\"*30)\n",
    "        print(f\"- Swapped variable a: {var_a} \\n- Swapped variable b: {var_b}\")\n",
    "\n",
    "variable_a = int(input(\"Enter first variable: \"))\n",
    "variable_b = int(input(\"Enter first variable: \"))\n",
    "my_solution = Solution()\n",
    "my_solution.swap_variables(variable_a, variable_b)"
   ]
  },
  {
   "cell_type": "markdown",
   "metadata": {},
   "source": [
    "### Write a Python program to generate a random number [1]"
   ]
  },
  {
   "cell_type": "code",
   "execution_count": null,
   "metadata": {},
   "outputs": [
    {
     "name": "stdout",
     "output_type": "stream",
     "text": [
      "Random integer from 0 to 1000: 292\n"
     ]
    }
   ],
   "source": [
    "# Solution 1 \n",
    "\n",
    "import random\n",
    "\n",
    "print(f\"Random integer from 0 to 1000: {random.randint(0,1000)}\")"
   ]
  },
  {
   "cell_type": "code",
   "execution_count": 11,
   "metadata": {},
   "outputs": [
    {
     "name": "stdout",
     "output_type": "stream",
     "text": [
      "Random integer from 0 to 1000: 364\n"
     ]
    }
   ],
   "source": [
    "# Solution 2\n",
    "\n",
    "import numpy as np\n",
    "\n",
    "print(f\"Random integer from 0 to 1000: {np.random.randint(0,1000, size=1)[0]}\")"
   ]
  },
  {
   "cell_type": "markdown",
   "metadata": {},
   "source": [
    "### Write a Python program to display calendar [1]"
   ]
  },
  {
   "cell_type": "code",
   "execution_count": 23,
   "metadata": {},
   "outputs": [
    {
     "name": "stdout",
     "output_type": "stream",
     "text": [
      "      May 1994\n",
      "Mo Tu We Th Fr Sa Su\n",
      "                   1\n",
      " 2  3  4  5  6  7  8\n",
      " 9 10 11 12 13 14 15\n",
      "16 17 18 19 20 21 22\n",
      "23 24 25 26 27 28 29\n",
      "30 31\n",
      "\n"
     ]
    }
   ],
   "source": [
    "import calendar\n",
    "\n",
    "class Solution(object):\n",
    "    def show_calendar(self, y, m):\n",
    "        \"\"\"\n",
    "        :y: int\n",
    "        :m: int\n",
    "        \"\"\"\n",
    "\n",
    "        print(calendar.month(y, m))\n",
    "\n",
    "year_var = int(input(\"Enter the year: \"))\n",
    "month_var = int(input(\"Enter the month: \"))\n",
    "my_solution = Solution()\n",
    "my_solution.show_calendar(year_var, month_var)"
   ]
  },
  {
   "cell_type": "markdown",
   "metadata": {},
   "source": [
    "### Write a Python Program to Check if a Number is Odd or Even [1]"
   ]
  },
  {
   "cell_type": "code",
   "execution_count": null,
   "metadata": {},
   "outputs": [
    {
     "name": "stdout",
     "output_type": "stream",
     "text": [
      "Choosen number = 10\n",
      "10 is even\n"
     ]
    }
   ],
   "source": [
    "class Solution(object):\n",
    "    def evan_or_odd(self, num):\n",
    "        \"\"\"\n",
    "        :num: int\n",
    "        \"\"\"\n",
    "\n",
    "        print(f\"Choosen number = {num}\")\n",
    "        if (num + 1)%2 == 0:\n",
    "            print(f\"{num} is odd\")\n",
    "        else:\n",
    "            print(f\"{num} is even\")\n",
    "\n",
    "number_var = int(input(\"Enter a number: \"))\n",
    "my_solution = Solution()\n",
    "my_solution.evan_or_odd(number_var)"
   ]
  },
  {
   "cell_type": "markdown",
   "metadata": {},
   "source": [
    "### Write a Python Program to Check Leap Year [1]"
   ]
  },
  {
   "cell_type": "code",
   "execution_count": 42,
   "metadata": {},
   "outputs": [
    {
     "name": "stdout",
     "output_type": "stream",
     "text": [
      "2016 is leap.\n"
     ]
    }
   ],
   "source": [
    "class Solution(object):\n",
    "    def leap_year(self, y):\n",
    "        \"\"\"\n",
    "        :y: int\n",
    "        \"\"\"\n",
    "        return (y%4==0 and y%100 != 0) or (y%400 == 0)\n",
    "    \n",
    "year = int(input(\"Enter a year: \"))\n",
    "my_solution = Solution()\n",
    "if my_solution.leap_year(year):\n",
    "    print(f\"{year} is leap.\")\n",
    "else:\n",
    "    print(f\"{year} is not leap.\")"
   ]
  },
  {
   "cell_type": "markdown",
   "metadata": {},
   "source": [
    "### Write a Python Program to Check Prime Number [1]"
   ]
  },
  {
   "cell_type": "code",
   "execution_count": 47,
   "metadata": {},
   "outputs": [
    {
     "name": "stdout",
     "output_type": "stream",
     "text": [
      "13 is prime.\n"
     ]
    }
   ],
   "source": [
    "class Solution(object):\n",
    "    def is_prime(self, num):\n",
    "        \"\"\"\n",
    "        :num: int\n",
    "        \"\"\"\n",
    "\n",
    "        if num <= 1:\n",
    "            return False\n",
    "        else:\n",
    "            for i in range(2, num):\n",
    "                if (num % i) == 0:\n",
    "                    return False\n",
    "            return True\n",
    "        \n",
    "number = int(input(\"Enter a number: \"))\n",
    "my_solution = Solution()\n",
    "if my_solution.is_prime(number):\n",
    "    print(f\"{number} is prime.\")\n",
    "else:\n",
    "    print(f\"{number} is not prime.\")          "
   ]
  },
  {
   "cell_type": "markdown",
   "metadata": {},
   "source": [
    "### Write a Python Program to Print all Prime Numbers in an Interval of 1-10 [1]"
   ]
  },
  {
   "cell_type": "code",
   "execution_count": null,
   "metadata": {},
   "outputs": [
    {
     "name": "stdout",
     "output_type": "stream",
     "text": [
      "Prime numbers between 2 and 50 are:\n",
      "2\n",
      "3\n",
      "5\n",
      "7\n",
      "11\n",
      "13\n",
      "17\n",
      "19\n",
      "23\n",
      "29\n",
      "31\n",
      "37\n",
      "41\n",
      "43\n",
      "47\n"
     ]
    }
   ],
   "source": [
    "class Solution(object):\n",
    "    def is_prime(self, num):\n",
    "        \"\"\"\n",
    "        :num: int\n",
    "        \"\"\"\n",
    "\n",
    "        if num <= 1:\n",
    "            return False\n",
    "        else:\n",
    "            for i in range(2, num):\n",
    "                if (num % i) == 0:\n",
    "                    return False\n",
    "            return True\n",
    "        \n",
    "    def n_prime(self, min_num, max_num):\n",
    "        \"\"\"\n",
    "        :min_num: int\n",
    "        :max_num: int\n",
    "        \"\"\"\n",
    "        for i in range(min_num, max_num):\n",
    "            if self.is_prime(i):\n",
    "                print(i)\n",
    "\n",
    "lower = int(input(\"Enter a lower number of the interval: \"))\n",
    "upper = int(input(\"Enter a upper number of the interval: \"))\n",
    "my_solution = Solution()\n",
    "print(\"Prime numbers between\", lower, \"and\", upper, \"are:\")\n",
    "my_solution.n_prime(lower, upper)"
   ]
  },
  {
   "cell_type": "markdown",
   "metadata": {},
   "source": [
    "### Write a Python Program to Find the Factorial of a Number [1]"
   ]
  },
  {
   "cell_type": "code",
   "execution_count": null,
   "metadata": {},
   "outputs": [
    {
     "name": "stdout",
     "output_type": "stream",
     "text": [
      "Factorial of 7 is 5040\n"
     ]
    }
   ],
   "source": [
    "# Solution 1 - Iteration\n",
    "\n",
    "class Solution(object):\n",
    "    def factorial_n(self, num):\n",
    "        \"\"\"\n",
    "        :num: int\n",
    "        \"\"\"\n",
    "        if num < 0:\n",
    "            print(\"Number should be greater than 0\")\n",
    "        elif num == 0 or num == 1:\n",
    "            print(f\"Factorial of {num} is 1\")\n",
    "        else:\n",
    "            fact = 1\n",
    "            for i in range(2, num+1):\n",
    "                fact = fact * i\n",
    "            print(f\"Factorial of {num} is {fact}\")\n",
    "\n",
    "number = int(input(\"Enter a number: \"))\n",
    "my_solution = Solution()\n",
    "my_solution.factorial_n(number)"
   ]
  },
  {
   "cell_type": "code",
   "execution_count": 9,
   "metadata": {},
   "outputs": [
    {
     "name": "stdout",
     "output_type": "stream",
     "text": [
      "Factorial of 7 is 5040\n"
     ]
    }
   ],
   "source": [
    "# Solution 2 - Recursion\n",
    "\n",
    "class Solution(object):\n",
    "    def factorial_n(self, num):\n",
    "        \"\"\"\n",
    "        :num: int\n",
    "        \"\"\"\n",
    "        if num < 0:\n",
    "            print(\"Number should be greater than 0\")\n",
    "        elif num == 0 or num == 1:\n",
    "            return 1\n",
    "        else:\n",
    "            return num * self.factorial_n(num-1)\n",
    "\n",
    "number = int(input(\"Enter a number: \"))\n",
    "my_solution = Solution()\n",
    "print(f\"Factorial of {number} is {my_solution.factorial_n(number)}\")"
   ]
  },
  {
   "cell_type": "markdown",
   "metadata": {},
   "source": [
    "### Write a Python Program to Print the Fibonacci sequence [1]"
   ]
  },
  {
   "cell_type": "code",
   "execution_count": 61,
   "metadata": {},
   "outputs": [
    {
     "data": {
      "text/plain": [
       "[0, 1, 1, 2, 3, 5, 8, 13, 21, 34]"
      ]
     },
     "execution_count": 61,
     "metadata": {},
     "output_type": "execute_result"
    }
   ],
   "source": [
    "# Solution 1 - Iterative method\n",
    "\n",
    "class Solution(object):\n",
    "    def fibonacci_seq(self, num):\n",
    "        \"\"\"\n",
    "        :num: int\n",
    "        \"\"\"\n",
    "        if num < 0:\n",
    "            print(\"Number should be greater than 0\")\n",
    "        elif num == 0:\n",
    "            return num\n",
    "        elif num == 1:\n",
    "            return [num-1, num]\n",
    "        else:\n",
    "            seq = [0,1]\n",
    "            for i in range(2, num):\n",
    "                seq.append(seq[-1] + seq[-2])\n",
    "            return seq\n",
    "\n",
    "number = int(input(\"Enter a number: \"))\n",
    "my_solution = Solution()\n",
    "my_solution.fibonacci_seq(number)"
   ]
  },
  {
   "cell_type": "code",
   "execution_count": null,
   "metadata": {},
   "outputs": [
    {
     "name": "stdout",
     "output_type": "stream",
     "text": [
      "Fibonacci sequence up to 10: [0, 1, 1, 2, 3, 5, 8, 13, 21, 34]\n"
     ]
    }
   ],
   "source": [
    "# Solution 2 - Recursive method\n",
    "\n",
    "class Solution(object):\n",
    "    def fibonacci_seq(self, num):\n",
    "        \"\"\"\n",
    "        :num: int\n",
    "        \"\"\"\n",
    "        if num < 0:\n",
    "            print(\"Number should be greater than 0\")\n",
    "        elif num <= 1:\n",
    "            return num\n",
    "        else:\n",
    "            return self.fibonacci_seq(num-1) + self.fibonacci_seq(num-2)\n",
    "\n",
    "number = int(input(\"Enter a number: \"))\n",
    "my_solution = Solution()\n",
    "print(f\"Fibonacci sequence up to {number}: {[my_solution.fibonacci_seq(n) for n in range(0, number)]}\")"
   ]
  },
  {
   "cell_type": "markdown",
   "metadata": {},
   "source": [
    "### Write a Python Program to Find the Sum of Natural Numbers [1]"
   ]
  },
  {
   "cell_type": "code",
   "execution_count": 70,
   "metadata": {},
   "outputs": [
    {
     "name": "stdout",
     "output_type": "stream",
     "text": [
      "Sum of first 10 natural numbers: 55\n"
     ]
    }
   ],
   "source": [
    "class Solution(object):\n",
    "    def sum_natural(self, num):\n",
    "        \"\"\"\n",
    "        :num: int\n",
    "        \"\"\"\n",
    "        sum = 0\n",
    "        if num <= 0:\n",
    "            print(\"Number should be greater than 0\")\n",
    "        for i in range(0,num+1):\n",
    "            sum += i\n",
    "        return sum\n",
    "\n",
    "number = int(input(\"Enter a number: \"))\n",
    "my_solution = Solution()\n",
    "print(f\"Sum of first {number} natural numbers: {my_solution.sum_natural(number)}\")"
   ]
  },
  {
   "cell_type": "markdown",
   "metadata": {},
   "source": [
    "### Write a Python Program to Find LCM [1]"
   ]
  },
  {
   "cell_type": "code",
   "execution_count": 80,
   "metadata": {},
   "outputs": [
    {
     "name": "stdout",
     "output_type": "stream",
     "text": [
      "Least Common Multiple for (10, 100): 100\n"
     ]
    }
   ],
   "source": [
    "class Solution(object):\n",
    "    def lcm(self, num_1, num_2):\n",
    "        \"\"\"\n",
    "        :num_1: int\n",
    "        :num_2: int\n",
    "        \"\"\"\n",
    "        if num_1 < 0 or num_2 < 0:\n",
    "            print(\"You need positive numbers\")\n",
    "            return None\n",
    "\n",
    "        maximum = max(num_1, num_2)\n",
    "\n",
    "        while True:\n",
    "            if maximum%num_1==0 and maximum%num_2==0:\n",
    "                return maximum\n",
    "            maximum += 1\n",
    "\n",
    "number_1 = int(input(\"Enter a number: \"))\n",
    "number_2 = int(input(\"Enter a number: \"))\n",
    "my_solution = Solution()\n",
    "print(f\"Least Common Multiple for {number_1, number_2}: {my_solution.lcm(number_1, number_2)}\")"
   ]
  },
  {
   "cell_type": "code",
   "execution_count": null,
   "metadata": {},
   "outputs": [
    {
     "name": "stdout",
     "output_type": "stream",
     "text": [
      "Least Common Multiple for (4, 12): 12\n"
     ]
    }
   ],
   "source": [
    "# I found out that maybe there is a more efficient solution with the GCD formula\n",
    "\n",
    "class Solution(object):\n",
    "    def gdc(self, a, b):\n",
    "        minimum = min(a, b)\n",
    "        while True:\n",
    "            if a % minimum == 0 and b % minimum == 0:\n",
    "                return minimum\n",
    "            minimum -= 1\n",
    "\n",
    "    def lcm(self, num_1, num_2):\n",
    "        \"\"\"\n",
    "        :num_1: int\n",
    "        :num_2: int\n",
    "        \"\"\"\n",
    "        if num_1 < 0 or num_2 < 0:\n",
    "            print(\"You need positive numbers\")\n",
    "            return None\n",
    "        \n",
    "        return abs(num_1*num_2) // self.gdc(num_1, num_2)\n",
    "\n",
    "number_1 = int(input(\"Enter a number: \"))\n",
    "number_2 = int(input(\"Enter a number: \"))\n",
    "my_solution = Solution()\n",
    "print(f\"Least Common Multiple for {number_1, number_2}: {my_solution.lcm(number_1, number_2)}\")"
   ]
  },
  {
   "cell_type": "markdown",
   "metadata": {},
   "source": [
    "### Write a Python Program to Convert Decimal to Binary, Octal and Hexadecimal [1]"
   ]
  },
  {
   "cell_type": "code",
   "execution_count": 100,
   "metadata": {},
   "outputs": [
    {
     "name": "stdout",
     "output_type": "stream",
     "text": [
      "Conversion of 4 in Octal: 0o4\n"
     ]
    }
   ],
   "source": [
    "class Solution(object):\n",
    "    def number_conversion(self, num, f):\n",
    "        \"\"\"\n",
    "        :num: int\n",
    "        :f: str\n",
    "        \"\"\"\n",
    "        if f.lower() == 'binary':\n",
    "            return bin(num)\n",
    "        elif f.lower() == 'octal':\n",
    "            return oct(num)\n",
    "        elif f.lower() == 'hexadecimal':\n",
    "            return hex(num)\n",
    "        else:\n",
    "            print(\"Incorrect format!\")\n",
    "        \n",
    "number = int(input(\"Enter a number: \"))\n",
    "format = input(\"Enter a format: \")\n",
    "my_solution = Solution()\n",
    "print(f\"Conversion of {number} in {format.capitalize()}: {my_solution.number_conversion(number, format)}\")"
   ]
  },
  {
   "cell_type": "markdown",
   "metadata": {},
   "source": [
    "### Write a Python Program To Find ASCII value of a character [1]"
   ]
  },
  {
   "cell_type": "code",
   "execution_count": 7,
   "metadata": {},
   "outputs": [
    {
     "name": "stdout",
     "output_type": "stream",
     "text": [
      "Conversion of P in ASCII: 80\n"
     ]
    }
   ],
   "source": [
    "class Solution(object):\n",
    "    def ascii_car(self, char):\n",
    "        \"\"\"\n",
    "        :char: str\n",
    "        \"\"\"\n",
    "        if len(char) > 1:\n",
    "            print(\"You need only one character!\")\n",
    "            return None\n",
    "        return ord(char)\n",
    "        \n",
    "character = str(input(\"Enter a character: \"))\n",
    "my_solution = Solution()\n",
    "print(f\"Conversion of {character} in ASCII: {my_solution.ascii_car(character)}\")"
   ]
  },
  {
   "cell_type": "markdown",
   "metadata": {},
   "source": [
    "### Write a Python Program to Split the array and add the first part to the end [1]"
   ]
  },
  {
   "cell_type": "code",
   "execution_count": null,
   "metadata": {},
   "outputs": [
    {
     "name": "stdout",
     "output_type": "stream",
     "text": [
      "Original Array: [1, 2, 3, 4, 5, 6, 7, 8, 9]\n",
      "Rotated Array: [6, 7, 8, 9, 1, 2, 3, 4, 5]\n"
     ]
    }
   ],
   "source": [
    "class Solution(object):\n",
    "    def rotate_array(self, arr, pos):\n",
    "        \"\"\"\n",
    "        :arr: List[int]\n",
    "        :pos: int\n",
    "        \"\"\"\n",
    "        dim = len(arr)\n",
    "        if pos < 0 or pos > dim:\n",
    "            return f\"Error! You need a position greater than 0 or less than array length {dim}\"\n",
    "        return arr[pos:] + arr[:pos]\n",
    "        \n",
    "array = [1,2,3,4,5,6,7,8,9]\n",
    "position = 5\n",
    "my_solution = Solution()\n",
    "print(\"Original Array:\", array)\n",
    "print(\"Rotated Array:\", my_solution.rotate_array(array, position))"
   ]
  },
  {
   "cell_type": "markdown",
   "metadata": {},
   "source": [
    "### Write a Python Program to check if given array is Monotonic [1]"
   ]
  },
  {
   "cell_type": "code",
   "execution_count": 22,
   "metadata": {},
   "outputs": [
    {
     "name": "stdout",
     "output_type": "stream",
     "text": [
      "Is Array Monotonic: False\n"
     ]
    }
   ],
   "source": [
    "class Solution(object):\n",
    "    def is_monotonic(self, arr):\n",
    "        \"\"\"\n",
    "        :arr: List[int]\n",
    "        \"\"\"\n",
    "        increasing = decreasing = True\n",
    "\n",
    "        for i in range(1, len(arr)):\n",
    "            if arr[i] > arr[i-1]:\n",
    "                decreasing = False\n",
    "            if arr[i] < arr[i-1]:\n",
    "                increasing = False\n",
    "        \n",
    "        return increasing or decreasing\n",
    "        \n",
    "array = [1,2,3,4,5,6,7,11,9]\n",
    "my_solution = Solution()\n",
    "print(\"Is Array Monotonic:\", my_solution.is_monotonic(array))"
   ]
  },
  {
   "cell_type": "markdown",
   "metadata": {},
   "source": [
    "### Write a Python Program to Add Two Matrices [1]"
   ]
  },
  {
   "cell_type": "code",
   "execution_count": 38,
   "metadata": {},
   "outputs": [
    {
     "name": "stdout",
     "output_type": "stream",
     "text": [
      "Matrix sum:\n",
      "[[10, 10, 10], [10, 10, 10], [10, 10, 10]]\n"
     ]
    }
   ],
   "source": [
    "class Solution(object):\n",
    "    def sum_matrices(self, mat_1, mat_2):\n",
    "        \"\"\"\n",
    "        :mat_1: List\n",
    "        :mat_2: List\n",
    "        \"\"\"\n",
    "\n",
    "        if len(mat_1) != len(mat_2) or len(mat_1[0]) != len(mat_2[0]):\n",
    "            return f\"Error! Matrices should have the same dimensions: ({len(mat_1)},{len(mat_1[0])}) ({len(mat_2)},{len(mat_2[0])})\"\n",
    "        \n",
    "        matrix_sum = [] \n",
    "        for i in range(0, len(mat_1)):\n",
    "            row = []\n",
    "            for j in range(0, len(mat_1[0])):\n",
    "                row.append(mat_1[i][j] + mat_2[i][j])\n",
    "            matrix_sum.append(row)\n",
    "        \n",
    "        return matrix_sum\n",
    "    \n",
    "matrix1 = [\n",
    "[1, 2, 3],\n",
    "[4, 5, 6],\n",
    "[7, 8, 9]\n",
    "]\n",
    "matrix2 = [\n",
    "[9, 8, 7],\n",
    "[6, 5, 4],\n",
    "[3, 2, 1]\n",
    "]\n",
    "\n",
    "my_solution = Solution()\n",
    "print(f\"Matrix sum:\\n{my_solution.sum_matrices(matrix1,matrix2)}\")"
   ]
  },
  {
   "cell_type": "markdown",
   "metadata": {},
   "source": [
    "### Write a Python Program to Multiply Two Matrices [1]"
   ]
  },
  {
   "cell_type": "code",
   "execution_count": 44,
   "metadata": {},
   "outputs": [
    {
     "name": "stdout",
     "output_type": "stream",
     "text": [
      "Matrix prod:\n",
      "[[30, 24, 18, 51], [84, 69, 54, 126]]\n"
     ]
    }
   ],
   "source": [
    "class Solution(object):\n",
    "    def multiply_matrices(self, mat_1, mat_2):\n",
    "        \"\"\"\n",
    "        :mat_1: List\n",
    "        :mat_2: List\n",
    "        \"\"\"\n",
    "\n",
    "        rows_1, cols_1 = len(mat_1), len(mat_1[0])\n",
    "        rows_2, cols_2 = len(mat_2), len(mat_2[0])\n",
    "\n",
    "        if cols_1 != rows_2:\n",
    "            raise ValueError(f\"Number of columns in A should be equal to the number of rows in B. ({rows_1},{cols_1}) != ({rows_2}, {cols_2})\")\n",
    "        \n",
    "        matrix_prod = [[0 for _ in range(cols_2)] for _ in range(rows_1)]\n",
    "        for i in range(0, rows_1):\n",
    "            for j in range(0, cols_2):\n",
    "                for k in range(0, cols_1):\n",
    "                    matrix_prod[i][j] += mat_1[i][k] * mat_2[k][j]\n",
    "        return matrix_prod\n",
    "    \n",
    "matrix1 = [\n",
    "[1, 2, 3],\n",
    "[4, 5, 6]\n",
    "]\n",
    "matrix2 = [\n",
    "[9, 8, 7, 8],\n",
    "[6, 5, 4, 8],\n",
    "[3, 2, 1, 9]\n",
    "]\n",
    "\n",
    "my_solution = Solution()\n",
    "print(f\"Matrix prod:\\n{my_solution.multiply_matrices(matrix1,matrix2)}\")"
   ]
  },
  {
   "cell_type": "code",
   "execution_count": null,
   "metadata": {},
   "outputs": [
    {
     "data": {
      "text/plain": [
       "matrix([[ 30,  24,  18,  51],\n",
       "        [ 84,  69,  54, 126]])"
      ]
     },
     "execution_count": 43,
     "metadata": {},
     "output_type": "execute_result"
    }
   ],
   "source": [
    "# If you need to check with Numpy\n",
    "\n",
    "import numpy as np\n",
    "\n",
    "np.matrix(matrix1)*np.matrix(matrix2)"
   ]
  },
  {
   "cell_type": "markdown",
   "metadata": {},
   "source": [
    "### Write a Python Program to Transpose a Matrix [1]"
   ]
  },
  {
   "cell_type": "code",
   "execution_count": 46,
   "metadata": {},
   "outputs": [
    {
     "name": "stdout",
     "output_type": "stream",
     "text": [
      "Matrix transpose:\n",
      "[[1, 4], [2, 5], [3, 6]]\n"
     ]
    }
   ],
   "source": [
    "class Solution(object):\n",
    "    def transpose_matrix(self, mat):\n",
    "        \"\"\"\n",
    "        :mat_1: List\n",
    "        \"\"\"\n",
    "\n",
    "        rows, cols = len(mat), len(mat[0])\n",
    "\n",
    "        mat_transpose = [[0 for _ in range(rows)] for _ in range(cols)]     \n",
    "        for i in range(0, rows):\n",
    "            for j in range(0, cols):\n",
    "                    mat_transpose[j][i] = mat[i][j]\n",
    "        return mat_transpose\n",
    "    \n",
    "matrix = [\n",
    "[1, 2, 3],\n",
    "[4, 5, 6]\n",
    "]\n",
    "\n",
    "my_solution = Solution()\n",
    "print(f\"Matrix transpose:\\n{my_solution.transpose_matrix(matrix)}\")"
   ]
  },
  {
   "cell_type": "markdown",
   "metadata": {},
   "source": [
    "### Write a Python Program to Sort Words in Alphabetic Order [1]"
   ]
  },
  {
   "cell_type": "code",
   "execution_count": null,
   "metadata": {},
   "outputs": [
    {
     "name": "stdout",
     "output_type": "stream",
     "text": [
      "Sentence: sdsad ewerew xv qewe oico bbv saa Aa\n",
      "Sorted words:\n",
      "\n",
      "1. Aa\n",
      "2. Bbv\n",
      "3. Ewerew\n",
      "4. Oico\n",
      "5. Qewe\n",
      "6. Saa\n",
      "7. Sdsad\n",
      "8. Xv\n"
     ]
    }
   ],
   "source": [
    "class Solution(object):\n",
    "    def alphabetic_sort(self, sent):\n",
    "        \"\"\"\n",
    "        :sent: string\n",
    "        \"\"\"\n",
    "        return sorted([word.lower() for word in sent.split(\" \")])\n",
    "    \n",
    "sentence = str(input(\"Enter a sentence: \"))\n",
    "\n",
    "my_solution = Solution()\n",
    "print(f\"Sentence: {sentence}\")\n",
    "print(f\"Sorted words:\\n\")\n",
    "words = my_solution.alphabetic_sort(sentence)\n",
    "for i in range(len(words)):\n",
    "    print(f\"{i+1}. {words[i].capitalize()}\")"
   ]
  },
  {
   "cell_type": "markdown",
   "metadata": {},
   "source": [
    "### Write a Python Program to Remove Punctuation From a String [1]"
   ]
  },
  {
   "cell_type": "code",
   "execution_count": 59,
   "metadata": {},
   "outputs": [
    {
     "name": "stdout",
     "output_type": "stream",
     "text": [
      "Sentence: ciao sono Silvano, vivo a Barletta e parlo Italiano!!\n",
      "Sentence without punctuation:\n",
      "ciao sono Silvano vivo a Barletta e parlo Italiano\n"
     ]
    }
   ],
   "source": [
    "class Solution(object):\n",
    "    def remove_punctuation(self, sent):\n",
    "        \"\"\"\n",
    "        :sent: string\n",
    "        \"\"\"\n",
    "        punctuations = '''!()-[]{};:'\"\\,<>./?@#$%^&*_~'''\n",
    "        for character in punctuations:\n",
    "            sent = sent.replace(f\"{character}\", \"\")\n",
    "        return sent\n",
    "    \n",
    "sentence = str(input(\"Enter a sentence: \"))\n",
    "\n",
    "my_solution = Solution()\n",
    "print(f\"Sentence: {sentence}\")\n",
    "print(f\"Sentence without punctuation:\")\n",
    "print(f\"{my_solution.remove_punctuation(sentence)}\")"
   ]
  },
  {
   "cell_type": "markdown",
   "metadata": {},
   "source": [
    "### Write a Python program to check if the given number is a Disarium Number [1]\n",
    "\n",
    "8<sup>1</sup> + 9<sup>2</sup> = 8 + 81 = 89"
   ]
  },
  {
   "cell_type": "code",
   "execution_count": null,
   "metadata": {},
   "outputs": [
    {
     "name": "stdout",
     "output_type": "stream",
     "text": [
      "This number is a Disarium Number: True\n"
     ]
    }
   ],
   "source": [
    "class Solution(object):\n",
    "    def is_disarium(self, num):\n",
    "        \"\"\"\n",
    "        :num: int\n",
    "        \"\"\"\n",
    "\n",
    "        if num < 0:\n",
    "            raise(ValueError(f\"Number should be greater than 0 and not {num}\"))\n",
    "\n",
    "        str_num = str(num)\n",
    "        squared_digits_sum = 0\n",
    "        for (i,digit) in enumerate(str_num):\n",
    "            squared_digits_sum += pow(int(digit),i+1)\n",
    "        return squared_digits_sum == num\n",
    "    \n",
    "number = int(input(\"Enter a number: \"))\n",
    "my_solution = Solution()\n",
    "print(f\"This number is a Disarium Number: {my_solution.is_disarium(number)}\")"
   ]
  },
  {
   "cell_type": "markdown",
   "metadata": {},
   "source": [
    "### Write a Python program to print all happy numbers between 1 and 100 [1]"
   ]
  },
  {
   "cell_type": "code",
   "execution_count": 68,
   "metadata": {},
   "outputs": [
    {
     "name": "stdout",
     "output_type": "stream",
     "text": [
      "These are happy numbers from 0 to 100: [1, 7, 10, 13, 19, 23, 28, 31, 32, 44, 49, 68, 70, 79, 82, 86, 91, 94, 97]\n"
     ]
    }
   ],
   "source": [
    "class Solution(object):\n",
    "    def is_happy(self, num):\n",
    "        \"\"\"\n",
    "        :num: int\n",
    "        \"\"\"\n",
    "\n",
    "        if num < 0:\n",
    "            raise(ValueError(f\"Number should be greater than 0 and not {num}\"))\n",
    "        \n",
    "        seen_numbers = set()\n",
    "\n",
    "        while num != 1 and num not in seen_numbers:\n",
    "            seen_numbers.add(num)\n",
    "            str_num = str(num)\n",
    "            num = 0\n",
    "            for digit in str_num:\n",
    "                num += pow(int(digit),2)\n",
    "        return num == 1\n",
    "    \n",
    "    def happy_seq(self, min, max):\n",
    "        happy_nums = []\n",
    "        for i in range(min, max):\n",
    "            if self.is_happy(i):\n",
    "                happy_nums.append(i)\n",
    "        return happy_nums\n",
    "    \n",
    "lower = int(input(\"Enter a lower number: \"))\n",
    "upper = int(input(\"Enter a upper number: \"))\n",
    "my_solution = Solution()\n",
    "print(f\"These are happy numbers from {lower} to {upper}: {my_solution.happy_seq(lower, upper)}\")"
   ]
  },
  {
   "cell_type": "markdown",
   "metadata": {},
   "source": [
    "### Write a Python program to determine whether the given number is a Harshad Number [1]"
   ]
  },
  {
   "cell_type": "code",
   "execution_count": 77,
   "metadata": {},
   "outputs": [
    {
     "name": "stdout",
     "output_type": "stream",
     "text": [
      "This number is a Harshad Number: True\n"
     ]
    }
   ],
   "source": [
    "class Solution(object):\n",
    "    def is_harshad(self, num):\n",
    "        \"\"\"\n",
    "        :num: int\n",
    "        \"\"\"\n",
    "\n",
    "        if num < 0:\n",
    "            raise(ValueError(f\"Number should be greater than 0 and not {num}\"))\n",
    "\n",
    "        str_num = str(num)\n",
    "        digits_sum = 0\n",
    "        for digit in str_num:\n",
    "            digits_sum += int(digit)\n",
    "        return num % digits_sum == 0\n",
    "    \n",
    "number = int(input(\"Enter a number: \"))\n",
    "my_solution = Solution()\n",
    "print(f\"This number is a Harshad Number: {my_solution.is_harshad(number)}\")"
   ]
  },
  {
   "cell_type": "markdown",
   "metadata": {},
   "source": [
    "### Write a Python program to find second largest number in a list [1]"
   ]
  },
  {
   "cell_type": "code",
   "execution_count": 4,
   "metadata": {},
   "outputs": [
    {
     "name": "stdout",
     "output_type": "stream",
     "text": [
      "The second max number is: 44\n"
     ]
    }
   ],
   "source": [
    "class Solution(object):\n",
    "    def second_max(self, nums):\n",
    "        \"\"\"\n",
    "        :nums: List[int]\n",
    "        \"\"\"\n",
    "\n",
    "        if len(nums) <= 1:\n",
    "            raise(ValueError(f\"List of integers is less than 1 element!\"))\n",
    "\n",
    "        nums.sort()\n",
    "\n",
    "        return nums[-2]\n",
    "    \n",
    "numbers = [32,44,6,4,22,66]\n",
    "my_solution = Solution()\n",
    "print(f\"The second max number is: {my_solution.second_max(numbers)}\")"
   ]
  },
  {
   "cell_type": "markdown",
   "metadata": {},
   "source": [
    "### Write a Python program to find N largest elements from a list [1]"
   ]
  },
  {
   "cell_type": "code",
   "execution_count": 11,
   "metadata": {},
   "outputs": [
    {
     "name": "stdout",
     "output_type": "stream",
     "text": [
      "The 3 max numbers are: [32, 44, 66]\n"
     ]
    }
   ],
   "source": [
    "class Solution(object):\n",
    "    def second_max(self, nums, lim):\n",
    "        \"\"\"\n",
    "        :nums: List[int]\n",
    "        :lim: int\n",
    "        \"\"\"\n",
    "\n",
    "        if len(nums) <= lim-1:\n",
    "            raise(ValueError(f\"List of integers is less than 1 element!\"))\n",
    "\n",
    "        nums.sort()\n",
    "\n",
    "        return nums[-lim:]\n",
    "    \n",
    "numbers = [32,44,6,4,22,66]\n",
    "limit = 3\n",
    "my_solution = Solution()\n",
    "print(f\"The {limit} max numbers are: {my_solution.second_max(numbers, limit)}\")"
   ]
  },
  {
   "cell_type": "markdown",
   "metadata": {},
   "source": [
    "### Write a Python program to Remove empty List from List [1]"
   ]
  },
  {
   "cell_type": "code",
   "execution_count": 22,
   "metadata": {},
   "outputs": [
    {
     "name": "stdout",
     "output_type": "stream",
     "text": [
      "The List without empty lists:\n",
      "[[32, 44], [6, 4, 22], [66]]\n"
     ]
    }
   ],
   "source": [
    "class Solution(object):\n",
    "    def remove_empty_lists(self, ls):\n",
    "        \"\"\"\n",
    "        :ls: List[List]\n",
    "        \"\"\"\n",
    "\n",
    "        if len(ls) < 1:\n",
    "            raise(ValueError(f\"List is empty!\"))\n",
    "\n",
    "        ls_no_empty = []\n",
    "        for i in range(len(ls)):\n",
    "            if len(ls[i]) > 0:\n",
    "                ls_no_empty.append(ls[i])\n",
    "        return ls_no_empty\n",
    "    \n",
    "        # Easier solution with list comprehension\n",
    "        #return [ls_no_empty for ls_no_empty in ls if len(ls_no_empty) > 0]\n",
    "    \n",
    "lists = [[32,44], [], [6,4,22],[66], []]\n",
    "my_solution = Solution()\n",
    "print(f\"The List without empty lists:\\n{my_solution.remove_empty_lists(lists)}\")"
   ]
  },
  {
   "cell_type": "markdown",
   "metadata": {},
   "source": [
    "### Write a Python program to Count occurrences of an element in a list [1]"
   ]
  },
  {
   "cell_type": "code",
   "execution_count": null,
   "metadata": {},
   "outputs": [
    {
     "name": "stdout",
     "output_type": "stream",
     "text": [
      "The of occurances for 4 in the list is: 2\n"
     ]
    }
   ],
   "source": [
    "class Solution(object):\n",
    "    def count_occurrences(self, l, num):\n",
    "        \"\"\"\n",
    "        :l: List[int]\n",
    "        :num: int\n",
    "        \"\"\"\n",
    "\n",
    "        if len(l) < 1:\n",
    "            raise(ValueError(f\"List is empty!\"))\n",
    "        \n",
    "        return l.count(num)\n",
    "\n",
    "        \n",
    "    \n",
    "_list = [1, 2, 3, 4, 2, 5, 2, 3, 4, 6, 5]\n",
    "number = 4\n",
    "my_solution = Solution()\n",
    "print(f\"The of occurances for {number} in the list is: {my_solution.count_occurrences(_list, number)}\")"
   ]
  },
  {
   "cell_type": "markdown",
   "metadata": {},
   "source": [
    "### Write a Python program for removing 𝑖-𝑡ℎ character from a string [1]"
   ]
  },
  {
   "cell_type": "code",
   "execution_count": null,
   "metadata": {},
   "outputs": [
    {
     "name": "stdout",
     "output_type": "stream",
     "text": [
      "The string before removing 4-th element: Hi, Mmy name is Silvano!!\n",
      "The string after removing 4-th element: Hi, my name is Silvano!!\n"
     ]
    }
   ],
   "source": [
    "class Solution(object):\n",
    "    def del_character(self, s, num):\n",
    "        \"\"\"\n",
    "        :s: string\n",
    "        :num: int\n",
    "        \"\"\"\n",
    "\n",
    "        if len(s) <= 0 or len(s) <= num:\n",
    "            raise(ValueError(f\"String with wrong length: {len(s)}\"))\n",
    "        \n",
    "        return s[:num] + s[num+1:]\n",
    "\n",
    "        \n",
    "     \n",
    "string_before = str(input(\"Enter a string: \"))\n",
    "position = 4\n",
    "my_solution = Solution()\n",
    "print(f\"The string before removing {position}-th element: {string_before}\")\n",
    "print(f\"The string after removing {position}-th element: {my_solution.del_character(string_before, position)}\")"
   ]
  },
  {
   "cell_type": "markdown",
   "metadata": {},
   "source": [
    "### Write a Python program to check if a given string is binary string or not [1]"
   ]
  },
  {
   "cell_type": "code",
   "execution_count": null,
   "metadata": {},
   "outputs": [
    {
     "name": "stdout",
     "output_type": "stream",
     "text": [
      "The string 010101010f is binary: False\n"
     ]
    }
   ],
   "source": [
    "class Solution(object):\n",
    "    def is_string_binary(self, s):\n",
    "        \"\"\"\n",
    "        :s: string\n",
    "        \"\"\"\n",
    "\n",
    "        if len(s) <= 0:\n",
    "            raise(ValueError(f\"String with wrong length: {len(s)}\"))\n",
    "        \n",
    "        for c in s:\n",
    "            if c not in \"01\":\n",
    "                return False\n",
    "        return True\n",
    "     \n",
    "_string = str(input(\"Enter a string: \"))\n",
    "my_solution = Solution()\n",
    "print(f\"The string {_string} is binary: {my_solution.is_string_binary(_string)}\")"
   ]
  },
  {
   "cell_type": "markdown",
   "metadata": {},
   "source": [
    "### Write a Python program to find all duplicate characters in string [1]"
   ]
  },
  {
   "cell_type": "code",
   "execution_count": null,
   "metadata": {},
   "outputs": [
    {
     "name": "stdout",
     "output_type": "stream",
     "text": [
      "String: Hi, my name is Silvano\n",
      "The duplicates are: {'m', 'n', ' ', 'a', 'i'}\n"
     ]
    }
   ],
   "source": [
    "class Solution(object):\n",
    "    def find_duplicates(self, s):\n",
    "        \"\"\"\n",
    "        :s: string\n",
    "        \"\"\"\n",
    "\n",
    "        if len(s) <= 0:\n",
    "            raise(ValueError(f\"Strings with wrong length: {len(s)}\"))\n",
    "        \n",
    "        duplicates = []\n",
    "\n",
    "        for (i,c)in enumerate(s):\n",
    "            if c in s[i+1:]:\n",
    "                duplicates.append(c)\n",
    "\n",
    "        return set(duplicates)\n",
    "\n",
    "\n",
    "string_ = str(input(\"Enter a string: \"))\n",
    "my_solution = Solution()\n",
    "print(f\"String: {string_}\")\n",
    "print(f\"The duplicates are: {my_solution.find_duplicates(string_)}\")"
   ]
  },
  {
   "cell_type": "markdown",
   "metadata": {},
   "source": [
    "### Write a Python Program to check if a string contains any special character [1]"
   ]
  },
  {
   "cell_type": "code",
   "execution_count": null,
   "metadata": {},
   "outputs": [
    {
     "name": "stdout",
     "output_type": "stream",
     "text": [
      "String: Hi, my name is Silvano!!\n",
      "The string contains special characters: True\n"
     ]
    }
   ],
   "source": [
    "# Solution 1 - for loop\n",
    "\n",
    "class Solution(object):\n",
    "    def is_special_char(self, s):\n",
    "        \"\"\"\n",
    "        :s: string\n",
    "        \"\"\"\n",
    "\n",
    "        if len(s) <= 0:\n",
    "            raise(ValueError(f\"Strings with wrong length: {len(s)}\"))\n",
    "        \n",
    "        specials = r'[!@#$%^&*()_+{}\\[\\]:;<>,.?~\\\\\\/\\'\"\\-=]'\n",
    "        \n",
    "        for c in s:\n",
    "            if c in specials:\n",
    "                return True\n",
    "        \n",
    "        return False\n",
    "\n",
    "\n",
    "string_ = str(input(\"Enter a string: \"))\n",
    "my_solution = Solution()\n",
    "print(f\"String: {string_}\")\n",
    "print(f\"The string contains special characters: {my_solution.is_special_char(string_)}\")"
   ]
  },
  {
   "cell_type": "code",
   "execution_count": null,
   "metadata": {},
   "outputs": [
    {
     "name": "stdout",
     "output_type": "stream",
     "text": [
      "String: Hi, my name is Silvano!!\n",
      "The string contains special characters: True\n"
     ]
    }
   ],
   "source": [
    "# Solution 2 - regular expression\n",
    "\n",
    "import re\n",
    "\n",
    "class Solution(object):\n",
    "    def is_special_char(self, s):\n",
    "        \"\"\"\n",
    "        :s: string\n",
    "        \"\"\"\n",
    "\n",
    "        if len(s) <= 0:\n",
    "            raise(ValueError(f\"Strings with wrong length: {len(s)}\"))\n",
    "        \n",
    "        specials = r'[!@#$%^&*()_+{}\\[\\]:;<>,.?~\\\\\\/\\'\"\\-=]'\n",
    "        \n",
    "        return True if re.search(specials, s) else False\n",
    "\n",
    "\n",
    "string_ = str(input(\"Enter a string: \"))\n",
    "my_solution = Solution()\n",
    "print(f\"String: {string_}\")\n",
    "print(f\"The string contains special characters: {my_solution.is_special_char(string_)}\")"
   ]
  },
  {
   "cell_type": "markdown",
   "metadata": {},
   "source": [
    "### Write a Python program to Extract Unique dictionary values [1]"
   ]
  },
  {
   "cell_type": "code",
   "execution_count": null,
   "metadata": {},
   "outputs": [
    {
     "name": "stdout",
     "output_type": "stream",
     "text": [
      "The unique values in the dict are: [10, 20, 30]\n"
     ]
    }
   ],
   "source": [
    "class Solution(object):\n",
    "    def unique_val(self, d):\n",
    "        \"\"\"\n",
    "        :d: Dict\n",
    "        \"\"\"\n",
    "\n",
    "        if len(d) <= 0:\n",
    "            raise(ValueError(f\"Dict with wrong dimension: {len(d)}\"))\n",
    "        \n",
    "        unique_values = []\n",
    "        for k,v in d.items():\n",
    "            unique_values.append(v)\n",
    "        return list(set(unique_values))\n",
    "\n",
    "\n",
    "my_dict = {\n",
    "'a': 10,\n",
    "'b': 20,\n",
    "'c': 10,\n",
    "'d': 30,\n",
    "'e': 20\n",
    "}\n",
    "my_solution = Solution()\n",
    "print(f\"The unique values in the dict are: {my_solution.unique_val(my_dict)}\")"
   ]
  },
  {
   "cell_type": "markdown",
   "metadata": {},
   "source": [
    "### Write a Python program to Merging two Dictionaries [1]"
   ]
  },
  {
   "cell_type": "code",
   "execution_count": 53,
   "metadata": {},
   "outputs": [
    {
     "name": "stdout",
     "output_type": "stream",
     "text": [
      "The merged dict: \n",
      "{'a': 10, 'b': 20, 'c': 10, 'd': 30, 'e': 20, 'f': 10, 'g': 20, 'h': 10, 'i': 30, 'l': 20}\n"
     ]
    }
   ],
   "source": [
    "class Solution(object):\n",
    "    def merge_dict(self, d_1, d_2):\n",
    "        \"\"\"\n",
    "        :d_1: Dict\n",
    "        :d_2: Dict\n",
    "        \"\"\"\n",
    "\n",
    "        if len(d_1) <= 0 or len(d_2)<=0:\n",
    "            raise(ValueError(f\"Dicts with wrong dimensions: {len(d_1)}, {len(d_2)}\"))\n",
    "        \n",
    "        d_1.update(d_2)\n",
    "\n",
    "        return d_1\n",
    "\n",
    "\n",
    "my_dict_1 = {\n",
    "'a': 10,\n",
    "'b': 20,\n",
    "'c': 10,\n",
    "'d': 30,\n",
    "'e': 20\n",
    "}\n",
    "my_dict_2 = {\n",
    "'f': 10,\n",
    "'g': 20,\n",
    "'h': 10,\n",
    "'i': 30,\n",
    "'l': 20\n",
    "}\n",
    "\n",
    "my_solution = Solution()\n",
    "print(f\"The merged dict: \\n{my_solution.merge_dict(my_dict_1, my_dict_2)}\")"
   ]
  },
  {
   "cell_type": "markdown",
   "metadata": {},
   "source": [
    "### Write a Python program to convert key-values list to flat dictionary [1]"
   ]
  },
  {
   "cell_type": "code",
   "execution_count": 56,
   "metadata": {},
   "outputs": [
    {
     "name": "stdout",
     "output_type": "stream",
     "text": [
      "The dict from list of keys and values: \n",
      "{'a': 1, 'b': 2, 'c': 3, 'd': 4}\n"
     ]
    }
   ],
   "source": [
    "class Solution(object):\n",
    "    def create_dict(self, l):\n",
    "        \"\"\"\n",
    "        :l: List\n",
    "        \"\"\"\n",
    "\n",
    "        if len(l) <= 0:\n",
    "            raise(ValueError(f\"List with wrong dimension: {len(l)}\"))\n",
    "\n",
    "        # Easy solution\n",
    "        #return dict(l)\n",
    "        \n",
    "        new_dict = {}\n",
    "        for keys, values in l:\n",
    "            new_dict[keys] = values\n",
    "        return new_dict\n",
    "     \n",
    "\n",
    "\n",
    "list_k_v = [('a', 1), ('b', 2), ('c', 3), ('d', 4)]\n",
    "\n",
    "my_solution = Solution()\n",
    "print(f\"The dict from list of keys and values: \\n{my_solution.create_dict(list_k_v)}\")"
   ]
  },
  {
   "cell_type": "markdown",
   "metadata": {},
   "source": [
    "### Write a Python program to insertion at the beginning in OrderedDict [1]"
   ]
  },
  {
   "cell_type": "code",
   "execution_count": 16,
   "metadata": {},
   "outputs": [
    {
     "name": "stdout",
     "output_type": "stream",
     "text": [
      "The OrderedDict with new first element: \n",
      "OrderedDict([('a', 1), ('e', 5), ('b', 2), ('c', 3), ('d', 4)])\n"
     ]
    }
   ],
   "source": [
    "from collections import OrderedDict\n",
    "\n",
    "class Solution(object):\n",
    "    def insert_first(self, ord_dict, new):\n",
    "        \"\"\"\n",
    "        :ord_dict: OrderedDict\n",
    "        :new: set\n",
    "        \"\"\"\n",
    "\n",
    "        if len(ord_dict) <= 0:\n",
    "            raise(ValueError(f\"List with wrong dimension: {len(ord_dict)}\"))\n",
    "\n",
    "        new_ordered_item = OrderedDict([new])\n",
    "\n",
    "        new_ordered_item.update(ord_dict)\n",
    "\n",
    "        return new_ordered_item\n",
    "        \n",
    "\n",
    "ordered_dict = OrderedDict([('e', 5), ('b', 2), ('c', 3), ('d', 4)])\n",
    "new_item = ('a', 1)\n",
    "\n",
    "my_solution = Solution()\n",
    "print(f\"The OrderedDict with new first element: \\n{my_solution.insert_first(ordered_dict, new_item)}\")"
   ]
  },
  {
   "cell_type": "markdown",
   "metadata": {},
   "source": [
    "### Write a Python program to sort Python Dictionaries by Key or Value [1]"
   ]
  },
  {
   "cell_type": "code",
   "execution_count": 20,
   "metadata": {},
   "outputs": [
    {
     "name": "stdout",
     "output_type": "stream",
     "text": [
      "Sorted dict by keys: \n",
      "{'apple': 1, 'banana': 3, 'cherry': 2, 'date': 4}\n"
     ]
    }
   ],
   "source": [
    "class Solution(object):\n",
    "    def order_dict_by_key(self, d):\n",
    "        \"\"\"\n",
    "        :d: Dict\n",
    "        \"\"\"\n",
    "\n",
    "        if len(d) <= 0:\n",
    "            raise(ValueError(f\"List with wrong dimension: {len(d)}\"))\n",
    "\n",
    "        return dict(sorted(d.items()))\n",
    "        \n",
    "\n",
    "sample_dict = {'banana': 3, 'apple': 1, 'cherry': 2, 'date': 4}\n",
    "\n",
    "my_solution = Solution()\n",
    "print(f\"Sorted dict by keys: \\n{my_solution.order_dict_by_key(sample_dict)}\")"
   ]
  },
  {
   "cell_type": "markdown",
   "metadata": {},
   "source": [
    "## Intermediate"
   ]
  },
  {
   "cell_type": "markdown",
   "metadata": {},
   "source": [
    "### Write a Python program to find uncommon words from two Strings [1]"
   ]
  },
  {
   "cell_type": "code",
   "execution_count": 34,
   "metadata": {},
   "outputs": [
    {
     "name": "stdout",
     "output_type": "stream",
     "text": [
      "String 1: Hi, my name is Silvano\n",
      "String 2: Hi, my name is Paola\n",
      "The uncommon words are: ['Silvano', 'Paola']\n"
     ]
    }
   ],
   "source": [
    "class Solution(object):\n",
    "    def uncommon_words(self, s_1, s_2):\n",
    "        \"\"\"\n",
    "        :s_1: string\n",
    "        :s_2: string\n",
    "        \"\"\"\n",
    "\n",
    "        if len(s_1) < 0 or len(s_2) < 0:\n",
    "            raise(ValueError(f\"Strings with wrong length: {len(s_1)}, {len(s_2)}\"))\n",
    "        \n",
    "        w_1 = set(s_1.split())\n",
    "        w_2 = set(s_2.split())\n",
    "        \n",
    "        return list(w_1.symmetric_difference(w_2))\n",
    "     \n",
    "string_1 = str(input(\"Enter a string: \"))\n",
    "string_2 = str(input(\"Enter a string: \"))\n",
    "my_solution = Solution()\n",
    "print(f\"String 1: {string_1}\")\n",
    "print(f\"String 2: {string_2}\")\n",
    "print(f\"The uncommon words are: {my_solution.uncommon_words(string_1, string_2)}\")"
   ]
  },
  {
   "cell_type": "markdown",
   "metadata": {},
   "source": [
    "## Advanced"
   ]
  }
 ],
 "metadata": {
  "kernelspec": {
   "display_name": ".venv",
   "language": "python",
   "name": "python3"
  },
  "language_info": {
   "codemirror_mode": {
    "name": "ipython",
    "version": 3
   },
   "file_extension": ".py",
   "mimetype": "text/x-python",
   "name": "python",
   "nbconvert_exporter": "python",
   "pygments_lexer": "ipython3",
   "version": "3.11.9"
  }
 },
 "nbformat": 4,
 "nbformat_minor": 2
}
