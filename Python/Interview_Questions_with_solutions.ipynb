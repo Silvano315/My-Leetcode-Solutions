{
 "cells": [
  {
   "cell_type": "markdown",
   "metadata": {},
   "source": [
    "# Questions & Answers from Tech Interviews: from beginners to advance\n",
    "\n",
    "This would be a collection of interviews requests about Python questions. This reference will be always mentioned for each question and the solution is given by myself (I always recommend to check your own solution and to give a look at the amazing references I used to take questions)\n",
    "\n",
    "References:\n",
    "- [1] 140+ Basic Python Programs from Piush Kumar Sharma"
   ]
  },
  {
   "cell_type": "markdown",
   "metadata": {},
   "source": [
    "## Easy"
   ]
  },
  {
   "cell_type": "markdown",
   "metadata": {},
   "source": [
    "### Write a Python program to swap two variables [1]"
   ]
  },
  {
   "cell_type": "code",
   "execution_count": null,
   "metadata": {},
   "outputs": [
    {
     "name": "stdout",
     "output_type": "stream",
     "text": [
      "- Original variable a: 5 \n",
      "- Original variable b: 4\n",
      "==============================\n",
      "- Swapped variable a: 4 \n",
      "- Swapped variable b: 5\n"
     ]
    }
   ],
   "source": [
    "# Solution 1\n",
    "\n",
    "class Solution(object):\n",
    "    def swap_variables(self, var_a, var_b):\n",
    "        \"\"\"\n",
    "        :var_a: int\n",
    "        :var_b: int\n",
    "        \"\"\"\n",
    "        \n",
    "\n",
    "        print(f\"- Original variable a: {var_a} \\n- Original variable b: {var_b}\")\n",
    "\n",
    "        temporary_variable = var_a\n",
    "        var_a = var_b\n",
    "        var_b = temporary_variable\n",
    "\n",
    "        print(\"=\"*30)\n",
    "        print(f\"- Swapped variable a: {var_a} \\n- Swapped variable b: {var_b}\")\n",
    "\n",
    "\n",
    "variable_a = int(input(\"Enter first variable: \"))\n",
    "variable_b = int(input(\"Enter first variable: \"))\n",
    "my_solution = Solution()\n",
    "my_solution.swap_variables(variable_a, variable_b)"
   ]
  },
  {
   "cell_type": "code",
   "execution_count": null,
   "metadata": {},
   "outputs": [
    {
     "name": "stdout",
     "output_type": "stream",
     "text": [
      "- Original variable a: 10 \n",
      "- Original variable b: 0\n",
      "==============================\n",
      "- Swapped variable a: 0 \n",
      "- Swapped variable b: 10\n"
     ]
    }
   ],
   "source": [
    "# Solution 2\n",
    "\n",
    "class Solution(object):\n",
    "    def swap_variables(self, var_a, var_b):\n",
    "        \"\"\"\n",
    "        :var_a: int\n",
    "        :var_b: int\n",
    "        \"\"\"\n",
    "        \n",
    "\n",
    "        print(f\"- Original variable a: {var_a} \\n- Original variable b: {var_b}\")\n",
    "\n",
    "        var_a, var_b = var_b, var_a\n",
    "\n",
    "        print(\"=\"*30)\n",
    "        print(f\"- Swapped variable a: {var_a} \\n- Swapped variable b: {var_b}\")\n",
    "\n",
    "variable_a = int(input(\"Enter first variable: \"))\n",
    "variable_b = int(input(\"Enter first variable: \"))\n",
    "my_solution = Solution()\n",
    "my_solution.swap_variables(variable_a, variable_b)"
   ]
  },
  {
   "cell_type": "markdown",
   "metadata": {},
   "source": [
    "### Write a Python program to generate a random number [1]"
   ]
  },
  {
   "cell_type": "code",
   "execution_count": null,
   "metadata": {},
   "outputs": [
    {
     "name": "stdout",
     "output_type": "stream",
     "text": [
      "Random integer from 0 to 1000: 292\n"
     ]
    }
   ],
   "source": [
    "# Solution 1 \n",
    "\n",
    "import random\n",
    "\n",
    "print(f\"Random integer from 0 to 1000: {random.randint(0,1000)}\")"
   ]
  },
  {
   "cell_type": "code",
   "execution_count": 11,
   "metadata": {},
   "outputs": [
    {
     "name": "stdout",
     "output_type": "stream",
     "text": [
      "Random integer from 0 to 1000: 364\n"
     ]
    }
   ],
   "source": [
    "# Solution 2\n",
    "\n",
    "import numpy as np\n",
    "\n",
    "print(f\"Random integer from 0 to 1000: {np.random.randint(0,1000, size=1)[0]}\")"
   ]
  },
  {
   "cell_type": "markdown",
   "metadata": {},
   "source": [
    "### Write a Python program to display calendar [1]"
   ]
  },
  {
   "cell_type": "code",
   "execution_count": 23,
   "metadata": {},
   "outputs": [
    {
     "name": "stdout",
     "output_type": "stream",
     "text": [
      "      May 1994\n",
      "Mo Tu We Th Fr Sa Su\n",
      "                   1\n",
      " 2  3  4  5  6  7  8\n",
      " 9 10 11 12 13 14 15\n",
      "16 17 18 19 20 21 22\n",
      "23 24 25 26 27 28 29\n",
      "30 31\n",
      "\n"
     ]
    }
   ],
   "source": [
    "import calendar\n",
    "\n",
    "class Solution(object):\n",
    "    def show_calendar(self, y, m):\n",
    "        \"\"\"\n",
    "        :y: int\n",
    "        :m: int\n",
    "        \"\"\"\n",
    "\n",
    "        print(calendar.month(y, m))\n",
    "\n",
    "year_var = int(input(\"Enter the year: \"))\n",
    "month_var = int(input(\"Enter the month: \"))\n",
    "my_solution = Solution()\n",
    "my_solution.show_calendar(year_var, month_var)"
   ]
  },
  {
   "cell_type": "markdown",
   "metadata": {},
   "source": [
    "### Write a Python Program to Check if a Number is Odd or Even [1]"
   ]
  },
  {
   "cell_type": "code",
   "execution_count": null,
   "metadata": {},
   "outputs": [
    {
     "name": "stdout",
     "output_type": "stream",
     "text": [
      "Choosen number = 10\n",
      "10 is even\n"
     ]
    }
   ],
   "source": [
    "class Solution(object):\n",
    "    def evan_or_odd(self, num):\n",
    "        \"\"\"\n",
    "        :num: int\n",
    "        \"\"\"\n",
    "\n",
    "        print(f\"Choosen number = {num}\")\n",
    "        if (num + 1)%2 == 0:\n",
    "            print(f\"{num} is odd\")\n",
    "        else:\n",
    "            print(f\"{num} is even\")\n",
    "\n",
    "number_var = int(input(\"Enter a number: \"))\n",
    "my_solution = Solution()\n",
    "my_solution.evan_or_odd(number_var)"
   ]
  },
  {
   "cell_type": "markdown",
   "metadata": {},
   "source": [
    "### Write a Python Program to Check Leap Year [1]"
   ]
  },
  {
   "cell_type": "code",
   "execution_count": 42,
   "metadata": {},
   "outputs": [
    {
     "name": "stdout",
     "output_type": "stream",
     "text": [
      "2016 is leap.\n"
     ]
    }
   ],
   "source": [
    "class Solution(object):\n",
    "    def leap_year(self, y):\n",
    "        \"\"\"\n",
    "        :y: int\n",
    "        \"\"\"\n",
    "        return (y%4==0 and y%100 != 0) or (y%400 == 0)\n",
    "    \n",
    "year = int(input(\"Enter a year: \"))\n",
    "my_solution = Solution()\n",
    "if my_solution.leap_year(year):\n",
    "    print(f\"{year} is leap.\")\n",
    "else:\n",
    "    print(f\"{year} is not leap.\")"
   ]
  },
  {
   "cell_type": "markdown",
   "metadata": {},
   "source": [
    "### Write a Python Program to Check Prime Number [1]"
   ]
  },
  {
   "cell_type": "code",
   "execution_count": 47,
   "metadata": {},
   "outputs": [
    {
     "name": "stdout",
     "output_type": "stream",
     "text": [
      "13 is prime.\n"
     ]
    }
   ],
   "source": [
    "class Solution(object):\n",
    "    def is_prime(self, num):\n",
    "        \"\"\"\n",
    "        :num: int\n",
    "        \"\"\"\n",
    "\n",
    "        if num <= 1:\n",
    "            return False\n",
    "        else:\n",
    "            for i in range(2, num):\n",
    "                if (num % i) == 0:\n",
    "                    return False\n",
    "            return True\n",
    "        \n",
    "number = int(input(\"Enter a number: \"))\n",
    "my_solution = Solution()\n",
    "if my_solution.is_prime(number):\n",
    "    print(f\"{number} is prime.\")\n",
    "else:\n",
    "    print(f\"{number} is not prime.\")          "
   ]
  },
  {
   "cell_type": "markdown",
   "metadata": {},
   "source": [
    "### Write a Python Program to Print all Prime Numbers in an Interval of 1-10 [1]"
   ]
  },
  {
   "cell_type": "code",
   "execution_count": null,
   "metadata": {},
   "outputs": [
    {
     "name": "stdout",
     "output_type": "stream",
     "text": [
      "Prime numbers between 2 and 50 are:\n",
      "2\n",
      "3\n",
      "5\n",
      "7\n",
      "11\n",
      "13\n",
      "17\n",
      "19\n",
      "23\n",
      "29\n",
      "31\n",
      "37\n",
      "41\n",
      "43\n",
      "47\n"
     ]
    }
   ],
   "source": [
    "class Solution(object):\n",
    "    def is_prime(self, num):\n",
    "        \"\"\"\n",
    "        :num: int\n",
    "        \"\"\"\n",
    "\n",
    "        if num <= 1:\n",
    "            return False\n",
    "        else:\n",
    "            for i in range(2, num):\n",
    "                if (num % i) == 0:\n",
    "                    return False\n",
    "            return True\n",
    "        \n",
    "    def n_prime(self, min_num, max_num):\n",
    "        \"\"\"\n",
    "        :min_num: int\n",
    "        :max_num: int\n",
    "        \"\"\"\n",
    "        for i in range(min_num, max_num):\n",
    "            if self.is_prime(i):\n",
    "                print(i)\n",
    "\n",
    "lower = int(input(\"Enter a lower number of the interval: \"))\n",
    "upper = int(input(\"Enter a upper number of the interval: \"))\n",
    "my_solution = Solution()\n",
    "print(\"Prime numbers between\", lower, \"and\", upper, \"are:\")\n",
    "my_solution.n_prime(lower, upper)"
   ]
  },
  {
   "cell_type": "markdown",
   "metadata": {},
   "source": [
    "### Write a Python Program to Find the Factorial of a Number [1]"
   ]
  },
  {
   "cell_type": "code",
   "execution_count": 58,
   "metadata": {},
   "outputs": [
    {
     "name": "stdout",
     "output_type": "stream",
     "text": [
      "Factorial of 7 is 5040\n"
     ]
    }
   ],
   "source": [
    "class Solution(object):\n",
    "    def factorial_n(self, num):\n",
    "        \"\"\"\n",
    "        :num: int\n",
    "        \"\"\"\n",
    "        if num < 0:\n",
    "            print(\"Number should be greater than 0\")\n",
    "        elif num == 0 or num == 1:\n",
    "            print(f\"Factorial of {num} is 1\")\n",
    "        else:\n",
    "            fact = 1\n",
    "            for i in range(2, num+1):\n",
    "                fact = fact * i\n",
    "            print(f\"Factorial of {num} is {fact}\")\n",
    "\n",
    "number = int(input(\"Enter a number: \"))\n",
    "my_solution = Solution()\n",
    "my_solution.factorial_n(number)"
   ]
  },
  {
   "cell_type": "markdown",
   "metadata": {},
   "source": [
    "### Write a Python Program to Print the Fibonacci sequence [1]"
   ]
  },
  {
   "cell_type": "code",
   "execution_count": 61,
   "metadata": {},
   "outputs": [
    {
     "data": {
      "text/plain": [
       "[0, 1, 1, 2, 3, 5, 8, 13, 21, 34]"
      ]
     },
     "execution_count": 61,
     "metadata": {},
     "output_type": "execute_result"
    }
   ],
   "source": [
    "# Solution 1 - Iterative method\n",
    "\n",
    "class Solution(object):\n",
    "    def fibonacci_seq(self, num):\n",
    "        \"\"\"\n",
    "        :num: int\n",
    "        \"\"\"\n",
    "        if num < 0:\n",
    "            print(\"Number should be greater than 0\")\n",
    "        elif num == 0:\n",
    "            return num\n",
    "        elif num == 1:\n",
    "            return [num-1, num]\n",
    "        else:\n",
    "            seq = [0,1]\n",
    "            for i in range(2, num):\n",
    "                seq.append(seq[-1] + seq[-2])\n",
    "            return seq\n",
    "\n",
    "number = int(input(\"Enter a number: \"))\n",
    "my_solution = Solution()\n",
    "my_solution.fibonacci_seq(number)"
   ]
  },
  {
   "cell_type": "code",
   "execution_count": null,
   "metadata": {},
   "outputs": [
    {
     "name": "stdout",
     "output_type": "stream",
     "text": [
      "Fibonacci sequence up to 10: [0, 1, 1, 2, 3, 5, 8, 13, 21, 34]\n"
     ]
    }
   ],
   "source": [
    "# Solution 2 - Recursive method\n",
    "\n",
    "class Solution(object):\n",
    "    def fibonacci_seq(self, num):\n",
    "        \"\"\"\n",
    "        :num: int\n",
    "        \"\"\"\n",
    "        if num < 0:\n",
    "            print(\"Number should be greater than 0\")\n",
    "        elif num <= 1:\n",
    "            return num\n",
    "        else:\n",
    "            return self.fibonacci_seq(num-1) + self.fibonacci_seq(num-2)\n",
    "\n",
    "number = int(input(\"Enter a number: \"))\n",
    "my_solution = Solution()\n",
    "print(f\"Fibonacci sequence up to {number}: {[my_solution.fibonacci_seq(n) for n in range(0, number)]}\")"
   ]
  },
  {
   "cell_type": "markdown",
   "metadata": {},
   "source": [
    "### Write a Python Program to Find the Sum of Natural Numbers [1]"
   ]
  },
  {
   "cell_type": "code",
   "execution_count": 70,
   "metadata": {},
   "outputs": [
    {
     "name": "stdout",
     "output_type": "stream",
     "text": [
      "Sum of first 10 natural numbers: 55\n"
     ]
    }
   ],
   "source": [
    "class Solution(object):\n",
    "    def sum_natural(self, num):\n",
    "        \"\"\"\n",
    "        :num: int\n",
    "        \"\"\"\n",
    "        sum = 0\n",
    "        if num <= 0:\n",
    "            print(\"Number should be greater than 0\")\n",
    "        for i in range(0,num+1):\n",
    "            sum += i\n",
    "        return sum\n",
    "\n",
    "number = int(input(\"Enter a number: \"))\n",
    "my_solution = Solution()\n",
    "print(f\"Sum of first {number} natural numbers: {my_solution.sum_natural(number)}\")"
   ]
  },
  {
   "cell_type": "markdown",
   "metadata": {},
   "source": [
    "### Write a Python Program to Find LCM [1]"
   ]
  },
  {
   "cell_type": "code",
   "execution_count": 80,
   "metadata": {},
   "outputs": [
    {
     "name": "stdout",
     "output_type": "stream",
     "text": [
      "Least Common Multiple for (10, 100): 100\n"
     ]
    }
   ],
   "source": [
    "class Solution(object):\n",
    "    def lcm(self, num_1, num_2):\n",
    "        \"\"\"\n",
    "        :num_1: int\n",
    "        :num_2: int\n",
    "        \"\"\"\n",
    "        if num_1 < 0 or num_2 < 0:\n",
    "            print(\"You need positive numbers\")\n",
    "            return None\n",
    "\n",
    "        maximum = max(num_1, num_2)\n",
    "\n",
    "        while True:\n",
    "            if maximum%num_1==0 and maximum%num_2==0:\n",
    "                return maximum\n",
    "            maximum += 1\n",
    "\n",
    "number_1 = int(input(\"Enter a number: \"))\n",
    "number_2 = int(input(\"Enter a number: \"))\n",
    "my_solution = Solution()\n",
    "print(f\"Least Common Multiple for {number_1, number_2}: {my_solution.lcm(number_1, number_2)}\")"
   ]
  },
  {
   "cell_type": "code",
   "execution_count": null,
   "metadata": {},
   "outputs": [
    {
     "name": "stdout",
     "output_type": "stream",
     "text": [
      "Least Common Multiple for (4, 12): 12\n"
     ]
    }
   ],
   "source": [
    "# I found out that maybe there is a more efficient solution with the GCD formula\n",
    "\n",
    "class Solution(object):\n",
    "    def gdc(self, a, b):\n",
    "        minimum = min(a, b)\n",
    "        while True:\n",
    "            if a % minimum == 0 and b % minimum == 0:\n",
    "                return minimum\n",
    "            minimum -= 1\n",
    "\n",
    "    def lcm(self, num_1, num_2):\n",
    "        \"\"\"\n",
    "        :num_1: int\n",
    "        :num_2: int\n",
    "        \"\"\"\n",
    "        if num_1 < 0 or num_2 < 0:\n",
    "            print(\"You need positive numbers\")\n",
    "            return None\n",
    "        \n",
    "        return abs(num_1*num_2) // self.gdc(num_1, num_2)\n",
    "\n",
    "number_1 = int(input(\"Enter a number: \"))\n",
    "number_2 = int(input(\"Enter a number: \"))\n",
    "my_solution = Solution()\n",
    "print(f\"Least Common Multiple for {number_1, number_2}: {my_solution.lcm(number_1, number_2)}\")"
   ]
  },
  {
   "cell_type": "markdown",
   "metadata": {},
   "source": [
    "### Write a Python Program to Convert Decimal to Binary, Octal and Hexadecimal [1]"
   ]
  },
  {
   "cell_type": "code",
   "execution_count": 100,
   "metadata": {},
   "outputs": [
    {
     "name": "stdout",
     "output_type": "stream",
     "text": [
      "Conversion of 4 in Octal: 0o4\n"
     ]
    }
   ],
   "source": [
    "class Solution(object):\n",
    "    def number_conversion(self, num, f):\n",
    "        \"\"\"\n",
    "        :num: int\n",
    "        :f: str\n",
    "        \"\"\"\n",
    "        if f.lower() == 'binary':\n",
    "            return bin(num)\n",
    "        elif f.lower() == 'octal':\n",
    "            return oct(num)\n",
    "        elif f.lower() == 'hexadecimal':\n",
    "            return hex(num)\n",
    "        else:\n",
    "            print(\"Incorrect format!\")\n",
    "        \n",
    "number = int(input(\"Enter a number: \"))\n",
    "format = input(\"Enter a format: \")\n",
    "my_solution = Solution()\n",
    "print(f\"Conversion of {number} in {format.capitalize()}: {my_solution.number_conversion(number, format)}\")"
   ]
  },
  {
   "cell_type": "markdown",
   "metadata": {},
   "source": [
    "### Write a Python Program To Find ASCII value of a character [1]"
   ]
  },
  {
   "cell_type": "code",
   "execution_count": null,
   "metadata": {},
   "outputs": [],
   "source": []
  },
  {
   "cell_type": "markdown",
   "metadata": {},
   "source": [
    "## Intermediate"
   ]
  },
  {
   "cell_type": "markdown",
   "metadata": {},
   "source": [
    "## Advanced"
   ]
  }
 ],
 "metadata": {
  "kernelspec": {
   "display_name": ".venv",
   "language": "python",
   "name": "python3"
  },
  "language_info": {
   "codemirror_mode": {
    "name": "ipython",
    "version": 3
   },
   "file_extension": ".py",
   "mimetype": "text/x-python",
   "name": "python",
   "nbconvert_exporter": "python",
   "pygments_lexer": "ipython3",
   "version": "3.11.9"
  }
 },
 "nbformat": 4,
 "nbformat_minor": 2
}
