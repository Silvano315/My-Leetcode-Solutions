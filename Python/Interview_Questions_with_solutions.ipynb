{
 "cells": [
  {
   "cell_type": "markdown",
   "metadata": {},
   "source": [
    "# Questions & Answers from Tech Interviews: from beginners to advance\n",
    "\n",
    "This would be a collection of interviews requests about Python questions. This reference will be always mentioned for each question and the solution is given by myself (I always recommend to check your own solution and to give a look at the amazing references I used to take questions)\n",
    "\n",
    "References:\n",
    "- [1] 140+ Basic Python Programs from Piush Kumar Sharma\n",
    "- [2] [Youtube playlist](https://www.youtube.com/watch?v=KDoC6oHaTek&list=PL_46-JrHsoaa8hpVKwMv6UGqRBh939Dgx)"
   ]
  },
  {
   "cell_type": "markdown",
   "metadata": {},
   "source": [
    "## Easy"
   ]
  },
  {
   "cell_type": "markdown",
   "metadata": {},
   "source": [
    "### Write a Python program to swap two variables [1]"
   ]
  },
  {
   "cell_type": "code",
   "execution_count": null,
   "metadata": {},
   "outputs": [
    {
     "name": "stdout",
     "output_type": "stream",
     "text": [
      "- Original variable a: 5 \n",
      "- Original variable b: 4\n",
      "==============================\n",
      "- Swapped variable a: 4 \n",
      "- Swapped variable b: 5\n"
     ]
    }
   ],
   "source": [
    "# Solution 1\n",
    "\n",
    "class Solution(object):\n",
    "    def swap_variables(self, var_a, var_b):\n",
    "        \"\"\"\n",
    "        :var_a: int\n",
    "        :var_b: int\n",
    "        \"\"\"\n",
    "        \n",
    "\n",
    "        print(f\"- Original variable a: {var_a} \\n- Original variable b: {var_b}\")\n",
    "\n",
    "        temporary_variable = var_a\n",
    "        var_a = var_b\n",
    "        var_b = temporary_variable\n",
    "\n",
    "        print(\"=\"*30)\n",
    "        print(f\"- Swapped variable a: {var_a} \\n- Swapped variable b: {var_b}\")\n",
    "\n",
    "\n",
    "variable_a = int(input(\"Enter first variable: \"))\n",
    "variable_b = int(input(\"Enter first variable: \"))\n",
    "my_solution = Solution()\n",
    "my_solution.swap_variables(variable_a, variable_b)"
   ]
  },
  {
   "cell_type": "code",
   "execution_count": null,
   "metadata": {},
   "outputs": [
    {
     "name": "stdout",
     "output_type": "stream",
     "text": [
      "- Original variable a: 10 \n",
      "- Original variable b: 0\n",
      "==============================\n",
      "- Swapped variable a: 0 \n",
      "- Swapped variable b: 10\n"
     ]
    }
   ],
   "source": [
    "# Solution 2\n",
    "\n",
    "class Solution(object):\n",
    "    def swap_variables(self, var_a, var_b):\n",
    "        \"\"\"\n",
    "        :var_a: int\n",
    "        :var_b: int\n",
    "        \"\"\"\n",
    "        \n",
    "\n",
    "        print(f\"- Original variable a: {var_a} \\n- Original variable b: {var_b}\")\n",
    "\n",
    "        var_a, var_b = var_b, var_a\n",
    "\n",
    "        print(\"=\"*30)\n",
    "        print(f\"- Swapped variable a: {var_a} \\n- Swapped variable b: {var_b}\")\n",
    "\n",
    "variable_a = int(input(\"Enter first variable: \"))\n",
    "variable_b = int(input(\"Enter first variable: \"))\n",
    "my_solution = Solution()\n",
    "my_solution.swap_variables(variable_a, variable_b)"
   ]
  },
  {
   "cell_type": "markdown",
   "metadata": {},
   "source": [
    "### Write a Python program to generate a random number [1]"
   ]
  },
  {
   "cell_type": "code",
   "execution_count": null,
   "metadata": {},
   "outputs": [
    {
     "name": "stdout",
     "output_type": "stream",
     "text": [
      "Random integer from 0 to 1000: 292\n"
     ]
    }
   ],
   "source": [
    "# Solution 1 \n",
    "\n",
    "import random\n",
    "\n",
    "print(f\"Random integer from 0 to 1000: {random.randint(0,1000)}\")"
   ]
  },
  {
   "cell_type": "code",
   "execution_count": 11,
   "metadata": {},
   "outputs": [
    {
     "name": "stdout",
     "output_type": "stream",
     "text": [
      "Random integer from 0 to 1000: 364\n"
     ]
    }
   ],
   "source": [
    "# Solution 2\n",
    "\n",
    "import numpy as np\n",
    "\n",
    "print(f\"Random integer from 0 to 1000: {np.random.randint(0,1000, size=1)[0]}\")"
   ]
  },
  {
   "cell_type": "markdown",
   "metadata": {},
   "source": [
    "### Write a Python program to display calendar [1]"
   ]
  },
  {
   "cell_type": "code",
   "execution_count": 23,
   "metadata": {},
   "outputs": [
    {
     "name": "stdout",
     "output_type": "stream",
     "text": [
      "      May 1994\n",
      "Mo Tu We Th Fr Sa Su\n",
      "                   1\n",
      " 2  3  4  5  6  7  8\n",
      " 9 10 11 12 13 14 15\n",
      "16 17 18 19 20 21 22\n",
      "23 24 25 26 27 28 29\n",
      "30 31\n",
      "\n"
     ]
    }
   ],
   "source": [
    "import calendar\n",
    "\n",
    "class Solution(object):\n",
    "    def show_calendar(self, y, m):\n",
    "        \"\"\"\n",
    "        :y: int\n",
    "        :m: int\n",
    "        \"\"\"\n",
    "\n",
    "        print(calendar.month(y, m))\n",
    "\n",
    "year_var = int(input(\"Enter the year: \"))\n",
    "month_var = int(input(\"Enter the month: \"))\n",
    "my_solution = Solution()\n",
    "my_solution.show_calendar(year_var, month_var)"
   ]
  },
  {
   "cell_type": "markdown",
   "metadata": {},
   "source": [
    "### Write a Python Program to Check if a Number is Odd or Even [1]"
   ]
  },
  {
   "cell_type": "code",
   "execution_count": null,
   "metadata": {},
   "outputs": [
    {
     "name": "stdout",
     "output_type": "stream",
     "text": [
      "Choosen number = 10\n",
      "10 is even\n"
     ]
    }
   ],
   "source": [
    "class Solution(object):\n",
    "    def evan_or_odd(self, num):\n",
    "        \"\"\"\n",
    "        :num: int\n",
    "        \"\"\"\n",
    "\n",
    "        print(f\"Choosen number = {num}\")\n",
    "        if (num + 1)%2 == 0:\n",
    "            print(f\"{num} is odd\")\n",
    "        else:\n",
    "            print(f\"{num} is even\")\n",
    "\n",
    "number_var = int(input(\"Enter a number: \"))\n",
    "my_solution = Solution()\n",
    "my_solution.evan_or_odd(number_var)"
   ]
  },
  {
   "cell_type": "markdown",
   "metadata": {},
   "source": [
    "### Write a Python Program to Check Leap Year [1]"
   ]
  },
  {
   "cell_type": "code",
   "execution_count": 42,
   "metadata": {},
   "outputs": [
    {
     "name": "stdout",
     "output_type": "stream",
     "text": [
      "2016 is leap.\n"
     ]
    }
   ],
   "source": [
    "class Solution(object):\n",
    "    def leap_year(self, y):\n",
    "        \"\"\"\n",
    "        :y: int\n",
    "        \"\"\"\n",
    "        return (y%4==0 and y%100 != 0) or (y%400 == 0)\n",
    "    \n",
    "year = int(input(\"Enter a year: \"))\n",
    "my_solution = Solution()\n",
    "if my_solution.leap_year(year):\n",
    "    print(f\"{year} is leap.\")\n",
    "else:\n",
    "    print(f\"{year} is not leap.\")"
   ]
  },
  {
   "cell_type": "markdown",
   "metadata": {},
   "source": [
    "### Write a Python Program to Check Prime Number [1]"
   ]
  },
  {
   "cell_type": "code",
   "execution_count": 47,
   "metadata": {},
   "outputs": [
    {
     "name": "stdout",
     "output_type": "stream",
     "text": [
      "13 is prime.\n"
     ]
    }
   ],
   "source": [
    "class Solution(object):\n",
    "    def is_prime(self, num):\n",
    "        \"\"\"\n",
    "        :num: int\n",
    "        \"\"\"\n",
    "\n",
    "        if num <= 1:\n",
    "            return False\n",
    "        else:\n",
    "            for i in range(2, num):\n",
    "                if (num % i) == 0:\n",
    "                    return False\n",
    "            return True\n",
    "        \n",
    "number = int(input(\"Enter a number: \"))\n",
    "my_solution = Solution()\n",
    "if my_solution.is_prime(number):\n",
    "    print(f\"{number} is prime.\")\n",
    "else:\n",
    "    print(f\"{number} is not prime.\")          "
   ]
  },
  {
   "cell_type": "markdown",
   "metadata": {},
   "source": [
    "### Write a Python Program to Print all Prime Numbers in an Interval of 1-10 [1]"
   ]
  },
  {
   "cell_type": "code",
   "execution_count": null,
   "metadata": {},
   "outputs": [
    {
     "name": "stdout",
     "output_type": "stream",
     "text": [
      "Prime numbers between 2 and 50 are:\n",
      "2\n",
      "3\n",
      "5\n",
      "7\n",
      "11\n",
      "13\n",
      "17\n",
      "19\n",
      "23\n",
      "29\n",
      "31\n",
      "37\n",
      "41\n",
      "43\n",
      "47\n"
     ]
    }
   ],
   "source": [
    "class Solution(object):\n",
    "    def is_prime(self, num):\n",
    "        \"\"\"\n",
    "        :num: int\n",
    "        \"\"\"\n",
    "\n",
    "        if num <= 1:\n",
    "            return False\n",
    "        else:\n",
    "            for i in range(2, num):\n",
    "                if (num % i) == 0:\n",
    "                    return False\n",
    "            return True\n",
    "        \n",
    "    def n_prime(self, min_num, max_num):\n",
    "        \"\"\"\n",
    "        :min_num: int\n",
    "        :max_num: int\n",
    "        \"\"\"\n",
    "        for i in range(min_num, max_num):\n",
    "            if self.is_prime(i):\n",
    "                print(i)\n",
    "\n",
    "lower = int(input(\"Enter a lower number of the interval: \"))\n",
    "upper = int(input(\"Enter a upper number of the interval: \"))\n",
    "my_solution = Solution()\n",
    "print(\"Prime numbers between\", lower, \"and\", upper, \"are:\")\n",
    "my_solution.n_prime(lower, upper)"
   ]
  },
  {
   "cell_type": "markdown",
   "metadata": {},
   "source": [
    "### Write a Python Program to Find the Factorial of a Number [1]"
   ]
  },
  {
   "cell_type": "code",
   "execution_count": null,
   "metadata": {},
   "outputs": [
    {
     "name": "stdout",
     "output_type": "stream",
     "text": [
      "Factorial of 7 is 5040\n"
     ]
    }
   ],
   "source": [
    "# Solution 1 - Iteration\n",
    "\n",
    "class Solution(object):\n",
    "    def factorial_n(self, num):\n",
    "        \"\"\"\n",
    "        :num: int\n",
    "        \"\"\"\n",
    "        if num < 0:\n",
    "            print(\"Number should be greater than 0\")\n",
    "        elif num == 0 or num == 1:\n",
    "            print(f\"Factorial of {num} is 1\")\n",
    "        else:\n",
    "            fact = 1\n",
    "            for i in range(2, num+1):\n",
    "                fact = fact * i\n",
    "            print(f\"Factorial of {num} is {fact}\")\n",
    "\n",
    "number = int(input(\"Enter a number: \"))\n",
    "my_solution = Solution()\n",
    "my_solution.factorial_n(number)"
   ]
  },
  {
   "cell_type": "code",
   "execution_count": 9,
   "metadata": {},
   "outputs": [
    {
     "name": "stdout",
     "output_type": "stream",
     "text": [
      "Factorial of 7 is 5040\n"
     ]
    }
   ],
   "source": [
    "# Solution 2 - Recursion\n",
    "\n",
    "class Solution(object):\n",
    "    def factorial_n(self, num):\n",
    "        \"\"\"\n",
    "        :num: int\n",
    "        \"\"\"\n",
    "        if num < 0:\n",
    "            print(\"Number should be greater than 0\")\n",
    "        elif num == 0 or num == 1:\n",
    "            return 1\n",
    "        else:\n",
    "            return num * self.factorial_n(num-1)\n",
    "\n",
    "number = int(input(\"Enter a number: \"))\n",
    "my_solution = Solution()\n",
    "print(f\"Factorial of {number} is {my_solution.factorial_n(number)}\")"
   ]
  },
  {
   "cell_type": "markdown",
   "metadata": {},
   "source": [
    "### Write a Python Program to Print the Fibonacci sequence [1]"
   ]
  },
  {
   "cell_type": "code",
   "execution_count": 61,
   "metadata": {},
   "outputs": [
    {
     "data": {
      "text/plain": [
       "[0, 1, 1, 2, 3, 5, 8, 13, 21, 34]"
      ]
     },
     "execution_count": 61,
     "metadata": {},
     "output_type": "execute_result"
    }
   ],
   "source": [
    "# Solution 1 - Iterative method\n",
    "\n",
    "class Solution(object):\n",
    "    def fibonacci_seq(self, num):\n",
    "        \"\"\"\n",
    "        :num: int\n",
    "        \"\"\"\n",
    "        if num < 0:\n",
    "            print(\"Number should be greater than 0\")\n",
    "        elif num == 0:\n",
    "            return num\n",
    "        elif num == 1:\n",
    "            return [num-1, num]\n",
    "        else:\n",
    "            seq = [0,1]\n",
    "            for i in range(2, num):\n",
    "                seq.append(seq[-1] + seq[-2])\n",
    "            return seq\n",
    "\n",
    "number = int(input(\"Enter a number: \"))\n",
    "my_solution = Solution()\n",
    "my_solution.fibonacci_seq(number)"
   ]
  },
  {
   "cell_type": "code",
   "execution_count": null,
   "metadata": {},
   "outputs": [
    {
     "name": "stdout",
     "output_type": "stream",
     "text": [
      "Fibonacci sequence up to 10: [0, 1, 1, 2, 3, 5, 8, 13, 21, 34]\n"
     ]
    }
   ],
   "source": [
    "# Solution 2 - Recursive method\n",
    "\n",
    "class Solution(object):\n",
    "    def fibonacci_seq(self, num):\n",
    "        \"\"\"\n",
    "        :num: int\n",
    "        \"\"\"\n",
    "        if num < 0:\n",
    "            print(\"Number should be greater than 0\")\n",
    "        elif num <= 1:\n",
    "            return num\n",
    "        else:\n",
    "            return self.fibonacci_seq(num-1) + self.fibonacci_seq(num-2)\n",
    "\n",
    "number = int(input(\"Enter a number: \"))\n",
    "my_solution = Solution()\n",
    "print(f\"Fibonacci sequence up to {number}: {[my_solution.fibonacci_seq(n) for n in range(0, number)]}\")"
   ]
  },
  {
   "cell_type": "markdown",
   "metadata": {},
   "source": [
    "### Write a Python Program to Find the Sum of Natural Numbers [1]"
   ]
  },
  {
   "cell_type": "code",
   "execution_count": 70,
   "metadata": {},
   "outputs": [
    {
     "name": "stdout",
     "output_type": "stream",
     "text": [
      "Sum of first 10 natural numbers: 55\n"
     ]
    }
   ],
   "source": [
    "class Solution(object):\n",
    "    def sum_natural(self, num):\n",
    "        \"\"\"\n",
    "        :num: int\n",
    "        \"\"\"\n",
    "        sum = 0\n",
    "        if num <= 0:\n",
    "            print(\"Number should be greater than 0\")\n",
    "        for i in range(0,num+1):\n",
    "            sum += i\n",
    "        return sum\n",
    "\n",
    "number = int(input(\"Enter a number: \"))\n",
    "my_solution = Solution()\n",
    "print(f\"Sum of first {number} natural numbers: {my_solution.sum_natural(number)}\")"
   ]
  },
  {
   "cell_type": "markdown",
   "metadata": {},
   "source": [
    "### Write a Python Program to Find LCM [1]"
   ]
  },
  {
   "cell_type": "code",
   "execution_count": 80,
   "metadata": {},
   "outputs": [
    {
     "name": "stdout",
     "output_type": "stream",
     "text": [
      "Least Common Multiple for (10, 100): 100\n"
     ]
    }
   ],
   "source": [
    "class Solution(object):\n",
    "    def lcm(self, num_1, num_2):\n",
    "        \"\"\"\n",
    "        :num_1: int\n",
    "        :num_2: int\n",
    "        \"\"\"\n",
    "        if num_1 < 0 or num_2 < 0:\n",
    "            print(\"You need positive numbers\")\n",
    "            return None\n",
    "\n",
    "        maximum = max(num_1, num_2)\n",
    "\n",
    "        while True:\n",
    "            if maximum%num_1==0 and maximum%num_2==0:\n",
    "                return maximum\n",
    "            maximum += 1\n",
    "\n",
    "number_1 = int(input(\"Enter a number: \"))\n",
    "number_2 = int(input(\"Enter a number: \"))\n",
    "my_solution = Solution()\n",
    "print(f\"Least Common Multiple for {number_1, number_2}: {my_solution.lcm(number_1, number_2)}\")"
   ]
  },
  {
   "cell_type": "code",
   "execution_count": null,
   "metadata": {},
   "outputs": [
    {
     "name": "stdout",
     "output_type": "stream",
     "text": [
      "Least Common Multiple for (4, 12): 12\n"
     ]
    }
   ],
   "source": [
    "# I found out that maybe there is a more efficient solution with the GCD formula\n",
    "\n",
    "class Solution(object):\n",
    "    def gdc(self, a, b):\n",
    "        minimum = min(a, b)\n",
    "        while True:\n",
    "            if a % minimum == 0 and b % minimum == 0:\n",
    "                return minimum\n",
    "            minimum -= 1\n",
    "\n",
    "    def lcm(self, num_1, num_2):\n",
    "        \"\"\"\n",
    "        :num_1: int\n",
    "        :num_2: int\n",
    "        \"\"\"\n",
    "        if num_1 < 0 or num_2 < 0:\n",
    "            print(\"You need positive numbers\")\n",
    "            return None\n",
    "        \n",
    "        return abs(num_1*num_2) // self.gdc(num_1, num_2)\n",
    "\n",
    "number_1 = int(input(\"Enter a number: \"))\n",
    "number_2 = int(input(\"Enter a number: \"))\n",
    "my_solution = Solution()\n",
    "print(f\"Least Common Multiple for {number_1, number_2}: {my_solution.lcm(number_1, number_2)}\")"
   ]
  },
  {
   "cell_type": "markdown",
   "metadata": {},
   "source": [
    "### Write a Python Program to Convert Decimal to Binary, Octal and Hexadecimal [1]"
   ]
  },
  {
   "cell_type": "code",
   "execution_count": 100,
   "metadata": {},
   "outputs": [
    {
     "name": "stdout",
     "output_type": "stream",
     "text": [
      "Conversion of 4 in Octal: 0o4\n"
     ]
    }
   ],
   "source": [
    "class Solution(object):\n",
    "    def number_conversion(self, num, f):\n",
    "        \"\"\"\n",
    "        :num: int\n",
    "        :f: str\n",
    "        \"\"\"\n",
    "        if f.lower() == 'binary':\n",
    "            return bin(num)\n",
    "        elif f.lower() == 'octal':\n",
    "            return oct(num)\n",
    "        elif f.lower() == 'hexadecimal':\n",
    "            return hex(num)\n",
    "        else:\n",
    "            print(\"Incorrect format!\")\n",
    "        \n",
    "number = int(input(\"Enter a number: \"))\n",
    "format = input(\"Enter a format: \")\n",
    "my_solution = Solution()\n",
    "print(f\"Conversion of {number} in {format.capitalize()}: {my_solution.number_conversion(number, format)}\")"
   ]
  },
  {
   "cell_type": "markdown",
   "metadata": {},
   "source": [
    "### Write a Python Program To Find ASCII value of a character [1]"
   ]
  },
  {
   "cell_type": "code",
   "execution_count": 7,
   "metadata": {},
   "outputs": [
    {
     "name": "stdout",
     "output_type": "stream",
     "text": [
      "Conversion of P in ASCII: 80\n"
     ]
    }
   ],
   "source": [
    "class Solution(object):\n",
    "    def ascii_car(self, char):\n",
    "        \"\"\"\n",
    "        :char: str\n",
    "        \"\"\"\n",
    "        if len(char) > 1:\n",
    "            print(\"You need only one character!\")\n",
    "            return None\n",
    "        return ord(char)\n",
    "        \n",
    "character = str(input(\"Enter a character: \"))\n",
    "my_solution = Solution()\n",
    "print(f\"Conversion of {character} in ASCII: {my_solution.ascii_car(character)}\")"
   ]
  },
  {
   "cell_type": "markdown",
   "metadata": {},
   "source": [
    "### Write a Python Program to Split the array and add the first part to the end [1]"
   ]
  },
  {
   "cell_type": "code",
   "execution_count": null,
   "metadata": {},
   "outputs": [
    {
     "name": "stdout",
     "output_type": "stream",
     "text": [
      "Original Array: [1, 2, 3, 4, 5, 6, 7, 8, 9]\n",
      "Rotated Array: [6, 7, 8, 9, 1, 2, 3, 4, 5]\n"
     ]
    }
   ],
   "source": [
    "class Solution(object):\n",
    "    def rotate_array(self, arr, pos):\n",
    "        \"\"\"\n",
    "        :arr: List[int]\n",
    "        :pos: int\n",
    "        \"\"\"\n",
    "        dim = len(arr)\n",
    "        if pos < 0 or pos > dim:\n",
    "            return f\"Error! You need a position greater than 0 or less than array length {dim}\"\n",
    "        return arr[pos:] + arr[:pos]\n",
    "        \n",
    "array = [1,2,3,4,5,6,7,8,9]\n",
    "position = 5\n",
    "my_solution = Solution()\n",
    "print(\"Original Array:\", array)\n",
    "print(\"Rotated Array:\", my_solution.rotate_array(array, position))"
   ]
  },
  {
   "cell_type": "markdown",
   "metadata": {},
   "source": [
    "### Write a Python Program to check if given array is Monotonic [1]"
   ]
  },
  {
   "cell_type": "code",
   "execution_count": 22,
   "metadata": {},
   "outputs": [
    {
     "name": "stdout",
     "output_type": "stream",
     "text": [
      "Is Array Monotonic: False\n"
     ]
    }
   ],
   "source": [
    "class Solution(object):\n",
    "    def is_monotonic(self, arr):\n",
    "        \"\"\"\n",
    "        :arr: List[int]\n",
    "        \"\"\"\n",
    "        increasing = decreasing = True\n",
    "\n",
    "        for i in range(1, len(arr)):\n",
    "            if arr[i] > arr[i-1]:\n",
    "                decreasing = False\n",
    "            if arr[i] < arr[i-1]:\n",
    "                increasing = False\n",
    "        \n",
    "        return increasing or decreasing\n",
    "        \n",
    "array = [1,2,3,4,5,6,7,11,9]\n",
    "my_solution = Solution()\n",
    "print(\"Is Array Monotonic:\", my_solution.is_monotonic(array))"
   ]
  },
  {
   "cell_type": "markdown",
   "metadata": {},
   "source": [
    "### Write a Python Program to Add Two Matrices [1]"
   ]
  },
  {
   "cell_type": "code",
   "execution_count": 38,
   "metadata": {},
   "outputs": [
    {
     "name": "stdout",
     "output_type": "stream",
     "text": [
      "Matrix sum:\n",
      "[[10, 10, 10], [10, 10, 10], [10, 10, 10]]\n"
     ]
    }
   ],
   "source": [
    "class Solution(object):\n",
    "    def sum_matrices(self, mat_1, mat_2):\n",
    "        \"\"\"\n",
    "        :mat_1: List\n",
    "        :mat_2: List\n",
    "        \"\"\"\n",
    "\n",
    "        if len(mat_1) != len(mat_2) or len(mat_1[0]) != len(mat_2[0]):\n",
    "            return f\"Error! Matrices should have the same dimensions: ({len(mat_1)},{len(mat_1[0])}) ({len(mat_2)},{len(mat_2[0])})\"\n",
    "        \n",
    "        matrix_sum = [] \n",
    "        for i in range(0, len(mat_1)):\n",
    "            row = []\n",
    "            for j in range(0, len(mat_1[0])):\n",
    "                row.append(mat_1[i][j] + mat_2[i][j])\n",
    "            matrix_sum.append(row)\n",
    "        \n",
    "        return matrix_sum\n",
    "    \n",
    "matrix1 = [\n",
    "[1, 2, 3],\n",
    "[4, 5, 6],\n",
    "[7, 8, 9]\n",
    "]\n",
    "matrix2 = [\n",
    "[9, 8, 7],\n",
    "[6, 5, 4],\n",
    "[3, 2, 1]\n",
    "]\n",
    "\n",
    "my_solution = Solution()\n",
    "print(f\"Matrix sum:\\n{my_solution.sum_matrices(matrix1,matrix2)}\")"
   ]
  },
  {
   "cell_type": "markdown",
   "metadata": {},
   "source": [
    "### Write a Python Program to Multiply Two Matrices [1]"
   ]
  },
  {
   "cell_type": "code",
   "execution_count": 44,
   "metadata": {},
   "outputs": [
    {
     "name": "stdout",
     "output_type": "stream",
     "text": [
      "Matrix prod:\n",
      "[[30, 24, 18, 51], [84, 69, 54, 126]]\n"
     ]
    }
   ],
   "source": [
    "class Solution(object):\n",
    "    def multiply_matrices(self, mat_1, mat_2):\n",
    "        \"\"\"\n",
    "        :mat_1: List\n",
    "        :mat_2: List\n",
    "        \"\"\"\n",
    "\n",
    "        rows_1, cols_1 = len(mat_1), len(mat_1[0])\n",
    "        rows_2, cols_2 = len(mat_2), len(mat_2[0])\n",
    "\n",
    "        if cols_1 != rows_2:\n",
    "            raise ValueError(f\"Number of columns in A should be equal to the number of rows in B. ({rows_1},{cols_1}) != ({rows_2}, {cols_2})\")\n",
    "        \n",
    "        matrix_prod = [[0 for _ in range(cols_2)] for _ in range(rows_1)]\n",
    "        for i in range(0, rows_1):\n",
    "            for j in range(0, cols_2):\n",
    "                for k in range(0, cols_1):\n",
    "                    matrix_prod[i][j] += mat_1[i][k] * mat_2[k][j]\n",
    "        return matrix_prod\n",
    "    \n",
    "matrix1 = [\n",
    "[1, 2, 3],\n",
    "[4, 5, 6]\n",
    "]\n",
    "matrix2 = [\n",
    "[9, 8, 7, 8],\n",
    "[6, 5, 4, 8],\n",
    "[3, 2, 1, 9]\n",
    "]\n",
    "\n",
    "my_solution = Solution()\n",
    "print(f\"Matrix prod:\\n{my_solution.multiply_matrices(matrix1,matrix2)}\")"
   ]
  },
  {
   "cell_type": "code",
   "execution_count": null,
   "metadata": {},
   "outputs": [
    {
     "data": {
      "text/plain": [
       "matrix([[ 30,  24,  18,  51],\n",
       "        [ 84,  69,  54, 126]])"
      ]
     },
     "execution_count": 43,
     "metadata": {},
     "output_type": "execute_result"
    }
   ],
   "source": [
    "# If you need to check with Numpy\n",
    "\n",
    "import numpy as np\n",
    "\n",
    "np.matrix(matrix1)*np.matrix(matrix2)"
   ]
  },
  {
   "cell_type": "markdown",
   "metadata": {},
   "source": [
    "### Write a Python Program to Transpose a Matrix [1]"
   ]
  },
  {
   "cell_type": "code",
   "execution_count": 46,
   "metadata": {},
   "outputs": [
    {
     "name": "stdout",
     "output_type": "stream",
     "text": [
      "Matrix transpose:\n",
      "[[1, 4], [2, 5], [3, 6]]\n"
     ]
    }
   ],
   "source": [
    "class Solution(object):\n",
    "    def transpose_matrix(self, mat):\n",
    "        \"\"\"\n",
    "        :mat_1: List\n",
    "        \"\"\"\n",
    "\n",
    "        rows, cols = len(mat), len(mat[0])\n",
    "\n",
    "        mat_transpose = [[0 for _ in range(rows)] for _ in range(cols)]     \n",
    "        for i in range(0, rows):\n",
    "            for j in range(0, cols):\n",
    "                    mat_transpose[j][i] = mat[i][j]\n",
    "        return mat_transpose\n",
    "    \n",
    "matrix = [\n",
    "[1, 2, 3],\n",
    "[4, 5, 6]\n",
    "]\n",
    "\n",
    "my_solution = Solution()\n",
    "print(f\"Matrix transpose:\\n{my_solution.transpose_matrix(matrix)}\")"
   ]
  },
  {
   "cell_type": "markdown",
   "metadata": {},
   "source": [
    "### Write a Python Program to Sort Words in Alphabetic Order [1]"
   ]
  },
  {
   "cell_type": "code",
   "execution_count": null,
   "metadata": {},
   "outputs": [
    {
     "name": "stdout",
     "output_type": "stream",
     "text": [
      "Sentence: sdsad ewerew xv qewe oico bbv saa Aa\n",
      "Sorted words:\n",
      "\n",
      "1. Aa\n",
      "2. Bbv\n",
      "3. Ewerew\n",
      "4. Oico\n",
      "5. Qewe\n",
      "6. Saa\n",
      "7. Sdsad\n",
      "8. Xv\n"
     ]
    }
   ],
   "source": [
    "class Solution(object):\n",
    "    def alphabetic_sort(self, sent):\n",
    "        \"\"\"\n",
    "        :sent: string\n",
    "        \"\"\"\n",
    "        return sorted([word.lower() for word in sent.split(\" \")])\n",
    "    \n",
    "sentence = str(input(\"Enter a sentence: \"))\n",
    "\n",
    "my_solution = Solution()\n",
    "print(f\"Sentence: {sentence}\")\n",
    "print(f\"Sorted words:\\n\")\n",
    "words = my_solution.alphabetic_sort(sentence)\n",
    "for i in range(len(words)):\n",
    "    print(f\"{i+1}. {words[i].capitalize()}\")"
   ]
  },
  {
   "cell_type": "markdown",
   "metadata": {},
   "source": [
    "### Write a Python Program to Remove Punctuation From a String [1]"
   ]
  },
  {
   "cell_type": "code",
   "execution_count": 59,
   "metadata": {},
   "outputs": [
    {
     "name": "stdout",
     "output_type": "stream",
     "text": [
      "Sentence: ciao sono Silvano, vivo a Barletta e parlo Italiano!!\n",
      "Sentence without punctuation:\n",
      "ciao sono Silvano vivo a Barletta e parlo Italiano\n"
     ]
    }
   ],
   "source": [
    "class Solution(object):\n",
    "    def remove_punctuation(self, sent):\n",
    "        \"\"\"\n",
    "        :sent: string\n",
    "        \"\"\"\n",
    "        punctuations = '''!()-[]{};:'\"\\,<>./?@#$%^&*_~'''\n",
    "        for character in punctuations:\n",
    "            sent = sent.replace(f\"{character}\", \"\")\n",
    "        return sent\n",
    "    \n",
    "sentence = str(input(\"Enter a sentence: \"))\n",
    "\n",
    "my_solution = Solution()\n",
    "print(f\"Sentence: {sentence}\")\n",
    "print(f\"Sentence without punctuation:\")\n",
    "print(f\"{my_solution.remove_punctuation(sentence)}\")"
   ]
  },
  {
   "cell_type": "markdown",
   "metadata": {},
   "source": [
    "### Write a Python program to check if the given number is a Disarium Number [1]\n",
    "\n",
    "8<sup>1</sup> + 9<sup>2</sup> = 8 + 81 = 89"
   ]
  },
  {
   "cell_type": "code",
   "execution_count": null,
   "metadata": {},
   "outputs": [
    {
     "name": "stdout",
     "output_type": "stream",
     "text": [
      "This number is a Disarium Number: True\n"
     ]
    }
   ],
   "source": [
    "class Solution(object):\n",
    "    def is_disarium(self, num):\n",
    "        \"\"\"\n",
    "        :num: int\n",
    "        \"\"\"\n",
    "\n",
    "        if num < 0:\n",
    "            raise(ValueError(f\"Number should be greater than 0 and not {num}\"))\n",
    "\n",
    "        str_num = str(num)\n",
    "        squared_digits_sum = 0\n",
    "        for (i,digit) in enumerate(str_num):\n",
    "            squared_digits_sum += pow(int(digit),i+1)\n",
    "        return squared_digits_sum == num\n",
    "    \n",
    "number = int(input(\"Enter a number: \"))\n",
    "my_solution = Solution()\n",
    "print(f\"This number is a Disarium Number: {my_solution.is_disarium(number)}\")"
   ]
  },
  {
   "cell_type": "markdown",
   "metadata": {},
   "source": [
    "### Write a Python program to print all happy numbers between 1 and 100 [1]"
   ]
  },
  {
   "cell_type": "code",
   "execution_count": 68,
   "metadata": {},
   "outputs": [
    {
     "name": "stdout",
     "output_type": "stream",
     "text": [
      "These are happy numbers from 0 to 100: [1, 7, 10, 13, 19, 23, 28, 31, 32, 44, 49, 68, 70, 79, 82, 86, 91, 94, 97]\n"
     ]
    }
   ],
   "source": [
    "class Solution(object):\n",
    "    def is_happy(self, num):\n",
    "        \"\"\"\n",
    "        :num: int\n",
    "        \"\"\"\n",
    "\n",
    "        if num < 0:\n",
    "            raise(ValueError(f\"Number should be greater than 0 and not {num}\"))\n",
    "        \n",
    "        seen_numbers = set()\n",
    "\n",
    "        while num != 1 and num not in seen_numbers:\n",
    "            seen_numbers.add(num)\n",
    "            str_num = str(num)\n",
    "            num = 0\n",
    "            for digit in str_num:\n",
    "                num += pow(int(digit),2)\n",
    "        return num == 1\n",
    "    \n",
    "    def happy_seq(self, min, max):\n",
    "        happy_nums = []\n",
    "        for i in range(min, max):\n",
    "            if self.is_happy(i):\n",
    "                happy_nums.append(i)\n",
    "        return happy_nums\n",
    "    \n",
    "lower = int(input(\"Enter a lower number: \"))\n",
    "upper = int(input(\"Enter a upper number: \"))\n",
    "my_solution = Solution()\n",
    "print(f\"These are happy numbers from {lower} to {upper}: {my_solution.happy_seq(lower, upper)}\")"
   ]
  },
  {
   "cell_type": "markdown",
   "metadata": {},
   "source": [
    "### Write a Python program to determine whether the given number is a Harshad Number [1]"
   ]
  },
  {
   "cell_type": "code",
   "execution_count": 77,
   "metadata": {},
   "outputs": [
    {
     "name": "stdout",
     "output_type": "stream",
     "text": [
      "This number is a Harshad Number: True\n"
     ]
    }
   ],
   "source": [
    "class Solution(object):\n",
    "    def is_harshad(self, num):\n",
    "        \"\"\"\n",
    "        :num: int\n",
    "        \"\"\"\n",
    "\n",
    "        if num < 0:\n",
    "            raise(ValueError(f\"Number should be greater than 0 and not {num}\"))\n",
    "\n",
    "        str_num = str(num)\n",
    "        digits_sum = 0\n",
    "        for digit in str_num:\n",
    "            digits_sum += int(digit)\n",
    "        return num % digits_sum == 0\n",
    "    \n",
    "number = int(input(\"Enter a number: \"))\n",
    "my_solution = Solution()\n",
    "print(f\"This number is a Harshad Number: {my_solution.is_harshad(number)}\")"
   ]
  },
  {
   "cell_type": "markdown",
   "metadata": {},
   "source": [
    "### Write a Python program to find second largest number in a list [1]"
   ]
  },
  {
   "cell_type": "code",
   "execution_count": 4,
   "metadata": {},
   "outputs": [
    {
     "name": "stdout",
     "output_type": "stream",
     "text": [
      "The second max number is: 44\n"
     ]
    }
   ],
   "source": [
    "class Solution(object):\n",
    "    def second_max(self, nums):\n",
    "        \"\"\"\n",
    "        :nums: List[int]\n",
    "        \"\"\"\n",
    "\n",
    "        if len(nums) <= 1:\n",
    "            raise(ValueError(f\"List of integers is less than 1 element!\"))\n",
    "\n",
    "        nums.sort()\n",
    "\n",
    "        return nums[-2]\n",
    "    \n",
    "numbers = [32,44,6,4,22,66]\n",
    "my_solution = Solution()\n",
    "print(f\"The second max number is: {my_solution.second_max(numbers)}\")"
   ]
  },
  {
   "cell_type": "markdown",
   "metadata": {},
   "source": [
    "### Write a Python program to find N largest elements from a list [1]"
   ]
  },
  {
   "cell_type": "code",
   "execution_count": 11,
   "metadata": {},
   "outputs": [
    {
     "name": "stdout",
     "output_type": "stream",
     "text": [
      "The 3 max numbers are: [32, 44, 66]\n"
     ]
    }
   ],
   "source": [
    "class Solution(object):\n",
    "    def second_max(self, nums, lim):\n",
    "        \"\"\"\n",
    "        :nums: List[int]\n",
    "        :lim: int\n",
    "        \"\"\"\n",
    "\n",
    "        if len(nums) <= lim-1:\n",
    "            raise(ValueError(f\"List of integers is less than 1 element!\"))\n",
    "\n",
    "        nums.sort()\n",
    "\n",
    "        return nums[-lim:]\n",
    "    \n",
    "numbers = [32,44,6,4,22,66]\n",
    "limit = 3\n",
    "my_solution = Solution()\n",
    "print(f\"The {limit} max numbers are: {my_solution.second_max(numbers, limit)}\")"
   ]
  },
  {
   "cell_type": "markdown",
   "metadata": {},
   "source": [
    "### Write a Python program to Remove empty List from List [1]"
   ]
  },
  {
   "cell_type": "code",
   "execution_count": 22,
   "metadata": {},
   "outputs": [
    {
     "name": "stdout",
     "output_type": "stream",
     "text": [
      "The List without empty lists:\n",
      "[[32, 44], [6, 4, 22], [66]]\n"
     ]
    }
   ],
   "source": [
    "class Solution(object):\n",
    "    def remove_empty_lists(self, ls):\n",
    "        \"\"\"\n",
    "        :ls: List[List]\n",
    "        \"\"\"\n",
    "\n",
    "        if len(ls) < 1:\n",
    "            raise(ValueError(f\"List is empty!\"))\n",
    "\n",
    "        ls_no_empty = []\n",
    "        for i in range(len(ls)):\n",
    "            if len(ls[i]) > 0:\n",
    "                ls_no_empty.append(ls[i])\n",
    "        return ls_no_empty\n",
    "    \n",
    "        # Easier solution with list comprehension\n",
    "        #return [ls_no_empty for ls_no_empty in ls if len(ls_no_empty) > 0]\n",
    "    \n",
    "lists = [[32,44], [], [6,4,22],[66], []]\n",
    "my_solution = Solution()\n",
    "print(f\"The List without empty lists:\\n{my_solution.remove_empty_lists(lists)}\")"
   ]
  },
  {
   "cell_type": "markdown",
   "metadata": {},
   "source": [
    "### Write a Python program to Count occurrences of an element in a list [1]"
   ]
  },
  {
   "cell_type": "code",
   "execution_count": null,
   "metadata": {},
   "outputs": [
    {
     "name": "stdout",
     "output_type": "stream",
     "text": [
      "The of occurances for 4 in the list is: 2\n"
     ]
    }
   ],
   "source": [
    "class Solution(object):\n",
    "    def count_occurrences(self, l, num):\n",
    "        \"\"\"\n",
    "        :l: List[int]\n",
    "        :num: int\n",
    "        \"\"\"\n",
    "\n",
    "        if len(l) < 1:\n",
    "            raise(ValueError(f\"List is empty!\"))\n",
    "        \n",
    "        return l.count(num)\n",
    "\n",
    "        \n",
    "    \n",
    "_list = [1, 2, 3, 4, 2, 5, 2, 3, 4, 6, 5]\n",
    "number = 4\n",
    "my_solution = Solution()\n",
    "print(f\"The of occurances for {number} in the list is: {my_solution.count_occurrences(_list, number)}\")"
   ]
  },
  {
   "cell_type": "markdown",
   "metadata": {},
   "source": [
    "### Write a Python program for removing 𝑖-𝑡ℎ character from a string [1]"
   ]
  },
  {
   "cell_type": "code",
   "execution_count": null,
   "metadata": {},
   "outputs": [
    {
     "name": "stdout",
     "output_type": "stream",
     "text": [
      "The string before removing 4-th element: Hi, Mmy name is Silvano!!\n",
      "The string after removing 4-th element: Hi, my name is Silvano!!\n"
     ]
    }
   ],
   "source": [
    "class Solution(object):\n",
    "    def del_character(self, s, num):\n",
    "        \"\"\"\n",
    "        :s: string\n",
    "        :num: int\n",
    "        \"\"\"\n",
    "\n",
    "        if len(s) <= 0 or len(s) <= num:\n",
    "            raise(ValueError(f\"String with wrong length: {len(s)}\"))\n",
    "        \n",
    "        return s[:num] + s[num+1:]\n",
    "\n",
    "        \n",
    "     \n",
    "string_before = str(input(\"Enter a string: \"))\n",
    "position = 4\n",
    "my_solution = Solution()\n",
    "print(f\"The string before removing {position}-th element: {string_before}\")\n",
    "print(f\"The string after removing {position}-th element: {my_solution.del_character(string_before, position)}\")"
   ]
  },
  {
   "cell_type": "markdown",
   "metadata": {},
   "source": [
    "### Write a Python program to check if a given string is binary string or not [1]"
   ]
  },
  {
   "cell_type": "code",
   "execution_count": null,
   "metadata": {},
   "outputs": [
    {
     "name": "stdout",
     "output_type": "stream",
     "text": [
      "The string 010101010f is binary: False\n"
     ]
    }
   ],
   "source": [
    "class Solution(object):\n",
    "    def is_string_binary(self, s):\n",
    "        \"\"\"\n",
    "        :s: string\n",
    "        \"\"\"\n",
    "\n",
    "        if len(s) <= 0:\n",
    "            raise(ValueError(f\"String with wrong length: {len(s)}\"))\n",
    "        \n",
    "        for c in s:\n",
    "            if c not in \"01\":\n",
    "                return False\n",
    "        return True\n",
    "     \n",
    "_string = str(input(\"Enter a string: \"))\n",
    "my_solution = Solution()\n",
    "print(f\"The string {_string} is binary: {my_solution.is_string_binary(_string)}\")"
   ]
  },
  {
   "cell_type": "markdown",
   "metadata": {},
   "source": [
    "### Write a Python program to find all duplicate characters in string [1]"
   ]
  },
  {
   "cell_type": "code",
   "execution_count": null,
   "metadata": {},
   "outputs": [
    {
     "name": "stdout",
     "output_type": "stream",
     "text": [
      "String: Hi, my name is Silvano\n",
      "The duplicates are: {'m', 'n', ' ', 'a', 'i'}\n"
     ]
    }
   ],
   "source": [
    "class Solution(object):\n",
    "    def find_duplicates(self, s):\n",
    "        \"\"\"\n",
    "        :s: string\n",
    "        \"\"\"\n",
    "\n",
    "        if len(s) <= 0:\n",
    "            raise(ValueError(f\"Strings with wrong length: {len(s)}\"))\n",
    "        \n",
    "        duplicates = []\n",
    "\n",
    "        for (i,c)in enumerate(s):\n",
    "            if c in s[i+1:]:\n",
    "                duplicates.append(c)\n",
    "\n",
    "        return set(duplicates)\n",
    "\n",
    "\n",
    "string_ = str(input(\"Enter a string: \"))\n",
    "my_solution = Solution()\n",
    "print(f\"String: {string_}\")\n",
    "print(f\"The duplicates are: {my_solution.find_duplicates(string_)}\")"
   ]
  },
  {
   "cell_type": "markdown",
   "metadata": {},
   "source": [
    "### Write a Python Program to check if a string contains any special character [1]"
   ]
  },
  {
   "cell_type": "code",
   "execution_count": null,
   "metadata": {},
   "outputs": [
    {
     "name": "stdout",
     "output_type": "stream",
     "text": [
      "String: Hi, my name is Silvano!!\n",
      "The string contains special characters: True\n"
     ]
    }
   ],
   "source": [
    "# Solution 1 - for loop\n",
    "\n",
    "class Solution(object):\n",
    "    def is_special_char(self, s):\n",
    "        \"\"\"\n",
    "        :s: string\n",
    "        \"\"\"\n",
    "\n",
    "        if len(s) <= 0:\n",
    "            raise(ValueError(f\"Strings with wrong length: {len(s)}\"))\n",
    "        \n",
    "        specials = r'[!@#$%^&*()_+{}\\[\\]:;<>,.?~\\\\\\/\\'\"\\-=]'\n",
    "        \n",
    "        for c in s:\n",
    "            if c in specials:\n",
    "                return True\n",
    "        \n",
    "        return False\n",
    "\n",
    "\n",
    "string_ = str(input(\"Enter a string: \"))\n",
    "my_solution = Solution()\n",
    "print(f\"String: {string_}\")\n",
    "print(f\"The string contains special characters: {my_solution.is_special_char(string_)}\")"
   ]
  },
  {
   "cell_type": "code",
   "execution_count": null,
   "metadata": {},
   "outputs": [
    {
     "name": "stdout",
     "output_type": "stream",
     "text": [
      "String: Hi, my name is Silvano!!\n",
      "The string contains special characters: True\n"
     ]
    }
   ],
   "source": [
    "# Solution 2 - regular expression\n",
    "\n",
    "import re\n",
    "\n",
    "class Solution(object):\n",
    "    def is_special_char(self, s):\n",
    "        \"\"\"\n",
    "        :s: string\n",
    "        \"\"\"\n",
    "\n",
    "        if len(s) <= 0:\n",
    "            raise(ValueError(f\"Strings with wrong length: {len(s)}\"))\n",
    "        \n",
    "        specials = r'[!@#$%^&*()_+{}\\[\\]:;<>,.?~\\\\\\/\\'\"\\-=]'\n",
    "        \n",
    "        return True if re.search(specials, s) else False\n",
    "\n",
    "\n",
    "string_ = str(input(\"Enter a string: \"))\n",
    "my_solution = Solution()\n",
    "print(f\"String: {string_}\")\n",
    "print(f\"The string contains special characters: {my_solution.is_special_char(string_)}\")"
   ]
  },
  {
   "cell_type": "markdown",
   "metadata": {},
   "source": [
    "### Write a Python program to Extract Unique dictionary values [1]"
   ]
  },
  {
   "cell_type": "code",
   "execution_count": null,
   "metadata": {},
   "outputs": [
    {
     "name": "stdout",
     "output_type": "stream",
     "text": [
      "The unique values in the dict are: [10, 20, 30]\n"
     ]
    }
   ],
   "source": [
    "class Solution(object):\n",
    "    def unique_val(self, d):\n",
    "        \"\"\"\n",
    "        :d: Dict\n",
    "        \"\"\"\n",
    "\n",
    "        if len(d) <= 0:\n",
    "            raise(ValueError(f\"Dict with wrong dimension: {len(d)}\"))\n",
    "        \n",
    "        unique_values = []\n",
    "        for k,v in d.items():\n",
    "            unique_values.append(v)\n",
    "        return list(set(unique_values))\n",
    "\n",
    "\n",
    "my_dict = {\n",
    "'a': 10,\n",
    "'b': 20,\n",
    "'c': 10,\n",
    "'d': 30,\n",
    "'e': 20\n",
    "}\n",
    "my_solution = Solution()\n",
    "print(f\"The unique values in the dict are: {my_solution.unique_val(my_dict)}\")"
   ]
  },
  {
   "cell_type": "markdown",
   "metadata": {},
   "source": [
    "### Write a Python program to Merging two Dictionaries [1]"
   ]
  },
  {
   "cell_type": "code",
   "execution_count": 53,
   "metadata": {},
   "outputs": [
    {
     "name": "stdout",
     "output_type": "stream",
     "text": [
      "The merged dict: \n",
      "{'a': 10, 'b': 20, 'c': 10, 'd': 30, 'e': 20, 'f': 10, 'g': 20, 'h': 10, 'i': 30, 'l': 20}\n"
     ]
    }
   ],
   "source": [
    "class Solution(object):\n",
    "    def merge_dict(self, d_1, d_2):\n",
    "        \"\"\"\n",
    "        :d_1: Dict\n",
    "        :d_2: Dict\n",
    "        \"\"\"\n",
    "\n",
    "        if len(d_1) <= 0 or len(d_2)<=0:\n",
    "            raise(ValueError(f\"Dicts with wrong dimensions: {len(d_1)}, {len(d_2)}\"))\n",
    "        \n",
    "        d_1.update(d_2)\n",
    "\n",
    "        return d_1\n",
    "\n",
    "\n",
    "my_dict_1 = {\n",
    "'a': 10,\n",
    "'b': 20,\n",
    "'c': 10,\n",
    "'d': 30,\n",
    "'e': 20\n",
    "}\n",
    "my_dict_2 = {\n",
    "'f': 10,\n",
    "'g': 20,\n",
    "'h': 10,\n",
    "'i': 30,\n",
    "'l': 20\n",
    "}\n",
    "\n",
    "my_solution = Solution()\n",
    "print(f\"The merged dict: \\n{my_solution.merge_dict(my_dict_1, my_dict_2)}\")"
   ]
  },
  {
   "cell_type": "markdown",
   "metadata": {},
   "source": [
    "### Write a Python program to convert key-values list to flat dictionary [1]"
   ]
  },
  {
   "cell_type": "code",
   "execution_count": 56,
   "metadata": {},
   "outputs": [
    {
     "name": "stdout",
     "output_type": "stream",
     "text": [
      "The dict from list of keys and values: \n",
      "{'a': 1, 'b': 2, 'c': 3, 'd': 4}\n"
     ]
    }
   ],
   "source": [
    "class Solution(object):\n",
    "    def create_dict(self, l):\n",
    "        \"\"\"\n",
    "        :l: List\n",
    "        \"\"\"\n",
    "\n",
    "        if len(l) <= 0:\n",
    "            raise(ValueError(f\"List with wrong dimension: {len(l)}\"))\n",
    "\n",
    "        # Easy solution\n",
    "        #return dict(l)\n",
    "        \n",
    "        new_dict = {}\n",
    "        for keys, values in l:\n",
    "            new_dict[keys] = values\n",
    "        return new_dict\n",
    "     \n",
    "\n",
    "\n",
    "list_k_v = [('a', 1), ('b', 2), ('c', 3), ('d', 4)]\n",
    "\n",
    "my_solution = Solution()\n",
    "print(f\"The dict from list of keys and values: \\n{my_solution.create_dict(list_k_v)}\")"
   ]
  },
  {
   "cell_type": "markdown",
   "metadata": {},
   "source": [
    "### Write a Python program to insertion at the beginning in OrderedDict [1]"
   ]
  },
  {
   "cell_type": "code",
   "execution_count": 16,
   "metadata": {},
   "outputs": [
    {
     "name": "stdout",
     "output_type": "stream",
     "text": [
      "The OrderedDict with new first element: \n",
      "OrderedDict([('a', 1), ('e', 5), ('b', 2), ('c', 3), ('d', 4)])\n"
     ]
    }
   ],
   "source": [
    "from collections import OrderedDict\n",
    "\n",
    "class Solution(object):\n",
    "    def insert_first(self, ord_dict, new):\n",
    "        \"\"\"\n",
    "        :ord_dict: OrderedDict\n",
    "        :new: set\n",
    "        \"\"\"\n",
    "\n",
    "        if len(ord_dict) <= 0:\n",
    "            raise(ValueError(f\"List with wrong dimension: {len(ord_dict)}\"))\n",
    "\n",
    "        new_ordered_item = OrderedDict([new])\n",
    "\n",
    "        new_ordered_item.update(ord_dict)\n",
    "\n",
    "        return new_ordered_item\n",
    "        \n",
    "\n",
    "ordered_dict = OrderedDict([('e', 5), ('b', 2), ('c', 3), ('d', 4)])\n",
    "new_item = ('a', 1)\n",
    "\n",
    "my_solution = Solution()\n",
    "print(f\"The OrderedDict with new first element: \\n{my_solution.insert_first(ordered_dict, new_item)}\")"
   ]
  },
  {
   "cell_type": "markdown",
   "metadata": {},
   "source": [
    "### Write a Python program to sort Python Dictionaries by Key or Value [1]"
   ]
  },
  {
   "cell_type": "code",
   "execution_count": 20,
   "metadata": {},
   "outputs": [
    {
     "name": "stdout",
     "output_type": "stream",
     "text": [
      "Sorted dict by keys: \n",
      "{'apple': 1, 'banana': 3, 'cherry': 2, 'date': 4}\n"
     ]
    }
   ],
   "source": [
    "class Solution(object):\n",
    "    def order_dict_by_key(self, d):\n",
    "        \"\"\"\n",
    "        :d: Dict\n",
    "        \"\"\"\n",
    "\n",
    "        if len(d) <= 0:\n",
    "            raise(ValueError(f\"List with wrong dimension: {len(d)}\"))\n",
    "\n",
    "        return dict(sorted(d.items()))\n",
    "        \n",
    "\n",
    "sample_dict = {'banana': 3, 'apple': 1, 'cherry': 2, 'date': 4}\n",
    "\n",
    "my_solution = Solution()\n",
    "print(f\"Sorted dict by keys: \\n{my_solution.order_dict_by_key(sample_dict)}\")"
   ]
  },
  {
   "cell_type": "markdown",
   "metadata": {},
   "source": [
    "### Write a program which takes 2 digits, X,Y as input and generates a 2-dimensional array. The element value in the i-th row and j-th column of the array should be i*j [1]"
   ]
  },
  {
   "cell_type": "code",
   "execution_count": 5,
   "metadata": {},
   "outputs": [
    {
     "name": "stdout",
     "output_type": "stream",
     "text": [
      "The array with product i*j using these numbers 5, 5: \n",
      "[[0, 0, 0, 0, 0], [0, 1, 2, 3, 4], [0, 2, 4, 6, 8], [0, 3, 6, 9, 12], [0, 4, 8, 12, 16]]\n"
     ]
    }
   ],
   "source": [
    "class Solution(object):\n",
    "    def prod_ij(self, num_1, num_2):\n",
    "        \"\"\"\n",
    "        :num_1: int\n",
    "        :num_2: int\n",
    "        \"\"\"\n",
    "\n",
    "        if num_1 <= 0 or num_2 <= 0:\n",
    "            raise(ValueError(f\"Numbers should be positive arrays greater than 0: {num_1}, {num_2}\"))\n",
    "        \n",
    "        return [[i*j for i in range(num_2)] for j in range(num_1)]\n",
    "\n",
    "\n",
    "     \n",
    "rows = int(input(\"Enter a number: \"))\n",
    "colums = int(input(\"Enter a number: \"))\n",
    "my_solution = Solution()\n",
    "print(f\"The array with product i*j using these numbers {rows}, {colums}: \\n{my_solution.prod_ij(rows, colums)}\")"
   ]
  },
  {
   "cell_type": "markdown",
   "metadata": {},
   "source": [
    "### Write a program that accepts a sequence of whitespace separated words as input and prints the words after removing all duplicate words and sorting them alphanumerically [1]"
   ]
  },
  {
   "cell_type": "code",
   "execution_count": null,
   "metadata": {},
   "outputs": [
    {
     "name": "stdout",
     "output_type": "stream",
     "text": [
      "String before removing duplicates and sorting it: hi my name name is silvano quarto and this is my first name\n",
      "String after removing duplicates and sorting it: and first hi is my name quarto silvano this\n"
     ]
    }
   ],
   "source": [
    "class Solution(object):\n",
    "    def remove_dup_and_sort(self, s):\n",
    "        \"\"\"\n",
    "        :s: string\n",
    "        \"\"\"\n",
    "\n",
    "        if len(s) <= 0:\n",
    "            raise(ValueError(f\"String is empty: {len(s)}\"))\n",
    "        \n",
    "        return \" \".join(sorted(set(s.split())))\n",
    "\n",
    "\n",
    "     \n",
    "string_ = input(\"Enter a string: \")\n",
    "my_solution = Solution()\n",
    "print(f\"String before removing duplicates and sorting it: {string_}\")\n",
    "print(f\"String after removing duplicates and sorting it: {my_solution.remove_dup_and_sort(string_)}\")"
   ]
  },
  {
   "cell_type": "markdown",
   "metadata": {},
   "source": [
    "### Write a program that accepts a sentence and calculate the number of letters and digits [1]"
   ]
  },
  {
   "cell_type": "code",
   "execution_count": 21,
   "metadata": {},
   "outputs": [
    {
     "name": "stdout",
     "output_type": "stream",
     "text": [
      "String: Ciao, sono Silvano e ho 30 anni\n",
      "Number of letters: 22 \n",
      "Number of digits: 2\n"
     ]
    }
   ],
   "source": [
    "class Solution(object):\n",
    "    def count_digits_letters(self, s):\n",
    "        \"\"\"\n",
    "        :s: string\n",
    "        \"\"\"\n",
    "\n",
    "        if len(s) <= 0:\n",
    "            raise(ValueError(f\"String is empty: {len(s)}\"))\n",
    "        \n",
    "        return len([i+1 for i in range(len(s)) if s[i].isalpha()]), len([j+1 for j in range(len(s)) if s[j].isdigit()])\n",
    "\n",
    "     \n",
    "string_ = input(\"Enter a string: \")\n",
    "my_solution = Solution()\n",
    "print(f\"String: {string_}\")\n",
    "letters, digits = my_solution.count_digits_letters(string_)\n",
    "print(f\"Number of letters: {letters} \\nNumber of digits: {digits}\")"
   ]
  },
  {
   "cell_type": "markdown",
   "metadata": {},
   "source": [
    "### Write a program to compute the frequency of the words from the input. The output should output after sorting the key alphanumerically [1]"
   ]
  },
  {
   "cell_type": "code",
   "execution_count": 12,
   "metadata": {},
   "outputs": [
    {
     "name": "stdout",
     "output_type": "stream",
     "text": [
      "String: New to Python or choosing between Python 2 and Python 3? Read Python 2 or Python 3.\n",
      "2: 2\n",
      "3: 2\n",
      "New: 1\n",
      "Python: 5\n",
      "Read: 1\n",
      "and: 1\n",
      "between: 1\n",
      "choosing: 1\n",
      "or: 2\n",
      "to: 1\n"
     ]
    }
   ],
   "source": [
    "import re\n",
    "\n",
    "class Solution(object):\n",
    "    def word_freq(self, s):\n",
    "        \"\"\"\n",
    "        :s: string\n",
    "        \"\"\"\n",
    "\n",
    "        if len(s) <= 0:\n",
    "            raise(ValueError(f\"String is empty: {len(s)}\"))\n",
    "        \n",
    "        cleaned_s = re.sub(r'[^a-zA-Z0-9 ]', '', s)\n",
    "\n",
    "        set_words = set(cleaned_s.split(' '))\n",
    "        dict_words_count = {}\n",
    "\n",
    "        for word in set_words:\n",
    "            dict_words_count[word] = cleaned_s.count(word)\n",
    "\n",
    "        return sorted(dict_words_count.items())\n",
    "        \n",
    "string_ = input(\"Enter a string: \")\n",
    "my_solution = Solution()\n",
    "print(f\"String: {string_}\")\n",
    "sorted_words_count = my_solution.word_freq(string_)\n",
    "for key, value in sorted_words_count:\n",
    "    print(f\"{key}: {value}\")"
   ]
  },
  {
   "cell_type": "markdown",
   "metadata": {},
   "source": [
    "### Define a class Person and its two child classes: Male and Female. All classes have a method \"getGender\" which can print \"Male\" for Male class and \"Female\" for Female class [1]"
   ]
  },
  {
   "cell_type": "code",
   "execution_count": 13,
   "metadata": {},
   "outputs": [
    {
     "name": "stdout",
     "output_type": "stream",
     "text": [
      "Unknown\n",
      "Male\n",
      "Female\n"
     ]
    }
   ],
   "source": [
    "class Person:\n",
    "    def GetGender(self):\n",
    "        return \"Unknown\"\n",
    "\n",
    "class Male(Person):\n",
    "    def GetGender(self):\n",
    "        return \"Male\"\n",
    "    \n",
    "class Female(Person):\n",
    "    def GetGender(self):\n",
    "        return \"Female\"\n",
    "    \n",
    "person = Person()\n",
    "male = Male()\n",
    "female = Female()\n",
    "print(person.GetGender())\n",
    "print(male.GetGender())\n",
    "print(female.GetGender())"
   ]
  },
  {
   "cell_type": "markdown",
   "metadata": {},
   "source": [
    "### Define a class named Shape and its subclass Square. The Square class has an init function which takes a length as argument. Both classes have an area function which can print the area of the shape where Shape's area is 0 by default [1] "
   ]
  },
  {
   "cell_type": "code",
   "execution_count": 4,
   "metadata": {},
   "outputs": [
    {
     "name": "stdout",
     "output_type": "stream",
     "text": [
      "Area of Shape by default: 0\n",
      "Area of Square with length 2.5: 6.25\n"
     ]
    }
   ],
   "source": [
    "class Shape:\n",
    "    def __init__(self):\n",
    "        pass\n",
    "\n",
    "    def area(self):\n",
    "        return 0\n",
    "\n",
    "class Square(Shape):\n",
    "    def __init__(self, length):\n",
    "        super().__init__()\n",
    "        self.length = length\n",
    "\n",
    "    def area(self):\n",
    "        return self.length*self.length\n",
    "\n",
    "    \n",
    "shape = Shape()\n",
    "length_square = float(input(\"Enter the length of the square: \"))\n",
    "square = Square(length=length_square)\n",
    "print(f\"Area of Shape by default: {shape.area()}\")\n",
    "print(f\"Area of Square with length {length_square}: {square.area()}\")"
   ]
  },
  {
   "cell_type": "markdown",
   "metadata": {},
   "source": [
    "### Create a function that takes an angle in radians and returns the corresponding angle in degrees rounded to one decimal place [1]"
   ]
  },
  {
   "cell_type": "code",
   "execution_count": 8,
   "metadata": {},
   "outputs": [
    {
     "name": "stdout",
     "output_type": "stream",
     "text": [
      "The radian 3.14 in degree is: 179.9\n"
     ]
    }
   ],
   "source": [
    "import math\n",
    "\n",
    "class Solution():\n",
    "    def radians_to_degrees(self, rad):\n",
    "\n",
    "        return round((rad * 360 / (2 * math.pi)), 1)\n",
    "    \n",
    "radians = float(input(\"Enter an angle: \"))\n",
    "my_solution = Solution()\n",
    "print(f\"The radian {radians} in degree is: {my_solution.radians_to_degrees(radians)}\")"
   ]
  },
  {
   "cell_type": "markdown",
   "metadata": {},
   "source": [
    "### In this challenge, establish if a given integer num is a Curzon number. If 1 plus 2 elevated to num is exactly divisible by 1 plus 2 multiplied by num, then num is a Curzon number [1]\n",
    "\n",
    "Given a non-negative integer num, implement a function that returns True if num is a\n",
    "Curzon number, or False otherwise"
   ]
  },
  {
   "cell_type": "code",
   "execution_count": 21,
   "metadata": {},
   "outputs": [
    {
     "name": "stdout",
     "output_type": "stream",
     "text": [
      "This number 14 is a Curzon number!\n"
     ]
    }
   ],
   "source": [
    "class Solution():\n",
    "    def is_curzon(self, num):\n",
    "        \"\"\"\n",
    "        :num: int\n",
    "        \"\"\"\n",
    "        if num <= 0:\n",
    "            raise ValueError(f\"Your number {num} should be positive!\")\n",
    "        \n",
    "        return (1 + 2**num) % (1 + 2*num) == 0\n",
    "    \n",
    "number = int(input(\"Enter a positive integer: \"))\n",
    "my_solution = Solution()\n",
    "if my_solution.is_curzon(number):\n",
    "    print(f\"This number {number} is a Curzon number!\")\n",
    "else:\n",
    "    print(f\"This number {number} is NOT a Curzon number!\")"
   ]
  },
  {
   "cell_type": "markdown",
   "metadata": {},
   "source": [
    "### Create a function that replaces all the vowels in a string with a specified character [1]"
   ]
  },
  {
   "cell_type": "code",
   "execution_count": 16,
   "metadata": {},
   "outputs": [
    {
     "name": "stdout",
     "output_type": "stream",
     "text": [
      "Your string is: Hi, my name is Silvano\n",
      "Your string replacing vowels with character # is: H#, m# n#m# #s S#lv#n#\n"
     ]
    }
   ],
   "source": [
    "class Solution():\n",
    "    def replace_vowels(self, s):\n",
    "        \"\"\"\n",
    "        :s: string\n",
    "        \"\"\"\n",
    "        if len(s) == 0:\n",
    "            raise ValueError(f\"Your string {s} should not be empty!\")\n",
    "        \n",
    "        vowels = [\"a\", \"e\", \"i\", \"o\", \"u\", \"y\"]\n",
    "        for vowel in vowels:\n",
    "            if vowel in s:\n",
    "                s = s.replace(vowel, \"#\")\n",
    "        return s\n",
    "    \n",
    "string_ = input(\"Enter a string: \")\n",
    "my_solution = Solution()\n",
    "print(f\"Your string is: {string_}\")\n",
    "print(f\"Your string replacing vowels with character # is: {my_solution.replace_vowels(string_)}\")"
   ]
  },
  {
   "cell_type": "markdown",
   "metadata": {},
   "source": [
    "### Write a function that calculates the factorial of a number recursively [1]"
   ]
  },
  {
   "cell_type": "code",
   "execution_count": 17,
   "metadata": {},
   "outputs": [
    {
     "name": "stdout",
     "output_type": "stream",
     "text": [
      "The factorial of 5 is: 120\n"
     ]
    }
   ],
   "source": [
    "class Solution():\n",
    "    def recursive_factorial(self, num):\n",
    "        \"\"\"\n",
    "        :num: int\n",
    "        \"\"\"\n",
    "        if num < 0:\n",
    "            raise ValueError(f\"Your number {num} should be greater than 0\")\n",
    "        \n",
    "        if num == 0:\n",
    "            return 1\n",
    "        return num * self.recursive_factorial(num-1)\n",
    "        \n",
    "    \n",
    "number = int(input(\"Enter a number: \"))\n",
    "my_solution = Solution()\n",
    "print(f\"The factorial of {number} is: {my_solution.recursive_factorial(number)}\")"
   ]
  },
  {
   "cell_type": "markdown",
   "metadata": {},
   "source": [
    "### Hamming distance is the number of characters that differ between two strings [1]\n",
    "\n",
    "To illustrate:\n",
    "String1: \"abcbba\"\n",
    "String2: \"abcbda\"\n",
    "Hamming Distance: 1 - \"b\" vs. \"d\" is the only difference."
   ]
  },
  {
   "cell_type": "code",
   "execution_count": 19,
   "metadata": {},
   "outputs": [
    {
     "name": "stdout",
     "output_type": "stream",
     "text": [
      "First string is: asdfghjkl\n",
      "Second string is: asdfghnbm\n",
      "Hamming distance is: 3\n"
     ]
    }
   ],
   "source": [
    "class Solution():\n",
    "    def hamming_distance(self, s_1, s_2):\n",
    "        \"\"\"\n",
    "        :s_1: string\n",
    "        :s_2: string\n",
    "        \"\"\"\n",
    "        if len(s_1) != len(s_2):\n",
    "            raise ValueError(\"Input strings must have the same length!\")\n",
    "        \n",
    "        h_distance = 0\n",
    "        for i in range(len(s_1)):\n",
    "            if s_1[i] != s_2[i]:\n",
    "                h_distance += 1\n",
    "        return h_distance\n",
    "    \n",
    "string_1 = input(\"Enter a string: \")\n",
    "string_2 = input(\"Enter a second string: \")\n",
    "my_solution = Solution()\n",
    "print(f\"First string is: {string_1}\")\n",
    "print(f\"Second string is: {string_2}\")\n",
    "print(f\"Hamming distance is: {my_solution.hamming_distance(string_1, string_2)}\")"
   ]
  },
  {
   "cell_type": "markdown",
   "metadata": {},
   "source": [
    "### Create a function that takes a list of non-negative integers and strings and return a new list without the strings [1]"
   ]
  },
  {
   "cell_type": "code",
   "execution_count": 3,
   "metadata": {},
   "outputs": [
    {
     "name": "stdout",
     "output_type": "stream",
     "text": [
      "List without strings and negative elements: [1, 4, 3]\n"
     ]
    }
   ],
   "source": [
    "class Solution():\n",
    "    def only_numerical(self, l):\n",
    "        \"\"\"\n",
    "        :l: list\n",
    "        \"\"\"\n",
    "        if len(l) == 0:\n",
    "            raise ValueError(\"Input list must has dimension greater than 0\")\n",
    "        \n",
    "        new_list = []\n",
    "        for element in l:\n",
    "            if type(element) != str and element > 0:\n",
    "                new_list.append(element)\n",
    "\n",
    "        return new_list\n",
    "    \n",
    "list_ = [1, \"ciao\", 4, 3, \"Silvano\", -21]\n",
    "my_solution = Solution()\n",
    "print(f\"List without strings and negative elements: {my_solution.only_numerical(list_)}\")"
   ]
  },
  {
   "cell_type": "markdown",
   "metadata": {},
   "source": [
    "### The \"Reverser\" takes a string as input and returns that string in reverse order, with the opposite case [1]"
   ]
  },
  {
   "cell_type": "code",
   "execution_count": 6,
   "metadata": {},
   "outputs": [
    {
     "name": "stdout",
     "output_type": "stream",
     "text": [
      "Original string: Ciao, my name is Silvano Quarto\n",
      "String reversed and swapped: OTRAUq ONAVLIs SI EMAN YM ,OAIc\n"
     ]
    }
   ],
   "source": [
    "class Solution():\n",
    "    def reverce_and_swap(self, s):\n",
    "        \"\"\"\n",
    "        :s: string\n",
    "        \"\"\"\n",
    "        if len(s) == 0:\n",
    "            raise ValueError(\"Input string must has dimension greater than 0\")\n",
    "        \n",
    "        return s[::-1].swapcase()\n",
    "    \n",
    "string_ = input(\"Enter a string: \")\n",
    "my_solution = Solution()\n",
    "print(f\"Original string: {string_}\")\n",
    "print(f\"String reversed and swapped: {my_solution.reverce_and_swap(string_)}\")"
   ]
  },
  {
   "cell_type": "markdown",
   "metadata": {},
   "source": [
    "### Write a function that moves all elements of one type to the end of the list [1]"
   ]
  },
  {
   "cell_type": "code",
   "execution_count": 5,
   "metadata": {},
   "outputs": [
    {
     "name": "stdout",
     "output_type": "stream",
     "text": [
      "Moving all elements 4 at the end of the list: [1, 2, 6, 2, 1, 3, 5, 6, 7, 8, 3, 4, 4, 4]\n"
     ]
    }
   ],
   "source": [
    "class Solution():\n",
    "    def move_element(self, l, elem):\n",
    "        \"\"\"\n",
    "        :l: list\n",
    "        :elem: object\n",
    "        \"\"\"\n",
    "        if len(l) == 0:\n",
    "            raise ValueError(\"Input list must has dimension greater than 0\")\n",
    "        \n",
    "        new_list = [i for i in l if i != elem]\n",
    "        new_list.extend([elem for _ in range(l.count(elem))])\n",
    "        return new_list\n",
    "    \n",
    "list_ = [1,2,4,6,2,1,3,4,5,6,7,8,4,3]\n",
    "number = 4\n",
    "my_solution = Solution()\n",
    "print(f\"Moving all elements {number} at the end of the list: {my_solution.move_element(list_, number)}\")"
   ]
  },
  {
   "cell_type": "markdown",
   "metadata": {},
   "source": [
    "### Create a function that reverses a boolean value and returns the string \"boolean expected\" if another variable type is given [1]"
   ]
  },
  {
   "cell_type": "code",
   "execution_count": 9,
   "metadata": {},
   "outputs": [
    {
     "name": "stdout",
     "output_type": "stream",
     "text": [
      "The reversed boolean is: True\n"
     ]
    }
   ],
   "source": [
    "class Solution():\n",
    "    def reverse_bool(self, value):\n",
    "        \"\"\"\n",
    "        :value: bool\n",
    "        \"\"\"\n",
    "\n",
    "        if isinstance(value, bool):\n",
    "            return not value\n",
    "        else:\n",
    "            return \"boolean expected\"\n",
    "            \n",
    "val = False\n",
    "my_solution = Solution()\n",
    "print(f\"The reversed boolean is: {my_solution.reverse_bool(val)}\")"
   ]
  },
  {
   "cell_type": "markdown",
   "metadata": {},
   "source": [
    "### Create a function that takes a single string as argument and returns an ordered list containing the indices of all capital letters in the string [1]"
   ]
  },
  {
   "cell_type": "code",
   "execution_count": 11,
   "metadata": {},
   "outputs": [
    {
     "name": "stdout",
     "output_type": "stream",
     "text": [
      "Original string: Ciao sono Silvano Quarto\n",
      "The indexes of the capital letters: [0, 10, 18]\n"
     ]
    }
   ],
   "source": [
    "class Solution():\n",
    "    def capital_indexes(self, s):\n",
    "        \"\"\"\n",
    "        :s: string\n",
    "        \"\"\"\n",
    "\n",
    "        if len(s) == 0:\n",
    "            raise ValueError(\"String dimension should be greater than 0\")\n",
    "        \n",
    "        return [i for i, character in enumerate(s) if character.isupper()]\n",
    "\n",
    "            \n",
    "string_ = input(\"Enter a string: \")\n",
    "my_solution = Solution()\n",
    "print(f\"Original string: {string_}\")\n",
    "print(f\"The indexes of the capital letters: {my_solution.capital_indexes(string_)}\")"
   ]
  },
  {
   "cell_type": "markdown",
   "metadata": {},
   "source": [
    "### Given a list of numbers, create a function which returns the list but with each element's index in the list added to itself [1]\n",
    "This means you add 0 to the number at index 0, add 1 to the number at index 1, etc..."
   ]
  },
  {
   "cell_type": "code",
   "execution_count": null,
   "metadata": {},
   "outputs": [
    {
     "name": "stdout",
     "output_type": "stream",
     "text": [
      "Original list: [1, 3, 5, 7, 9]\n",
      "The list with added the indeces: [1, 4, 7, 10, 13]\n"
     ]
    }
   ],
   "source": [
    "class Solution():\n",
    "    def adding_indeces(self, l):\n",
    "        \"\"\"\n",
    "        :l: List\n",
    "        \"\"\"\n",
    "\n",
    "        if len(l) == 0:\n",
    "            raise ValueError(\"List dimension should be greater than 0\")\n",
    "        \n",
    "        return [i + num for i, num in enumerate(l)]\n",
    "\n",
    "            \n",
    "list_ = [1, 3, 5, 7, 9]\n",
    "my_solution = Solution()\n",
    "print(f\"Original list: {list_}\")\n",
    "print(f\"The list with added the indeces: {my_solution.adding_indeces(list_)}\")"
   ]
  },
  {
   "cell_type": "markdown",
   "metadata": {},
   "source": [
    "### Create the function that takes a list of dictionaries and returns the sum of people's budgets [1]"
   ]
  },
  {
   "cell_type": "code",
   "execution_count": null,
   "metadata": {},
   "outputs": [
    {
     "name": "stdout",
     "output_type": "stream",
     "text": [
      "The sum for each budget is: 65700\n"
     ]
    }
   ],
   "source": [
    "class Solution():\n",
    "    def people_budget(self, people_dict):\n",
    "        \"\"\"\n",
    "        :people_dict: Dict\n",
    "        \"\"\"\n",
    "\n",
    "        return sum(person['budget'] for person in people_dict)\n",
    "            \n",
    "people = [\n",
    "{'name': 'John', 'age': 21, 'budget': 23000},\n",
    "{'name': 'Steve', 'age': 32, 'budget': 40000},\n",
    "{'name': 'Martin', 'age': 16, 'budget': 2700}\n",
    "]\n",
    "my_solution = Solution()\n",
    "print(f\"The sum for each budget is: {my_solution.people_budget(people)}\")"
   ]
  },
  {
   "cell_type": "markdown",
   "metadata": {},
   "source": [
    "### Create a function that takes a string and returns a string with its letters in alphabetical order [1]"
   ]
  },
  {
   "cell_type": "code",
   "execution_count": 9,
   "metadata": {},
   "outputs": [
    {
     "name": "stdout",
     "output_type": "stream",
     "text": [
      "Original string: today is a good day\n",
      "The string in alphabetic order is: aaadddgiooostyy\n"
     ]
    }
   ],
   "source": [
    "class Solution():\n",
    "    def alph_string(self, s):\n",
    "        \"\"\"\n",
    "        :s: string\n",
    "        \"\"\"\n",
    "\n",
    "        if len(s) == 0:\n",
    "            raise ValueError(\"String dimension should be greater than 0\")\n",
    "        \n",
    "        return \"\".join(sorted(s)).replace(\" \", \"\")\n",
    "        \n",
    "\n",
    "string_ = input(\"Enter a string: \")\n",
    "my_solution = Solution()\n",
    "print(f\"Original string: {string_}\")\n",
    "print(f\"The string in alphabetic order is: {my_solution.alph_string(string_)}\")"
   ]
  },
  {
   "cell_type": "markdown",
   "metadata": {},
   "source": [
    "### Replicate Bubble Sort"
   ]
  },
  {
   "cell_type": "code",
   "execution_count": 12,
   "metadata": {},
   "outputs": [
    {
     "name": "stdout",
     "output_type": "stream",
     "text": [
      "Original list: [11, 5, 1, 2, 3, 6, 8, 2, 3, 5, 6, 9, 0]\n",
      "List sorted with Bubble Sort: [11, 9, 8, 6, 6, 5, 5, 3, 3, 2, 2, 1, 0]\n"
     ]
    }
   ],
   "source": [
    "class Solution():\n",
    "    def bubble_sort(self, nums, mode = \"increasing\"):\n",
    "        \"\"\"\n",
    "        :nums: List\n",
    "        :mode: str\n",
    "        \"\"\"\n",
    "\n",
    "        if len(nums) == 0:\n",
    "            raise ValueError(\"List dimension should be greater than 0\")\n",
    "        \n",
    "        for i in range(0, len(nums)):\n",
    "            for j in range(0, len(nums) - i -1):\n",
    "                if mode == \"increasing\":\n",
    "                    if nums[j] > nums[j+1]:\n",
    "                        nums[j], nums[j+1] = nums[j+1], nums[j]\n",
    "                elif mode == 'decreasing':\n",
    "                    if nums[j] < nums[j+1]:\n",
    "                        nums[j], nums[j+1] = nums[j+1], nums[j]\n",
    "                else:\n",
    "                    raise ValueError(f\"Modality is not {mode}, you can choose between increasing or decreasing!\")\n",
    "\n",
    "        return nums\n",
    "        \n",
    "\n",
    "list_ = [11,5,1,2,3,6,8,2,3,5,6,9,0]\n",
    "modality = \"decreasing\"\n",
    "my_solution = Solution()\n",
    "print(f\"Original list: {list_}\")\n",
    "print(f\"List sorted with Bubble Sort: {my_solution.bubble_sort(list_, modality)}\")"
   ]
  },
  {
   "cell_type": "markdown",
   "metadata": {},
   "source": [
    "### Create a function that takes a string and returns True or False, depending on whether the characters are in order or not [1]"
   ]
  },
  {
   "cell_type": "code",
   "execution_count": 14,
   "metadata": {},
   "outputs": [
    {
     "name": "stdout",
     "output_type": "stream",
     "text": [
      "Original string: alpz\n",
      "This string is ordere?\n",
      "True\n"
     ]
    }
   ],
   "source": [
    "class Solution():\n",
    "    def is_ordered(self, s):\n",
    "        \"\"\"\n",
    "        :s: str\n",
    "        \"\"\"\n",
    "\n",
    "        if len(s) == 0:\n",
    "            raise ValueError(\"String dimension should be greater than 0\")\n",
    "        \n",
    "        return s == ''.join(sorted(s))\n",
    "        \n",
    "\n",
    "string_ = input(\"Enter a string: \")\n",
    "my_solution = Solution()\n",
    "print(f\"Original string: {string_}\")\n",
    "print(f\"This string is ordere?\\n{my_solution.is_ordered(string_)}\")"
   ]
  },
  {
   "cell_type": "markdown",
   "metadata": {},
   "source": [
    "## Intermediate"
   ]
  },
  {
   "cell_type": "markdown",
   "metadata": {},
   "source": [
    "### Write a Python program to find uncommon words from two Strings [1]"
   ]
  },
  {
   "cell_type": "code",
   "execution_count": null,
   "metadata": {},
   "outputs": [],
   "source": [
    "class Solution(object):\n",
    "    def uncommon_words(self, s_1, s_2):\n",
    "        \"\"\"\n",
    "        :s_1: string\n",
    "        :s_2: string\n",
    "        \"\"\"\n",
    "\n",
    "        if len(s_1) < 0 or len(s_2) < 0:\n",
    "            raise(ValueError(f\"Strings with wrong length: {len(s_1)}, {len(s_2)}\"))\n",
    "        \n",
    "        w_1 = set(s_1.split())\n",
    "        w_2 = set(s_2.split())\n",
    "        \n",
    "        return list(w_1.symmetric_difference(w_2))\n",
    "     \n",
    "string_1 = str(input(\"Enter a string: \"))\n",
    "string_2 = str(input(\"Enter a string: \"))\n",
    "my_solution = Solution()\n",
    "print(f\"String 1: {string_1}\")\n",
    "print(f\"String 2: {string_2}\")\n",
    "print(f\"The uncommon words are: {my_solution.uncommon_words(string_1, string_2)}\")"
   ]
  },
  {
   "cell_type": "markdown",
   "metadata": {},
   "source": [
    "### From [1]\n",
    "\n",
    "A website requires the users to input username and password to register. Write a\n",
    "program to check the validity of password input by users. Following are the criteria\n",
    "for checking the password:\n",
    "1. At least 1 letter between [a-z]\n",
    "2. At least 1 number between [0-9]\n",
    "1. At least 1 letter between [A-Z]\n",
    "3. At least 1 character from [$#@]\n",
    "4. Minimum length of transaction password: 6\n",
    "5. Maximum length of transaction password: 12\n",
    "\n",
    "Your program should accept a sequence of comma separated passwords and will\n",
    "check them according to the above criteria. Passwords that match the criteria are to\n",
    "be printed, each separated by a comma."
   ]
  },
  {
   "cell_type": "code",
   "execution_count": 5,
   "metadata": {},
   "outputs": [
    {
     "name": "stdout",
     "output_type": "stream",
     "text": [
      "These are the possible passwords: ABd1234@1,a F1#,2w3E*,2We3345\n",
      "ABd1234@1\n"
     ]
    }
   ],
   "source": [
    "import re\n",
    "\n",
    "class Solution():\n",
    "    def validate_passwords(self, passwords):\n",
    "        \"\"\"\n",
    "        :passwords: string\n",
    "        \"\"\"\n",
    "        allowed_characters = {\n",
    "        \"lowercase\": r\"[a-z]\",       \n",
    "        \"uppercase\": r\"[A-Z]\",       \n",
    "        \"digit\": r\"[0-9]\",          \n",
    "        \"special_char\": r\"[$#@]\",    \n",
    "        }\n",
    "        \n",
    "        list_passwords = passwords.split(\",\")\n",
    "        valid_passwords = []\n",
    "\n",
    "        for password in list_passwords:\n",
    "            if (\n",
    "                6 <= len(password) <= 12 and\n",
    "                re.search(allowed_characters[\"lowercase\"], password) and\n",
    "                re.search(allowed_characters[\"uppercase\"], password) and\n",
    "                re.search(allowed_characters[\"digit\"], password) and\n",
    "                re.search(allowed_characters[\"special_char\"], password)\n",
    "            ):\n",
    "                valid_passwords.append(password)\n",
    "\n",
    "        return valid_passwords\n",
    "\n",
    "string_passwords = input(\"Enter passwords separated by commas: \")\n",
    "print(f\"These are the possible passwords: {string_passwords}\")\n",
    "my_solution = Solution()\n",
    "print(\",\".join(my_solution.validate_passwords(string_passwords)))"
   ]
  },
  {
   "cell_type": "markdown",
   "metadata": {},
   "source": [
    "### Please write a program to compress and decompress the string \"hello world!hello world!hello world!hello world!\" [1]"
   ]
  },
  {
   "cell_type": "code",
   "execution_count": 14,
   "metadata": {},
   "outputs": [
    {
     "name": "stdout",
     "output_type": "stream",
     "text": [
      "The string is: hello world!hello world!hello world!hello world!\n",
      "Compressed String: b'x\\x9c\\xcbH\\xcd\\xc9\\xc9W(\\xcf/\\xcaIQ\\xcc \\x82\\r\\x00\\xbd[\\x11\\xf5'\n",
      "Decompressed String: hello world!hello world!hello world!hello world!\n"
     ]
    }
   ],
   "source": [
    "import zlib\n",
    "\n",
    "class Solution():\n",
    "    def compress_decompress_string(self, s):\n",
    "        \"\"\"\n",
    "        :s: string\n",
    "        \"\"\"\n",
    "\n",
    "        if len(s) <= 0:\n",
    "            raise ValueError(f\"String lenght is {len(s)}!\")\n",
    "        \n",
    "        compressed_string = zlib.compress(s.encode())\n",
    "        \n",
    "        decompressed_string = zlib.decompress(compressed_string).decode()\n",
    "        \n",
    "        return compressed_string, decompressed_string\n",
    "\n",
    "_string = input(\"Enter a string: \")\n",
    "print(f\"The string is: {_string}\")\n",
    "my_solution = Solution()\n",
    "string_compressed, string_decompressed = my_solution.compress_decompress_string(_string)\n",
    "print(\"Compressed String:\", string_compressed)\n",
    "print(\"Decompressed String:\", string_decompressed)"
   ]
  },
  {
   "cell_type": "markdown",
   "metadata": {},
   "source": [
    "### Please write a binary search function which searches an item in a sorted list. The function should return the index of element to be searched in the list [1]"
   ]
  },
  {
   "cell_type": "code",
   "execution_count": 6,
   "metadata": {},
   "outputs": [
    {
     "name": "stdout",
     "output_type": "stream",
     "text": [
      "Element 11 found at index 5.\n"
     ]
    }
   ],
   "source": [
    "class Solution():\n",
    "    def binary_search(self, l, t):\n",
    "        \"\"\"\n",
    "        :l: List\n",
    "        :t: int\n",
    "        \"\"\"\n",
    "\n",
    "        left, right = 0, len(l) - 1\n",
    "\n",
    "        while left <= right:\n",
    "\n",
    "            middle = (left + right) // 2\n",
    "\n",
    "            if l[middle] == t:\n",
    "                return middle\n",
    "            \n",
    "            elif l[middle] < t:\n",
    "                left = middle + 1\n",
    "\n",
    "            else:\n",
    "                right = middle - 1\n",
    "\n",
    "        return -1\n",
    "\n",
    "        \n",
    "\n",
    "sorted_list = [1, 3, 5, 7, 9, 11, 13, 15]\n",
    "target = 11\n",
    "my_solution = Solution()\n",
    "index = my_solution.binary_search(sorted_list, target)\n",
    "if index != -1:\n",
    "    print(f\"Element {target} found at index {index}.\")\n",
    "else:\n",
    "    print(f\"Element {target} not found in the list.\")"
   ]
  },
  {
   "cell_type": "markdown",
   "metadata": {},
   "source": [
    "### Please write a program using generator to print the numbers which can be divisible by 5 and 7 between 0 and n [1]"
   ]
  },
  {
   "cell_type": "code",
   "execution_count": 14,
   "metadata": {},
   "outputs": [
    {
     "name": "stdout",
     "output_type": "stream",
     "text": [
      "Numbers divisible by 5 and 7 from 0 to 100:\n",
      "0\n",
      "35\n",
      "70\n"
     ]
    }
   ],
   "source": [
    "class Solution():\n",
    "    def is_divisible_by_5_and_7(self, num):\n",
    "        \"\"\"\n",
    "        :num: int\n",
    "        \"\"\"\n",
    "\n",
    "        if num <= 0:\n",
    "            raise ValueError(f\"Your number {num} should be greater than 0\")\n",
    "\n",
    "        for i in range(0,num+1):\n",
    "            if i % 5 == 0 and i % 7 == 0:\n",
    "                yield i\n",
    "\n",
    "        \n",
    "\n",
    "maximum = int(input(\"Enter a positive number: \"))\n",
    "print(f\"Numbers divisible by 5 and 7 from 0 to {maximum}:\")\n",
    "my_solution = Solution()\n",
    "for value in my_solution.is_divisible_by_5_and_7(maximum):\n",
    "    print(value)"
   ]
  },
  {
   "cell_type": "markdown",
   "metadata": {},
   "source": [
    "### Please write a program using generator to print the even numbers between 0 and n in comma separated form while n is input by console [1]"
   ]
  },
  {
   "cell_type": "code",
   "execution_count": 17,
   "metadata": {},
   "outputs": [
    {
     "name": "stdout",
     "output_type": "stream",
     "text": [
      "Even numbers from 0 to 25:\n",
      "2, 4, 6, 8, 10, 12, 14, 16, 18, 20, 22, 24\n"
     ]
    }
   ],
   "source": [
    "class Solution():\n",
    "    def is_even(self, num):\n",
    "        \"\"\"\n",
    "        :num: int\n",
    "        \"\"\"\n",
    "\n",
    "        if num <= 0:\n",
    "            raise ValueError(f\"Your number {num} should be greater than 0\")\n",
    "\n",
    "        for i in range(1,num+1):\n",
    "            if i % 2 == 0:\n",
    "                yield i\n",
    "\n",
    "    \n",
    "maximum = int(input(\"Enter a positive number: \"))\n",
    "print(f\"Even numbers from 0 to {maximum}:\")\n",
    "my_solution = Solution()\n",
    "print(\", \".join(map(str, my_solution.is_even(maximum))))"
   ]
  },
  {
   "cell_type": "markdown",
   "metadata": {},
   "source": [
    "### From [1]\n",
    "\n",
    "Assuming that we have some email addresses in the\n",
    "\"username@companyname.com (mailto:username@companyname.com)\" format,\n",
    "please write program to print the user name of a given email address. Both user\n",
    "names and company names are composed of letters only.\n",
    "Example:\n",
    "If the following email address is given as input to the program:\n",
    "john@google.com (mailto:john@google.com)\n",
    "Then, the output of the program should be:\n",
    "john"
   ]
  },
  {
   "cell_type": "code",
   "execution_count": 19,
   "metadata": {},
   "outputs": [
    {
     "name": "stdout",
     "output_type": "stream",
     "text": [
      "Your email is: silvanoquarto@gmail.com:\n",
      "Your username is: silvanoquarto\n"
     ]
    }
   ],
   "source": [
    "class Solution():\n",
    "    def extract_username(self, e):\n",
    "        \"\"\"\n",
    "        :e: string\n",
    "        \"\"\"\n",
    "\n",
    "        if len(e) == 0:\n",
    "            raise ValueError(f\"Your email {e} is incorrect! Write your email\")\n",
    "\n",
    "        user = e.split(\"@\")\n",
    "        return user[0]\n",
    "        \n",
    "email = input(\"Enter your email: \")\n",
    "print(f\"Your email is: {email}:\")\n",
    "my_solution = Solution()\n",
    "print(f\"Your username is: {my_solution.extract_username(email)}\")"
   ]
  },
  {
   "cell_type": "markdown",
   "metadata": {},
   "source": [
    "### Create a function that returns a base-2 (binary) representation of a base-10 (decimal) string number. To convert is simple: ((2) means base-2 and (10) means base-10) 010101001(2) = 1 + 8 + 32 + 128. [1]"
   ]
  },
  {
   "cell_type": "code",
   "execution_count": 7,
   "metadata": {},
   "outputs": [
    {
     "name": "stdout",
     "output_type": "stream",
     "text": [
      "Binary representation of 133 is: 10000101\n"
     ]
    }
   ],
   "source": [
    "class Solution():\n",
    "    def binary_conversion(self, num):\n",
    "        \"\"\"\n",
    "        :num: int\n",
    "        \"\"\"\n",
    "        if num <= 0:\n",
    "            raise ValueError(f\"Your number {num} should be positive!\")\n",
    "        \n",
    "        binary_repr = \"\"\n",
    "        power = 0\n",
    "        \n",
    "        while num > 0:\n",
    "            if num % 2 == 1:\n",
    "                binary_repr = \"1\" + binary_repr\n",
    "            else:\n",
    "                binary_repr = \"0\" + binary_repr\n",
    "            \n",
    "            num //= 2\n",
    "            power += 1\n",
    "\n",
    "        return binary_repr\n",
    "    \n",
    "number = int(input(\"Enter a number: \"), 10)\n",
    "my_solution = Solution()\n",
    "print(f\"Binary representation of {number} is: {my_solution.binary_conversion(number)}\")"
   ]
  },
  {
   "cell_type": "markdown",
   "metadata": {},
   "source": [
    "## Advanced"
   ]
  },
  {
   "cell_type": "markdown",
   "metadata": {},
   "source": [
    "# Pandas and Numpy Questions & Answers\n",
    "\n",
    "These are some references about this topic:\n",
    "- [1] [Numpy link](https://devinterview.io/questions/machine-learning-and-data-science/numpy-interview-questions/)\n",
    "- [2] [Pandas link](https://devinterview.io/questions/machine-learning-and-data-science/pandas-interview-questions/)"
   ]
  },
  {
   "cell_type": "code",
   "execution_count": 1,
   "metadata": {},
   "outputs": [],
   "source": [
    "import numpy as np"
   ]
  },
  {
   "cell_type": "markdown",
   "metadata": {},
   "source": [
    "## Easy"
   ]
  },
  {
   "cell_type": "markdown",
   "metadata": {},
   "source": [
    "### How do you create a NumPy array from a regular Python list? [1]"
   ]
  },
  {
   "cell_type": "code",
   "execution_count": null,
   "metadata": {},
   "outputs": [
    {
     "name": "stdout",
     "output_type": "stream",
     "text": [
      "This is the array: [1 2 3 4 5 6 7]\n",
      "Array type is: <class 'numpy.ndarray'>\n"
     ]
    }
   ],
   "source": [
    "class Solution(object):\n",
    "    def list_to_array(self, l):\n",
    "        \"\"\"\n",
    "        :l: List\n",
    "        \"\"\"\n",
    "\n",
    "        if len(l) == 0:\n",
    "            raise(ValueError(f\"List with wrong length: {len(l)}\"))\n",
    "        \n",
    "        return np.array(l)\n",
    "     \n",
    "list_ = [1,2,3,4,5,6,7]\n",
    "my_solution = Solution()\n",
    "print(f\"This is the array: {my_solution.list_to_array(list_)}\")\n",
    "print(f\"Array type is: {type(my_solution.list_to_array(list_))}\")"
   ]
  },
  {
   "cell_type": "markdown",
   "metadata": {},
   "source": [
    "### How do you perform matrix multiplication using NumPy? [1]"
   ]
  },
  {
   "cell_type": "code",
   "execution_count": 14,
   "metadata": {},
   "outputs": [
    {
     "name": "stdout",
     "output_type": "stream",
     "text": [
      "The dot product is: \n",
      "[[ 27  30  33]\n",
      " [ 61  68  75]\n",
      " [ 95 106 117]]\n"
     ]
    }
   ],
   "source": [
    "class Solution(object):\n",
    "    def multiply_matrix(self, mat_1, mat_2):\n",
    "        \"\"\"\n",
    "        :mat_1: Matrix\n",
    "        :mat_2: Matrix\n",
    "        \"\"\"\n",
    "\n",
    "        if mat_1.shape[1] != mat_2.shape[0]:\n",
    "            raise(ValueError(f\"Incorrect shape for matrix: {mat_1.shape}, {mat_2.shape}\"))\n",
    "        \n",
    "        return np.dot(mat_1, mat_2)\n",
    "     \n",
    "matrix_1 = np.array([[1,2], [3,4], [5,6]])\n",
    "matrix_2 = np.array([[7,8,9], [10,11,12]])\n",
    "my_solution = Solution()\n",
    "print(f\"The dot product is: \\n{my_solution.multiply_matrix(matrix_1, matrix_2)}\")"
   ]
  },
  {
   "cell_type": "markdown",
   "metadata": {},
   "source": [
    "### How to invert a matrix? [1]"
   ]
  },
  {
   "cell_type": "code",
   "execution_count": 17,
   "metadata": {},
   "outputs": [
    {
     "name": "stdout",
     "output_type": "stream",
     "text": [
      "The inverse of the matrix is:\n",
      "[[ 0.8 -0.6]\n",
      " [-0.2  0.4]]\n"
     ]
    }
   ],
   "source": [
    "class Solution(object):\n",
    "    def invert_matrix(self, mat):\n",
    "        \"\"\"\n",
    "        :mat: Matrix \n",
    "        \"\"\"\n",
    "        if mat.shape[0] != mat.shape[1]:\n",
    "            raise ValueError(f\"Matrix must be square, but got shape: {mat.shape}\")\n",
    "        \n",
    "        return np.linalg.inv(mat)\n",
    "\n",
    "matrix = np.array([[2, 3], [1, 4]])\n",
    "my_solution = Solution()\n",
    "print(f\"The inverse of the matrix is:\\n{my_solution.invert_matrix(matrix)}\")"
   ]
  },
  {
   "cell_type": "markdown",
   "metadata": {},
   "source": [
    "### How do you calculate the determinant of a matrix? [1]"
   ]
  },
  {
   "cell_type": "code",
   "execution_count": 20,
   "metadata": {},
   "outputs": [
    {
     "name": "stdout",
     "output_type": "stream",
     "text": [
      "The determinant of the matrix is:\n",
      "5.0\n"
     ]
    }
   ],
   "source": [
    "class Solution(object):\n",
    "    def det_matrix(self, mat):\n",
    "        \"\"\"\n",
    "        :mat: Matrix \n",
    "        \"\"\"\n",
    "        if mat.shape[0] != mat.shape[1]:\n",
    "            raise ValueError(f\"Matrix must be square, but got shape: {mat.shape}\")\n",
    "        \n",
    "        return round(np.linalg.det(mat), 2)\n",
    "\n",
    "matrix = np.array([[2, 3], [1, 4]])\n",
    "my_solution = Solution()\n",
    "print(f\"The determinant of the matrix is:\\n{my_solution.det_matrix(matrix)}\")"
   ]
  },
  {
   "cell_type": "markdown",
   "metadata": {},
   "source": [
    "### How do you concatenate two arrays? [1]"
   ]
  },
  {
   "cell_type": "code",
   "execution_count": 10,
   "metadata": {},
   "outputs": [
    {
     "name": "stdout",
     "output_type": "stream",
     "text": [
      "The concatenated array is:\n",
      "[[2 3]\n",
      " [1 4]\n",
      " [6 7]\n",
      " [8 9]]\n"
     ]
    }
   ],
   "source": [
    "class Solution(object):\n",
    "    def concat_arrays(self, arr_1, arr_2, mode):\n",
    "        \"\"\"\n",
    "        :arr_1: np.array \n",
    "        :arr_2: np.array \n",
    "        :mode: string \n",
    "        \"\"\"\n",
    "        if mode == 'vertically':\n",
    "            #return np.concatenate((arr_1, arr_2), axis = 0)\n",
    "            return np.vstack((arr_1, arr_2))\n",
    "        elif mode == 'horizontally':\n",
    "            #return np.concatenate((arr_1, arr_2), axis = 1)\n",
    "            return np.hstack((arr_1, arr_2))\n",
    "        else:\n",
    "            raise ValueError(f\"Choose a correct mode, not {mode}\")\n",
    "\n",
    "array_1 = np.array([[2, 3], [1, 4]])\n",
    "array_2 = np.array([[6, 7], [8, 9]])\n",
    "direction = \"vertically\"\n",
    "my_solution = Solution()\n",
    "print(f\"The concatenated array is:\\n{my_solution.concat_arrays(array_1, array_2, direction)}\")"
   ]
  },
  {
   "cell_type": "markdown",
   "metadata": {},
   "source": [
    "### How do you flat a multi dimensional array? [1]"
   ]
  },
  {
   "cell_type": "code",
   "execution_count": null,
   "metadata": {},
   "outputs": [
    {
     "name": "stdout",
     "output_type": "stream",
     "text": [
      "The flatten array is:\n",
      "[2 3 1 4]\n"
     ]
    }
   ],
   "source": [
    "class Solution(object):\n",
    "    def flat_array(self, arr):\n",
    "        \"\"\"\n",
    "        :arr: np.array \n",
    "        \"\"\"\n",
    "        # for a memory-efficient solution\n",
    "        #return arr.ravel()\n",
    "        #return np.ravel(arr)\n",
    "\n",
    "        return arr.reshape(-1)\n",
    "    \n",
    "        #return arr.flatten()\n",
    "\n",
    "array_1 = np.array([[2, 3], [1, 4]])\n",
    "my_solution = Solution()\n",
    "print(f\"The flatten array is:\\n{my_solution.flat_array(array_1)}\")"
   ]
  },
  {
   "cell_type": "markdown",
   "metadata": {},
   "source": [
    "### How do you calculate the eigenvalues and eigenvectors of a matrix? [1]"
   ]
  },
  {
   "cell_type": "code",
   "execution_count": 20,
   "metadata": {},
   "outputs": [
    {
     "name": "stdout",
     "output_type": "stream",
     "text": [
      "The eigenvalues are:\n",
      "[1. 5.]\n",
      "The eigenvectors are:\n",
      "[[-0.9486833  -0.70710678]\n",
      " [ 0.31622777 -0.70710678]]\n"
     ]
    }
   ],
   "source": [
    "class Solution(object):\n",
    "    def eingen_vec_val(self, mat):\n",
    "        \"\"\"\n",
    "        :mat: Matrix\n",
    "        \"\"\"\n",
    "        return np.linalg.eig(mat)\n",
    "\n",
    "matrix = np.array([[2, 3], [1, 4]])\n",
    "my_solution = Solution()\n",
    "eigen_val, eigen_vec = my_solution.eingen_vec_val(matrix)\n",
    "print(f\"The eigenvalues are:\\n{eigen_val}\")\n",
    "print(f\"The eigenvectors are:\\n{eigen_vec}\")"
   ]
  },
  {
   "cell_type": "markdown",
   "metadata": {},
   "source": [
    "### How can you reverse an array? [1]"
   ]
  },
  {
   "cell_type": "code",
   "execution_count": 3,
   "metadata": {},
   "outputs": [
    {
     "name": "stdout",
     "output_type": "stream",
     "text": [
      "The reversed array is:\n",
      "[4 1 3 2]\n"
     ]
    }
   ],
   "source": [
    "class Solution(object):\n",
    "    def reverse_array(self, arr):\n",
    "        \"\"\"\n",
    "        :arr: array\n",
    "        \"\"\"\n",
    "        return arr[::-1]\n",
    "\n",
    "array = np.array([2, 3, 1, 4])\n",
    "my_solution = Solution()\n",
    "print(f\"The reversed array is:\\n{my_solution.reverse_array(array)}\")"
   ]
  },
  {
   "cell_type": "markdown",
   "metadata": {},
   "source": [
    "### How do you apply conditional filter to a NumPy array? [1]"
   ]
  },
  {
   "cell_type": "code",
   "execution_count": 4,
   "metadata": {},
   "outputs": [
    {
     "name": "stdout",
     "output_type": "stream",
     "text": [
      "Array with values greater than 4: [ 5  6  7  8  9 10]\n"
     ]
    }
   ],
   "source": [
    "array_test = np.array([1,2,3,4,5,6,7,8,9,10])\n",
    "\n",
    "threshold = 4\n",
    "\n",
    "print(f\"Array with values greater than {threshold}: {array_test[array_test>threshold]}\")"
   ]
  },
  {
   "cell_type": "markdown",
   "metadata": {},
   "source": [
    "### How to normalize an array? [1]"
   ]
  },
  {
   "cell_type": "code",
   "execution_count": 13,
   "metadata": {},
   "outputs": [
    {
     "data": {
      "text/plain": [
       "array([0.        , 0.11111111, 0.22222222, 0.33333333, 0.44444444,\n",
       "       0.55555556, 0.66666667, 0.77777778, 0.88888889, 1.        ])"
      ]
     },
     "execution_count": 13,
     "metadata": {},
     "output_type": "execute_result"
    }
   ],
   "source": [
    "array_test = np.array([1,2,3,4,5,6,7,8,9,10])\n",
    "\n",
    "max = np.max(array_test)\n",
    "min = np.min(array_test)\n",
    "\n",
    "normalized_array = (array_test - min) / (max - min)\n",
    "\n",
    "normalized_array"
   ]
  },
  {
   "cell_type": "markdown",
   "metadata": {},
   "source": [
    "### How can you compute percentiles with NumPy? [1]"
   ]
  },
  {
   "cell_type": "code",
   "execution_count": 19,
   "metadata": {},
   "outputs": [
    {
     "name": "stdout",
     "output_type": "stream",
     "text": [
      "The 90-th percentile is: 9.1\n"
     ]
    }
   ],
   "source": [
    "array_test = np.array([1,2,3,4,5,6,7,8,9,10])\n",
    "\n",
    "percentile = 90\n",
    "\n",
    "print(f\"The {percentile}-th percentile is: {np.percentile(array_test, percentile)}\")"
   ]
  },
  {
   "cell_type": "markdown",
   "metadata": {},
   "source": [
    "### How to calculate Correlation Coefficient [1]"
   ]
  },
  {
   "cell_type": "code",
   "execution_count": 28,
   "metadata": {},
   "outputs": [
    {
     "data": {
      "text/plain": [
       "array([[ 1.        , -0.22913281, -0.28013944,  0.03583473,  0.01016097,\n",
       "        -0.09425893],\n",
       "       [-0.22913281,  1.        ,  0.17345761, -0.16852136,  0.06883971,\n",
       "         0.39088966],\n",
       "       [-0.28013944,  0.17345761,  1.        , -0.24022698,  0.03237194,\n",
       "         0.11412965],\n",
       "       [ 0.03583473, -0.16852136, -0.24022698,  1.        , -0.0941801 ,\n",
       "         0.25213887],\n",
       "       [ 0.01016097,  0.06883971,  0.03237194, -0.0941801 ,  1.        ,\n",
       "        -0.12436464],\n",
       "       [-0.09425893,  0.39088966,  0.11412965,  0.25213887, -0.12436464,\n",
       "         1.        ]])"
      ]
     },
     "execution_count": 28,
     "metadata": {},
     "output_type": "execute_result"
    }
   ],
   "source": [
    "shape = (20,6)\n",
    "\n",
    "features = np.random.rand(*shape)\n",
    "#features = np.random.randn(*shape)\n",
    "#features = np.random.randint(0,10, size = shape)\n",
    "#features = 5 + (10-5) * np.random.rand(*shape)\n",
    "\n",
    "np.corrcoef(features, rowvar=False)"
   ]
  },
  {
   "cell_type": "markdown",
   "metadata": {},
   "source": [
    "### How to calculate Cumulative Sum? [1]"
   ]
  },
  {
   "cell_type": "code",
   "execution_count": null,
   "metadata": {},
   "outputs": [
    {
     "data": {
      "text/plain": [
       "array([ 1,  3,  6, 10, 15, 21, 28, 36, 45, 55])"
      ]
     },
     "execution_count": 32,
     "metadata": {},
     "output_type": "execute_result"
    }
   ],
   "source": [
    "array_test = np.array([1,2,3,4,5,6,7,8,9,10])\n",
    "\n",
    "np.cumsum(array_test)\n",
    "\n",
    "# cumulative product\n",
    "# np.cumprod(array_test)"
   ]
  }
 ],
 "metadata": {
  "kernelspec": {
   "display_name": ".venv",
   "language": "python",
   "name": "python3"
  },
  "language_info": {
   "codemirror_mode": {
    "name": "ipython",
    "version": 3
   },
   "file_extension": ".py",
   "mimetype": "text/x-python",
   "name": "python",
   "nbconvert_exporter": "python",
   "pygments_lexer": "ipython3",
   "version": "3.11.9"
  }
 },
 "nbformat": 4,
 "nbformat_minor": 2
}
